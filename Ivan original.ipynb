{
 "cells": [
  {
   "cell_type": "markdown",
   "metadata": {},
   "source": [
    "# Notebook de pruebas en el manejo de series temporales con Pandas\n",
    "\n",
    "## 1. Importar liberías"
   ]
  },
  {
   "cell_type": "code",
   "execution_count": 1,
   "metadata": {},
   "outputs": [
    {
     "data": {
      "text/plain": [
       "'1.0.5'"
      ]
     },
     "execution_count": 1,
     "metadata": {},
     "output_type": "execute_result"
    }
   ],
   "source": [
    "import pandas\n",
    "pandas.__version__"
   ]
  },
  {
   "cell_type": "code",
   "execution_count": 2,
   "metadata": {},
   "outputs": [],
   "source": [
    "import pandas as pd"
   ]
  },
  {
   "cell_type": "code",
   "execution_count": 3,
   "metadata": {},
   "outputs": [],
   "source": [
    "import numpy as np"
   ]
  },
  {
   "cell_type": "code",
   "execution_count": 4,
   "metadata": {},
   "outputs": [],
   "source": [
    "import os"
   ]
  },
  {
   "cell_type": "code",
   "execution_count": 5,
   "metadata": {},
   "outputs": [],
   "source": [
    "from datetime import datetime, timedelta"
   ]
  },
  {
   "cell_type": "code",
   "execution_count": 6,
   "metadata": {},
   "outputs": [],
   "source": [
    "from tqdm import tqdm"
   ]
  },
  {
   "cell_type": "code",
   "execution_count": 7,
   "metadata": {},
   "outputs": [],
   "source": [
    "import glob"
   ]
  },
  {
   "cell_type": "code",
   "execution_count": 8,
   "metadata": {},
   "outputs": [],
   "source": [
    "import fileinput\n",
    "import sys, glob"
   ]
  },
  {
   "cell_type": "code",
   "execution_count": 9,
   "metadata": {},
   "outputs": [],
   "source": [
    "import matplotlib as mpl\n",
    "import matplotlib.pyplot as plt"
   ]
  },
  {
   "cell_type": "markdown",
   "metadata": {},
   "source": [
    "## 2 Datos\n",
    "### 2.1 Definir rutas de trabajo"
   ]
  },
  {
   "cell_type": "code",
   "execution_count": 10,
   "metadata": {},
   "outputs": [],
   "source": [
    "rutaDatos = 'E:/Ejercicios_AEMet/Historicos_Est_TPVHR/'"
   ]
  },
  {
   "cell_type": "code",
   "execution_count": 11,
   "metadata": {},
   "outputs": [],
   "source": [
    "rutaOut = 'E:/Ejercicios_AEMet/Historicos_Est_TPVHR/Solucion_ejercicio/'"
   ]
  },
  {
   "cell_type": "code",
   "execution_count": 12,
   "metadata": {},
   "outputs": [],
   "source": [
    "parametros = pd.DataFrame(columns = ['INDICATIVO','AÑO','MES','DÍA','HORA','MINUTO','PREC','TA','VV10M','DV10M','HR','RAGLOB'])\n"
   ]
  },
  {
   "cell_type": "code",
   "execution_count": 13,
   "metadata": {},
   "outputs": [
    {
     "data": {
      "text/html": [
       "<div>\n",
       "<style scoped>\n",
       "    .dataframe tbody tr th:only-of-type {\n",
       "        vertical-align: middle;\n",
       "    }\n",
       "\n",
       "    .dataframe tbody tr th {\n",
       "        vertical-align: top;\n",
       "    }\n",
       "\n",
       "    .dataframe thead th {\n",
       "        text-align: right;\n",
       "    }\n",
       "</style>\n",
       "<table border=\"1\" class=\"dataframe\">\n",
       "  <thead>\n",
       "    <tr style=\"text-align: right;\">\n",
       "      <th></th>\n",
       "      <th>INDICATIVO</th>\n",
       "      <th>AÑO</th>\n",
       "      <th>MES</th>\n",
       "      <th>DÍA</th>\n",
       "      <th>HORA</th>\n",
       "      <th>MINUTO</th>\n",
       "      <th>PREC</th>\n",
       "      <th>TA</th>\n",
       "      <th>VV10M</th>\n",
       "      <th>DV10M</th>\n",
       "      <th>HR</th>\n",
       "      <th>RAGLOB</th>\n",
       "    </tr>\n",
       "  </thead>\n",
       "  <tbody>\n",
       "  </tbody>\n",
       "</table>\n",
       "</div>"
      ],
      "text/plain": [
       "Empty DataFrame\n",
       "Columns: [INDICATIVO, AÑO, MES, DÍA, HORA, MINUTO, PREC, TA, VV10M, DV10M, HR, RAGLOB]\n",
       "Index: []"
      ]
     },
     "execution_count": 13,
     "metadata": {},
     "output_type": "execute_result"
    }
   ],
   "source": [
    "parametros"
   ]
  },
  {
   "cell_type": "code",
   "execution_count": 14,
   "metadata": {},
   "outputs": [
    {
     "ename": "FileNotFoundError",
     "evalue": "[WinError 3] El sistema no puede encontrar la ruta especificada: 'E:/Ejercicios_AEMet/Historicos_Est_TPVHR/'",
     "output_type": "error",
     "traceback": [
      "\u001b[1;31m---------------------------------------------------------------------------\u001b[0m",
      "\u001b[1;31mFileNotFoundError\u001b[0m                         Traceback (most recent call last)",
      "\u001b[1;32m<ipython-input-14-2aabd07a83b4>\u001b[0m in \u001b[0;36m<module>\u001b[1;34m\u001b[0m\n\u001b[1;32m----> 1\u001b[1;33m \u001b[0mcarpeta_trabajo\u001b[0m \u001b[1;33m=\u001b[0m \u001b[0mos\u001b[0m\u001b[1;33m.\u001b[0m\u001b[0mlistdir\u001b[0m\u001b[1;33m(\u001b[0m\u001b[0mrutaDatos\u001b[0m\u001b[1;33m)\u001b[0m\u001b[1;33m\u001b[0m\u001b[1;33m\u001b[0m\u001b[0m\n\u001b[0m",
      "\u001b[1;31mFileNotFoundError\u001b[0m: [WinError 3] El sistema no puede encontrar la ruta especificada: 'E:/Ejercicios_AEMet/Historicos_Est_TPVHR/'"
     ]
    }
   ],
   "source": [
    "carpeta_trabajo = os.listdir(rutaDatos)"
   ]
  },
  {
   "cell_type": "code",
   "execution_count": null,
   "metadata": {},
   "outputs": [],
   "source": [
    "carpeta_trabajo"
   ]
  },
  {
   "cell_type": "markdown",
   "metadata": {},
   "source": [
    "### 2.2 Leer series de precipitación de 2010\n",
    "Importar el archivo _2010.txt_ y extraer los datos de precipitación. A partir de esos datos, crear un _data frame_ en el que las filas sean los pasos temporales (frecuencia 10 min) y las columnas las estaciones."
   ]
  },
  {
   "cell_type": "code",
   "execution_count": null,
   "metadata": {},
   "outputs": [],
   "source": [
    "file2010 = carpeta_trabajo[1]\n",
    "file2010"
   ]
  },
  {
   "cell_type": "code",
   "execution_count": null,
   "metadata": {},
   "outputs": [],
   "source": [
    "df = pd.DataFrame(data=parametros)"
   ]
  },
  {
   "cell_type": "code",
   "execution_count": null,
   "metadata": {},
   "outputs": [],
   "source": [
    "datos_prec = pd.read_csv(rutaDatos + file2010, sep=';', decimal=',', usecols=['INDICATIVO', 'PREC'], encoding='latin1')\n",
    "datos_prec.head()"
   ]
  },
  {
   "cell_type": "code",
   "execution_count": null,
   "metadata": {},
   "outputs": [],
   "source": [
    "datesStr = datos_prec.AÑO.astype(str) + '-' + datos_prec.MES.astype(str) + '-' + datos_prec.DIA.astype(str) + ' ' + datos_prec.HORA.astype(str) + ':' + datos_prec.MINUTO.astype(str)\n",
    "datos_prec.index = pd.to_datetime(datesStr, format='%Y-%m-%d %H:%M')"
   ]
  },
  {
   "cell_type": "code",
   "execution_count": null,
   "metadata": {},
   "outputs": [],
   "source": [
    "datos_prec.head()"
   ]
  },
  {
   "cell_type": "code",
   "execution_count": null,
   "metadata": {},
   "outputs": [],
   "source": [
    "start, end = datos_prec.index.min(), datos_prec.index.max()\n",
    "start, end"
   ]
  },
  {
   "cell_type": "code",
   "execution_count": null,
   "metadata": {},
   "outputs": [],
   "source": [
    "dates = pd.date_range(start, end, freq='10min')"
   ]
  },
  {
   "cell_type": "code",
   "execution_count": null,
   "metadata": {},
   "outputs": [],
   "source": [
    "estaciones = datos_prec.INDICATIVO.unique()"
   ]
  },
  {
   "cell_type": "code",
   "execution_count": null,
   "metadata": {},
   "outputs": [],
   "source": [
    "df = pd.DataFrame(index=dates, columns=estaciones, dtype='float64')\n",
    "\n",
    "df.head()"
   ]
  },
  {
   "cell_type": "code",
   "execution_count": null,
   "metadata": {},
   "outputs": [],
   "source": [
    "stn = '1014A'"
   ]
  },
  {
   "cell_type": "code",
   "execution_count": null,
   "metadata": {},
   "outputs": [],
   "source": [
    "for stn in estaciones:\n",
    "    aux = datos_prec.loc[datos_prec.INDICATIVO == stn, 'PREC']\n",
    "    df[stn] = aux"
   ]
  },
  {
   "cell_type": "code",
   "execution_count": null,
   "metadata": {},
   "outputs": [],
   "source": [
    "aux = datos_prec.loc[datos_prec.INDICATIVO == stn, 'PREC']"
   ]
  },
  {
   "cell_type": "code",
   "execution_count": null,
   "metadata": {},
   "outputs": [],
   "source": [
    "aux.head()"
   ]
  },
  {
   "cell_type": "code",
   "execution_count": null,
   "metadata": {},
   "outputs": [],
   "source": [
    "df[stn] = aux"
   ]
  },
  {
   "cell_type": "code",
   "execution_count": null,
   "metadata": {},
   "outputs": [],
   "source": [
    "df"
   ]
  },
  {
   "cell_type": "code",
   "execution_count": null,
   "metadata": {},
   "outputs": [],
   "source": [
    "csv_files = glob.glob('*.csv')"
   ]
  },
  {
   "cell_type": "code",
   "execution_count": null,
   "metadata": {},
   "outputs": [],
   "source": [
    "print (csv_files)"
   ]
  },
  {
   "cell_type": "code",
   "execution_count": null,
   "metadata": {},
   "outputs": [],
   "source": [
    "list_data = []\n",
    "\n",
    "for file in csv_files:\n",
    "    data = pd.read_csv(file)\n",
    "    list_data.append(data)"
   ]
  },
  {
   "cell_type": "code",
   "execution_count": null,
   "metadata": {},
   "outputs": [],
   "source": [
    "list_data"
   ]
  },
  {
   "cell_type": "code",
   "execution_count": null,
   "metadata": {},
   "outputs": [],
   "source": [
    "def resultados(fileIn, variable, pathOut=None):\n",
    "       \n",
    "    carpeta_trabajo = os.listdir(rutaDatos)\n",
    "    \n",
    "    #Se lee el archivo csv necesario y se guarda en una tabla que se denominará 'datos_var'\n",
    "    datos_var = pd.read_csv(fileIn, sep=';', decimal=',', usecols=['INDICATIVO', 'AÑO', 'MES', 'DIA', 'HORA', 'MINUTO', variable], encoding='latin1')\n",
    "    \n",
    "    \n",
    "    datesStr = datos_var.AÑO.astype(str) + '-' + datos_var.MES.astype(str) + '-' + datos_var.DIA.astype(str) + ' ' + datos_var.HORA.astype(str) + ':' + datos_var.MINUTO.astype(str)\n",
    "    datos_var.index = pd.to_datetime(datesStr, format='%Y-%m-%d %H:%M')\n",
    "    \n",
    "#     Se define el inicio y final\n",
    "    start, end = datos_var.index.min(), datos_var.index.max()\n",
    "    \n",
    "    # Se define también el paso temporal, en este caso serán 10 minutos\n",
    "    dates = pd.date_range(start, end, freq='10min')\n",
    "    # leer estaciones\n",
    "    estaciones = datos_var.INDICATIVO.unique()\n",
    "    \n",
    "    # crear dataframe vacío\n",
    "    df = pd.DataFrame(index=dates, columns=estaciones, dtype='float64')\n",
    "    df.index.name = 'FECHA'\n",
    "    \n",
    "    # Se crea un bucle cuya misión será recorrer todas las estaciones existentes en el fichero, y asociar sus valores de \n",
    "    # las variables correspondientes\n",
    "    for stn in estaciones:\n",
    "        aux = datos_var.loc[datos_var.INDICATIVO == stn, variable]\n",
    "        df[stn] = aux\n",
    "        \n",
    "    #escribir archivo de salida\n",
    "    if pathOut is not None:\n",
    "        fileOut = pathOut + fileIn.split('/')[-1].split('.')[0] + variable + '.csv'\n",
    "        df.to_csv(fileOut)\n",
    "    \n",
    "    return df"
   ]
  },
  {
   "cell_type": "code",
   "execution_count": null,
   "metadata": {},
   "outputs": [],
   "source": [
    "df = resultados(rutaDatos + '2010_.txt', variable='PREC', pathOut=rutaOut)"
   ]
  },
  {
   "cell_type": "code",
   "execution_count": null,
   "metadata": {},
   "outputs": [],
   "source": [
    "df.head()"
   ]
  },
  {
   "cell_type": "code",
   "execution_count": null,
   "metadata": {},
   "outputs": [],
   "source": [
    "df.index.name = 'FECHA'"
   ]
  },
  {
   "cell_type": "code",
   "execution_count": null,
   "metadata": {},
   "outputs": [],
   "source": [
    "df.head()"
   ]
  },
  {
   "cell_type": "code",
   "execution_count": null,
   "metadata": {},
   "outputs": [],
   "source": [
    "rutaOut + 'test.csv'"
   ]
  },
  {
   "cell_type": "code",
   "execution_count": null,
   "metadata": {},
   "outputs": [],
   "source": [
    "datos_prec.to_csv(rutaOut + 'test.csv')"
   ]
  },
  {
   "cell_type": "code",
   "execution_count": null,
   "metadata": {},
   "outputs": [],
   "source": [
    "carpeta_trabajo[1]"
   ]
  },
  {
   "cell_type": "code",
   "execution_count": null,
   "metadata": {},
   "outputs": [],
   "source": [
    "file = carpeta_trabajo[1]"
   ]
  },
  {
   "cell_type": "code",
   "execution_count": null,
   "metadata": {},
   "outputs": [],
   "source": [
    "precipitacion(file)"
   ]
  },
  {
   "cell_type": "markdown",
   "metadata": {},
   "source": [
    "### 2.3 Leer datos de precipitación de todos los años\n",
    "En base al código del punto anterior, hacer un bucle para leer el archivo de cada año. El resultado final ha de ser un _data frame_ en el que las filas representan todos los pasos temporales desde 2009 a 2020 y las columnas los códigos de las estaciones."
   ]
  },
  {
   "cell_type": "code",
   "execution_count": null,
   "metadata": {},
   "outputs": [],
   "source": [
    "rutaDatos\n",
    "nombres_archivos = os.listdir(rutaDatos)"
   ]
  },
  {
   "cell_type": "code",
   "execution_count": null,
   "metadata": {},
   "outputs": [],
   "source": [
    "nombres_archivos"
   ]
  },
  {
   "cell_type": "code",
   "execution_count": null,
   "metadata": {},
   "outputs": [],
   "source": [
    "files = []\n",
    "for file in nombres_archivos:\n",
    "    if file.endswith('_.txt'):\n",
    "        files.append(file)"
   ]
  },
  {
   "cell_type": "code",
   "execution_count": null,
   "metadata": {},
   "outputs": [],
   "source": [
    "files = [file for file in nombres_archivos if file.endswith('_.txt')]"
   ]
  },
  {
   "cell_type": "code",
   "execution_count": null,
   "metadata": {},
   "outputs": [],
   "source": [
    "P = pd.DataFrame(dtype='float64')\n",
    "for file in files:\n",
    "    aux = resultados(rutaDatos + file, 'PREC')\n",
    "    P = pd.concat((P, aux), axis=0)"
   ]
  },
  {
   "cell_type": "code",
   "execution_count": null,
   "metadata": {},
   "outputs": [],
   "source": [
    "df.to_csv(rutaOut + 'Pruebas1.csv')"
   ]
  },
  {
   "cell_type": "code",
   "execution_count": null,
   "metadata": {},
   "outputs": [],
   "source": [
    "df.head()"
   ]
  },
  {
   "cell_type": "code",
   "execution_count": null,
   "metadata": {},
   "outputs": [],
   "source": [
    "df.plot()"
   ]
  },
  {
   "cell_type": "code",
   "execution_count": null,
   "metadata": {},
   "outputs": [],
   "source": [
    "files"
   ]
  },
  {
   "cell_type": "code",
   "execution_count": null,
   "metadata": {},
   "outputs": [],
   "source": [
    "# def buscar_archivos(ruta):\n",
    "#     archivos_texto = []\n",
    "#     archivos = os.listdir(rutaDatos)\n",
    "#     for archivo in archivos:\n",
    "#         if archivo[-5:] == '_.txt':\n",
    "#             archivos_texto.append(archivo)\n",
    "#     return archivos_texto"
   ]
  },
  {
   "cell_type": "code",
   "execution_count": null,
   "metadata": {},
   "outputs": [],
   "source": [
    "# buscar_archivos(rutaDatos)"
   ]
  },
  {
   "cell_type": "code",
   "execution_count": null,
   "metadata": {},
   "outputs": [],
   "source": [
    "for filename in nombres_archivos:\n",
    "    if filename.endswith('_.txt'):\n",
    "        f = open(filename)\n",
    "        lines = f.read()\n",
    "        print (lines)\n",
    "        continue\n",
    "    else:\n",
    "continue\n",
    "    "
   ]
  },
  {
   "cell_type": "code",
   "execution_count": null,
   "metadata": {},
   "outputs": [],
   "source": [
    "datesStr = datos_prec.AÑO.astype(str) + '-' + datos_prec.MES.astype(str) + '-' + datos_prec.DIA.astype(str) + ' ' + datos_prec.HORA.astype(str) + ':' + datos_prec.MINUTO.astype(str)\n",
    "datos_prec.index = pd.to_datetime(datesStr, format='%Y-%m-%d %H:%M')"
   ]
  },
  {
   "cell_type": "code",
   "execution_count": null,
   "metadata": {},
   "outputs": [],
   "source": [
    "datos_prec.head()"
   ]
  },
  {
   "cell_type": "code",
   "execution_count": null,
   "metadata": {},
   "outputs": [],
   "source": [
    "start, end = datos_prec.index.min(), datos_prec.index.max()\n",
    "start, end"
   ]
  },
  {
   "cell_type": "code",
   "execution_count": null,
   "metadata": {},
   "outputs": [],
   "source": [
    "dates = pd.date_range(start, end, freq='10min')"
   ]
  },
  {
   "cell_type": "code",
   "execution_count": null,
   "metadata": {},
   "outputs": [],
   "source": [
    "dates"
   ]
  },
  {
   "cell_type": "code",
   "execution_count": null,
   "metadata": {},
   "outputs": [],
   "source": [
    "estaciones = datos_prec.INDICATIVO.unique()\n",
    "estaciones"
   ]
  },
  {
   "cell_type": "code",
   "execution_count": null,
   "metadata": {},
   "outputs": [],
   "source": [
    "df = pd.DataFrame(index=dates, columns=estaciones, dtype='float64')\n",
    "df"
   ]
  },
  {
   "cell_type": "code",
   "execution_count": null,
   "metadata": {},
   "outputs": [],
   "source": [
    "for stn in estaciones:\n",
    "    aux = datos_prec.loc[datos_prec.INDICATIVO == stn, 'PREC']\n",
    "    df[stn] = aux"
   ]
  },
  {
   "cell_type": "code",
   "execution_count": null,
   "metadata": {},
   "outputs": [],
   "source": [
    "aux = datos_prec.loc[datos_prec.INDICATIVO == stn, 'PREC']"
   ]
  },
  {
   "cell_type": "code",
   "execution_count": null,
   "metadata": {},
   "outputs": [],
   "source": [
    "aux"
   ]
  },
  {
   "cell_type": "code",
   "execution_count": null,
   "metadata": {},
   "outputs": [],
   "source": [
    "df[stn] = aux\n",
    "df"
   ]
  },
  {
   "cell_type": "code",
   "execution_count": null,
   "metadata": {},
   "outputs": [],
   "source": []
  },
  {
   "cell_type": "code",
   "execution_count": null,
   "metadata": {},
   "outputs": [],
   "source": []
  },
  {
   "cell_type": "markdown",
   "metadata": {},
   "source": [
    "### 2.4 Leer datos de temperatura de todos los años\n",
    "Repetir el código anterior, pero extrayendo datos de temperatura en vez de precipitación."
   ]
  },
  {
   "cell_type": "code",
   "execution_count": null,
   "metadata": {},
   "outputs": [],
   "source": [
    "rutaDatos"
   ]
  },
  {
   "cell_type": "code",
   "execution_count": null,
   "metadata": {},
   "outputs": [],
   "source": [
    "file2010 = carpeta_trabajo[1]"
   ]
  },
  {
   "cell_type": "code",
   "execution_count": null,
   "metadata": {},
   "outputs": [],
   "source": [
    "parametros"
   ]
  },
  {
   "cell_type": "code",
   "execution_count": null,
   "metadata": {},
   "outputs": [],
   "source": [
    "files = []\n",
    "for file in nombres_archivos:\n",
    "    if file.endswith('_.txt'):\n",
    "        files.append(file)"
   ]
  },
  {
   "cell_type": "code",
   "execution_count": null,
   "metadata": {},
   "outputs": [],
   "source": [
    "datos_temp = pd.read_csv(rutaDatos + file2010, sep=';', decimal=',', usecols=['INDICATIVO', 'AÑO', 'MES', 'DIA', 'HORA', 'MINUTO', 'TA'], encoding='latin1')\n",
    "datos_temp.head()"
   ]
  },
  {
   "cell_type": "code",
   "execution_count": null,
   "metadata": {},
   "outputs": [],
   "source": [
    "datesStr = datos_temp.AÑO.astype(str) + '-' + datos_temp.MES.astype(str) + '-' + datos_temp.DIA.astype(str) + ' ' + datos_temp.HORA.astype(str) + ':' + datos_temp.MINUTO.astype(str)\n",
    "datos_temp.index = pd.to_datetime(datesStr, format='%Y-%m-%d %H:%M')"
   ]
  },
  {
   "cell_type": "code",
   "execution_count": null,
   "metadata": {},
   "outputs": [],
   "source": [
    "end, start = datos_temp.index.max(), datos_temp.index.min()"
   ]
  },
  {
   "cell_type": "code",
   "execution_count": null,
   "metadata": {},
   "outputs": [],
   "source": [
    "dates = pd.date_range(start, end, freq='10min')"
   ]
  },
  {
   "cell_type": "code",
   "execution_count": null,
   "metadata": {},
   "outputs": [],
   "source": [
    "estaciones = datos_temp.INDICATIVO.unique()"
   ]
  },
  {
   "cell_type": "code",
   "execution_count": null,
   "metadata": {},
   "outputs": [],
   "source": [
    "df = pd.DataFrame(index=dates, columns=estaciones, dtype='float64')\n",
    "df.head()"
   ]
  },
  {
   "cell_type": "code",
   "execution_count": null,
   "metadata": {},
   "outputs": [],
   "source": [
    "stn = '1111X'"
   ]
  },
  {
   "cell_type": "code",
   "execution_count": null,
   "metadata": {},
   "outputs": [],
   "source": [
    "aux = datos_temp.loc[datos_temp.INDICATIVO == stn, 'TA']\n",
    "aux"
   ]
  },
  {
   "cell_type": "code",
   "execution_count": null,
   "metadata": {},
   "outputs": [],
   "source": [
    "aux.head()"
   ]
  },
  {
   "cell_type": "code",
   "execution_count": null,
   "metadata": {},
   "outputs": [],
   "source": [
    "df[stn] = aux"
   ]
  },
  {
   "cell_type": "code",
   "execution_count": null,
   "metadata": {},
   "outputs": [],
   "source": [
    "df"
   ]
  },
  {
   "cell_type": "code",
   "execution_count": null,
   "metadata": {},
   "outputs": [],
   "source": [
    "for stn in estaciones:\n",
    "    aux = datos_temp.loc[datos_temp.INDICATIVO == stn, 'TA']\n",
    "    df[stn] = aux"
   ]
  },
  {
   "cell_type": "code",
   "execution_count": null,
   "metadata": {},
   "outputs": [],
   "source": [
    "df.to_csv(rutaOut + 'temperatura.csv')"
   ]
  },
  {
   "cell_type": "code",
   "execution_count": null,
   "metadata": {},
   "outputs": [],
   "source": [
    "df.index.name = 'FECHA'"
   ]
  },
  {
   "cell_type": "markdown",
   "metadata": {},
   "source": [
    "***"
   ]
  },
  {
   "cell_type": "code",
   "execution_count": null,
   "metadata": {},
   "outputs": [],
   "source": [
    "files = []\n",
    "for file in nombres_archivos:\n",
    "    if file.endswith('_.txt'):\n",
    "        files.append(file)\n",
    "files"
   ]
  },
  {
   "cell_type": "code",
   "execution_count": null,
   "metadata": {},
   "outputs": [],
   "source": [
    "T = pd.DataFrame(dtype='float64')\n",
    "for file in files:\n",
    "    aux = resultados(rutaDatos + file, 'TA')\n",
    "    T = pd.concat((T, aux), axis=0)"
   ]
  },
  {
   "cell_type": "code",
   "execution_count": null,
   "metadata": {},
   "outputs": [],
   "source": [
    "T.shape"
   ]
  },
  {
   "cell_type": "code",
   "execution_count": null,
   "metadata": {},
   "outputs": [],
   "source": [
    "rutaOut + 'Temperatura.csv'"
   ]
  },
  {
   "cell_type": "code",
   "execution_count": null,
   "metadata": {},
   "outputs": [],
   "source": [
    "T.to_csv(rutaOut + 'Temperatura.csv')"
   ]
  },
  {
   "cell_type": "markdown",
   "metadata": {},
   "source": [
    "### 2.5 Visualización de los datos\n",
    "#### Serie de temperatura de la estación de Oviedo\n",
    "Hacer un gráfico de línea con la serie de temperatura de la estación de Oviedo. Mostrar también la serie con la temperatura media entre todas las estaciones."
   ]
  },
  {
   "cell_type": "code",
   "execution_count": null,
   "metadata": {},
   "outputs": [],
   "source": [
    "datos_temp.INDICATIVO"
   ]
  },
  {
   "cell_type": "code",
   "execution_count": null,
   "metadata": {},
   "outputs": [],
   "source": [
    "temp_Oviedo = df['1249X']"
   ]
  },
  {
   "cell_type": "code",
   "execution_count": null,
   "metadata": {},
   "outputs": [],
   "source": [
    "temp_Oviedo.head()"
   ]
  },
  {
   "cell_type": "code",
   "execution_count": null,
   "metadata": {},
   "outputs": [],
   "source": [
    "T_Oviedo = pd.DataFrame(dtype='float64')\n",
    "for file in files:\n",
    "    aux_Oviedo = resultados(rutaDatos + file, 'TA')['1249X']\n",
    "    T_Oviedo = pd.concat((T_Oviedo, aux_Oviedo), axis=0)"
   ]
  },
  {
   "cell_type": "code",
   "execution_count": null,
   "metadata": {},
   "outputs": [],
   "source": [
    "T_Oviedo"
   ]
  },
  {
   "cell_type": "markdown",
   "metadata": {},
   "source": [
    "Calculo de la temperatura media de todas las estaciones"
   ]
  },
  {
   "cell_type": "code",
   "execution_count": null,
   "metadata": {},
   "outputs": [],
   "source": [
    "df.Media = df.mean(axis='columns').round(1)"
   ]
  },
  {
   "cell_type": "code",
   "execution_count": null,
   "metadata": {},
   "outputs": [],
   "source": [
    "df.Media, T_Oviedo"
   ]
  },
  {
   "cell_type": "code",
   "execution_count": null,
   "metadata": {},
   "outputs": [],
   "source": [
    "T = pd.DataFrame(dtype='float64')\n",
    "for file in files:\n",
    "    aux = resultados(rutaDatos + file, 'TA')\n",
    "    T = pd.concat((T, aux), axis=0)"
   ]
  },
  {
   "cell_type": "code",
   "execution_count": null,
   "metadata": {},
   "outputs": [],
   "source": [
    "T.insert(6, 'Media', True)"
   ]
  },
  {
   "cell_type": "code",
   "execution_count": null,
   "metadata": {},
   "outputs": [],
   "source": [
    "T.Media = T.mean(axis='columns').round(1)"
   ]
  },
  {
   "cell_type": "code",
   "execution_count": null,
   "metadata": {},
   "outputs": [],
   "source": [
    "T.Media.plot()"
   ]
  },
  {
   "cell_type": "code",
   "execution_count": null,
   "metadata": {},
   "outputs": [],
   "source": [
    "T_Oviedo.plot()"
   ]
  },
  {
   "cell_type": "markdown",
   "metadata": {},
   "source": [
    "***"
   ]
  },
  {
   "cell_type": "code",
   "execution_count": null,
   "metadata": {},
   "outputs": [],
   "source": [
    "plt.figure(figsize=(16, 4))\n",
    "plt.plot(T['1249X'], c='red', lw=1, label='Oviedo')\n",
    "plt.plot(T.Media, c='k', lw=1, label='media')\n",
    "plt.xlabel('fecha')\n",
    "plt.xlim(datetime(2014, 1, 1), datetime(2014, 1, 31))\n",
    "plt.ylabel('T (°C)')\n",
    "plt.legend();"
   ]
  },
  {
   "cell_type": "markdown",
   "metadata": {},
   "source": [
    "#### Series de temperatura de todas las estaciones\n",
    "En base al código anterior, crear una figura con tantos gráficos como estaciones con datos de temperatura. Al igual que antes, en cada gráfico se muestra la serie de temperatura de la estación y la serie media entre todas las estaciones."
   ]
  },
  {
   "cell_type": "code",
   "execution_count": null,
   "metadata": {},
   "outputs": [],
   "source": [
    "fig, axes = plt.subplots(nrows=3, ncols=2, figsize=(16, 12), sharex=True, sharey=True)\n",
    "\n",
    "axes[0,0].set_xlim(datetime(2014, 1, 1), datetime(2014, 1, 31))\n",
    "axes[0,0].plot(T['1249X'], c='red', lw=1, label='Oviedo')\n",
    "axes[0,0].plot(T.Media, c='k', lw=1, label='media')\n",
    "axes[0,0].legend()\n",
    "\n",
    "axes[0,1].plot(T['1111X'], c='red', lw=1, label='Santander')\n",
    "axes[0,1].plot(T.Media, c='k', lw=1, label='media')\n",
    "axes[0,1].legend();\n",
    "\n",
    "axes[1,0].plot(T['1208H'], c='red', lw=1, label='Gijón')\n",
    "axes[1,0].plot(T.Media, c='k', lw=1, label='media')\n",
    "axes[1,0].legend();\n",
    "\n",
    "axes[1,1].plot(T['9091R'], c='red', lw=1, label='Vitoria')\n",
    "axes[1,1].plot(T.Media, c='k', lw=1, label='media')\n",
    "axes[1,1].legend();\n",
    "\n",
    "axes[2,0].plot(T['1014A'], c='red', lw=1, label='San Sebastián')\n",
    "axes[2,0].plot(T.Media, c='k', lw=1, label='media')\n",
    "axes[2,0].legend();\n",
    "\n",
    "axes[2,1].plot(T['1505'], c='red', lw=1, label='Lugo')\n",
    "axes[2,1].plot(T.Media, c='k', lw=1, label='media')\n",
    "axes[2,1].legend();"
   ]
  },
  {
   "cell_type": "code",
   "execution_count": null,
   "metadata": {},
   "outputs": [],
   "source": [
    "T_SanSebastian = T['1014A']\n",
    "T_Oviedo = T['1249X']\n",
    "T_Vitoria = T['9091R']\n",
    "T_Santander = T['1111X']\n",
    "T_Lugo = T['1505']\n",
    "T_Gijon = T['1208H']"
   ]
  },
  {
   "cell_type": "code",
   "execution_count": null,
   "metadata": {},
   "outputs": [],
   "source": [
    "T_Gijon.plot()\n",
    "T_Lugo.plot()\n",
    "T_Oviedo.plot()\n",
    "T_SanSebastian.plot()\n",
    "T_Santander.plot()\n",
    "T_Vitoria.plot()"
   ]
  },
  {
   "cell_type": "code",
   "execution_count": null,
   "metadata": {},
   "outputs": [],
   "source": [
    "T_Gijon.plot()\n",
    "T.Media.plot()"
   ]
  },
  {
   "cell_type": "markdown",
   "metadata": {},
   "source": [
    "## 3 Tratamiento de datos\n",
    "### 3.1 Serie de precipitación diaria\n",
    "Calcular la serie de precipitación diaria acumulada de todas las estaciones."
   ]
  },
  {
   "cell_type": "code",
   "execution_count": null,
   "metadata": {},
   "outputs": [],
   "source": [
    "datos_prec = pd.read_csv(rutaDatos + file2010, sep=';', decimal=',', usecols=['INDICATIVO', 'AÑO', 'MES', 'DIA', 'HORA', 'MINUTO', 'PREC'], encoding='latin1')"
   ]
  },
  {
   "cell_type": "code",
   "execution_count": null,
   "metadata": {},
   "outputs": [],
   "source": [
    "datesStr = datos_prec.AÑO.astype(str) + '-' + datos_prec.MES.astype(str) + '-' + datos_prec.DIA.astype(str) + ' ' + datos_prec.HORA.astype(str) + ':' + datos_prec.MINUTO.astype(str)\n",
    "datos_prec.index = pd.to_datetime(datesStr, format='%Y-%m-%d %H:%M')"
   ]
  },
  {
   "cell_type": "code",
   "execution_count": null,
   "metadata": {},
   "outputs": [],
   "source": [
    "datos_prec.head()"
   ]
  },
  {
   "cell_type": "code",
   "execution_count": null,
   "metadata": {},
   "outputs": [],
   "source": [
    "start, end = datos_prec.index.min(), datos_prec.index.max()\n",
    "start, end"
   ]
  },
  {
   "cell_type": "code",
   "execution_count": null,
   "metadata": {},
   "outputs": [],
   "source": [
    "dates = pd.date_range(start, end, freq='10min')"
   ]
  },
  {
   "cell_type": "code",
   "execution_count": null,
   "metadata": {},
   "outputs": [],
   "source": [
    "estaciones = datos_prec.INDICATIVO.unique()"
   ]
  },
  {
   "cell_type": "code",
   "execution_count": null,
   "metadata": {},
   "outputs": [],
   "source": [
    "df = pd.DataFrame(index=dates, columns=estaciones, dtype='float64')"
   ]
  },
  {
   "cell_type": "code",
   "execution_count": null,
   "metadata": {},
   "outputs": [],
   "source": [
    "for stn in estaciones:\n",
    "    aux = datos_prec.loc[datos_prec.INDICATIVO == stn, 'PREC']\n",
    "    df[stn] = aux"
   ]
  },
  {
   "cell_type": "code",
   "execution_count": null,
   "metadata": {},
   "outputs": [],
   "source": [
    "aux = datos_prec.loc[datos_prec.INDICATIVO == stn, 'PREC']"
   ]
  },
  {
   "cell_type": "code",
   "execution_count": null,
   "metadata": {},
   "outputs": [],
   "source": [
    "df.head()"
   ]
  },
  {
   "cell_type": "code",
   "execution_count": null,
   "metadata": {},
   "outputs": [],
   "source": [
    "df.insert(6, 'Acum', True)"
   ]
  },
  {
   "cell_type": "code",
   "execution_count": null,
   "metadata": {},
   "outputs": [],
   "source": [
    "df"
   ]
  },
  {
   "cell_type": "code",
   "execution_count": null,
   "metadata": {},
   "outputs": [],
   "source": [
    "df.Acum = df.sum(axis='columns')"
   ]
  },
  {
   "cell_type": "code",
   "execution_count": null,
   "metadata": {},
   "outputs": [],
   "source": [
    "df"
   ]
  },
  {
   "cell_type": "code",
   "execution_count": null,
   "metadata": {},
   "outputs": [],
   "source": [
    "P = pd.DataFrame(dtype='float64')\n",
    "for file in files:\n",
    "    aux = resultados(rutaDatos + file, 'PREC')\n",
    "    P = pd.concat((P, aux), axis=0)"
   ]
  },
  {
   "cell_type": "code",
   "execution_count": null,
   "metadata": {},
   "outputs": [],
   "source": [
    "P.Acum = np.nan"
   ]
  },
  {
   "cell_type": "code",
   "execution_count": null,
   "metadata": {},
   "outputs": [],
   "source": [
    "P.head()"
   ]
  },
  {
   "cell_type": "code",
   "execution_count": null,
   "metadata": {},
   "outputs": [],
   "source": [
    "plt.plot(P.sum(axis=1).round(1))"
   ]
  },
  {
   "cell_type": "code",
   "execution_count": null,
   "metadata": {},
   "outputs": [],
   "source": [
    "Prec_acum_diaria = P.resample('1D').sum()"
   ]
  },
  {
   "cell_type": "code",
   "execution_count": null,
   "metadata": {},
   "outputs": [],
   "source": [
    "Prec_acum_diaria.head()"
   ]
  },
  {
   "cell_type": "code",
   "execution_count": null,
   "metadata": {},
   "outputs": [],
   "source": [
    "Prec_acum_diaria_TOTAL = Prec_acum_diaria.sum(axis=1)"
   ]
  },
  {
   "cell_type": "code",
   "execution_count": null,
   "metadata": {},
   "outputs": [],
   "source": [
    "Prec_acum_diaria_TOTAL"
   ]
  },
  {
   "cell_type": "markdown",
   "metadata": {},
   "source": [
    "### 3.2 Serie de precipitación mensual\n",
    "Calcular la serie de precipitación mensual de todas las estaciones."
   ]
  },
  {
   "cell_type": "code",
   "execution_count": null,
   "metadata": {},
   "outputs": [],
   "source": [
    "Prec_acum_mensual = P.resample('1M').sum()"
   ]
  },
  {
   "cell_type": "code",
   "execution_count": null,
   "metadata": {},
   "outputs": [],
   "source": [
    "Prec_acum_mensual.Acum = Prec_acum_mensual.sum(axis=1)"
   ]
  },
  {
   "cell_type": "code",
   "execution_count": null,
   "metadata": {},
   "outputs": [],
   "source": [
    "Prec_acum_mensual"
   ]
  },
  {
   "cell_type": "code",
   "execution_count": null,
   "metadata": {},
   "outputs": [],
   "source": [
    "Prec_acum_mensual[['1014A']]"
   ]
  },
  {
   "cell_type": "code",
   "execution_count": null,
   "metadata": {},
   "outputs": [],
   "source": [
    "Prec_acum_mensual.Acum = Prec_acum.sum(axis=1)"
   ]
  },
  {
   "cell_type": "code",
   "execution_count": null,
   "metadata": {},
   "outputs": [],
   "source": [
    "Prec_acum_mensual"
   ]
  },
  {
   "cell_type": "code",
   "execution_count": null,
   "metadata": {},
   "outputs": [],
   "source": [
    "Prec_acum_mensual.drop('Total', axis=1)"
   ]
  },
  {
   "cell_type": "markdown",
   "metadata": {},
   "source": [
    "Crear un gráfico de cajas con los datos mensuales."
   ]
  },
  {
   "cell_type": "code",
   "execution_count": null,
   "metadata": {},
   "outputs": [],
   "source": [
    "plt.figure(figsize=(18, 6))\n",
    "plt.boxplot(Prec_acum_mensual.groupby(by=Prec_acum_mensual.month))\n",
    "plt.show()"
   ]
  },
  {
   "cell_type": "markdown",
   "metadata": {},
   "source": [
    "### 3.3 Serie de precipitación anual\n",
    "Calcular la serie de precipitación anual de todas las estaciones."
   ]
  },
  {
   "cell_type": "code",
   "execution_count": null,
   "metadata": {},
   "outputs": [],
   "source": [
    "P.plot()"
   ]
  },
  {
   "cell_type": "code",
   "execution_count": null,
   "metadata": {},
   "outputs": [],
   "source": [
    "plt.figure(figsize=(16,4))\n",
    "plt.plot(P)"
   ]
  },
  {
   "cell_type": "code",
   "execution_count": null,
   "metadata": {},
   "outputs": [],
   "source": [
    "P[['1014A']], P[['1111X']], P[['1208H']], P[['1249X']], P[['1505']], P[['9091R']]"
   ]
  },
  {
   "cell_type": "code",
   "execution_count": null,
   "metadata": {},
   "outputs": [],
   "source": [
    "P_1014A = P[['1014A']].resample('1Y').sum()"
   ]
  },
  {
   "cell_type": "code",
   "execution_count": null,
   "metadata": {},
   "outputs": [],
   "source": [
    "P_1014A.rename(columns={'1014A':'San Sebastián(1014A)'})"
   ]
  },
  {
   "cell_type": "code",
   "execution_count": null,
   "metadata": {},
   "outputs": [],
   "source": [
    "P_1111X = P[['1111X']].resample('1Y').sum()"
   ]
  },
  {
   "cell_type": "code",
   "execution_count": null,
   "metadata": {},
   "outputs": [],
   "source": [
    "P_1111X.rename(columns={'1111X':'Santander (1111X)'})"
   ]
  },
  {
   "cell_type": "code",
   "execution_count": null,
   "metadata": {},
   "outputs": [],
   "source": [
    "P_1208H = P[['1208H']].resample('1Y').sum()"
   ]
  },
  {
   "cell_type": "code",
   "execution_count": null,
   "metadata": {},
   "outputs": [],
   "source": [
    "P_1208H.rename(columns={'1208H':'Gijón (1208H)'})"
   ]
  },
  {
   "cell_type": "code",
   "execution_count": null,
   "metadata": {},
   "outputs": [],
   "source": [
    "P_1505 = P[['1505']].resample('1Y').sum()"
   ]
  },
  {
   "cell_type": "code",
   "execution_count": null,
   "metadata": {},
   "outputs": [],
   "source": [
    "P_1505.rename(columns={'1505':'Lugo (1505)'})"
   ]
  },
  {
   "cell_type": "code",
   "execution_count": null,
   "metadata": {},
   "outputs": [],
   "source": [
    "P_9091R = P[['9091R']].resample('1Y').sum()"
   ]
  },
  {
   "cell_type": "code",
   "execution_count": null,
   "metadata": {},
   "outputs": [],
   "source": [
    "P_9091R.rename(columns={'9091R':'Vitoria (9091R)'})"
   ]
  },
  {
   "cell_type": "code",
   "execution_count": null,
   "metadata": {},
   "outputs": [],
   "source": [
    "P_1249X = P[['1249X']].resample('1Y').sum()"
   ]
  },
  {
   "cell_type": "code",
   "execution_count": null,
   "metadata": {},
   "outputs": [],
   "source": [
    "P[['1249X']].rename(columns={'1249X':'Oviedo (1249X)'})"
   ]
  },
  {
   "cell_type": "code",
   "execution_count": null,
   "metadata": {},
   "outputs": [],
   "source": [
    "plt.figure(figsize=(16, 4))\n",
    "plt.plot(P_1014A, c='red', lw=1, label='1014A')\n",
    "plt.xlabel('fecha')\n",
    "# plt.xlim(datetime(2014, 1, 1), datetime(2014, 1, 31))\n",
    "plt.ylabel('P (mm)')\n",
    "plt.legend();"
   ]
  },
  {
   "cell_type": "code",
   "execution_count": null,
   "metadata": {},
   "outputs": [],
   "source": [
    "P_1014A = P[['1014A']].resample('1Y').sum()"
   ]
  },
  {
   "cell_type": "code",
   "execution_count": null,
   "metadata": {},
   "outputs": [],
   "source": [
    "plt.figure(figsize=(16, 4))\n",
    "plt.plot(P_1014A, c='red', lw=1, label='1014A')\n",
    "plt.plot(P_1111X, c='blue', lw=1, label='1111X')\n",
    "plt.plot(P_1249X, c='green', lw=1, label='1249X')\n",
    "plt.plot(P_9091R, c='orange', lw=1, label='9091R')\n",
    "plt.plot(P_1208H, c='black', lw=1, label='1208H')\n",
    "plt.plot(P_1505, c='plum', lw=1, label='1505')\n",
    "plt.xlabel('fecha')\n",
    "# plt.xlim(datetime(2014, 1, 1), datetime(2014, 1, 31))\n",
    "plt.ylabel('P (mm)')\n",
    "plt.legend();\n",
    "\n",
    "plt.savefig('Precipitación anual.png', dpi=300, bbox_tight=True)"
   ]
  },
  {
   "cell_type": "markdown",
   "metadata": {},
   "source": [
    "Crear un gráfico de dispersión de la precipitación media anual frente a la altitud de la estación."
   ]
  },
  {
   "cell_type": "code",
   "execution_count": null,
   "metadata": {},
   "outputs": [],
   "source": [
    "P[['1014A']]"
   ]
  },
  {
   "cell_type": "markdown",
   "metadata": {},
   "source": [
    "### 3.4 Series de temperatura media, mínima y máxima diaria\n",
    "Además de generar la serie, crear, para una estación, un gráfico con la temperatura mínima, media y máxima."
   ]
  },
  {
   "cell_type": "code",
   "execution_count": null,
   "metadata": {},
   "outputs": [],
   "source": [
    "Td_max = T.resample('1d').max()\n",
    "Td_min = T.resample('1d').min()\n",
    "Td_med = T.resample('1d').sum() / T.resample('1d').count()"
   ]
  },
  {
   "cell_type": "code",
   "execution_count": null,
   "metadata": {},
   "outputs": [],
   "source": [
    "plt.plot(Td_max['1249X'])\n",
    "plt.plot(Td_min['1249X'])\n",
    "plt.plot(Td_med['1249X']);"
   ]
  },
  {
   "cell_type": "code",
   "execution_count": null,
   "metadata": {},
   "outputs": [],
   "source": [
    "datos_temp = pd.read_csv(rutaDatos + file2010, sep=';', decimal=',', usecols=['INDICATIVO', 'TA'], encoding='latin1')"
   ]
  },
  {
   "cell_type": "code",
   "execution_count": null,
   "metadata": {},
   "outputs": [],
   "source": [
    "estaciones = datos_temp.INDICATIVO.unique()"
   ]
  },
  {
   "cell_type": "code",
   "execution_count": null,
   "metadata": {},
   "outputs": [],
   "source": [
    "df = pd.DataFrame(index=dates, columns=estaciones, dtype='float64')\n",
    "\n",
    "df.head()"
   ]
  },
  {
   "cell_type": "code",
   "execution_count": null,
   "metadata": {},
   "outputs": [],
   "source": [
    "T = pd.DataFrame(dtype='float64')\n",
    "for file in files:\n",
    "    aux = resultados(rutaDatos + file, 'TA')\n",
    "    T = pd.concat((T, aux), axis=0)"
   ]
  },
  {
   "cell_type": "code",
   "execution_count": null,
   "metadata": {},
   "outputs": [],
   "source": [
    "datos_temp"
   ]
  },
  {
   "cell_type": "code",
   "execution_count": null,
   "metadata": {},
   "outputs": [],
   "source": [
    "temp_Oviedo = df['1249X']"
   ]
  },
  {
   "cell_type": "code",
   "execution_count": null,
   "metadata": {},
   "outputs": [],
   "source": [
    "plt.plot(df['1249X'])"
   ]
  },
  {
   "cell_type": "code",
   "execution_count": null,
   "metadata": {},
   "outputs": [],
   "source": [
    "temp_Oviedo.head()"
   ]
  },
  {
   "cell_type": "code",
   "execution_count": null,
   "metadata": {},
   "outputs": [],
   "source": [
    "temp_Oviedo.resample('1Y').sum()"
   ]
  },
  {
   "cell_type": "markdown",
   "metadata": {},
   "source": [
    "### 3.5 Serie de temperatura media mensual"
   ]
  },
  {
   "cell_type": "code",
   "execution_count": null,
   "metadata": {},
   "outputs": [],
   "source": []
  },
  {
   "cell_type": "markdown",
   "metadata": {},
   "source": [
    "A partir de la temperatura media mensual y la precipitación media mensual, crear un gráfico con el climograma de una estación."
   ]
  },
  {
   "cell_type": "code",
   "execution_count": null,
   "metadata": {},
   "outputs": [],
   "source": []
  },
  {
   "cell_type": "markdown",
   "metadata": {},
   "source": [
    "## 4 Exportar resultados\n",
    "\n",
    "### 4.1 Serie diaria de precipitación\n",
    "Exportar la serie diaria de precipitación como archivo csv."
   ]
  },
  {
   "cell_type": "code",
   "execution_count": null,
   "metadata": {},
   "outputs": [],
   "source": [
    "year, month, day = 2020, 12, 28"
   ]
  },
  {
   "cell_type": "code",
   "execution_count": null,
   "metadata": {},
   "outputs": [],
   "source": [
    "print('La fecha de hoy es ' + str(day) + '-' + str(month) + '-' + str(year))"
   ]
  },
  {
   "cell_type": "code",
   "execution_count": null,
   "metadata": {},
   "outputs": [],
   "source": [
    "print('La fecha de hoy es {0}-{1}-{2}'.format(day, month, year))"
   ]
  },
  {
   "cell_type": "code",
   "execution_count": null,
   "metadata": {},
   "outputs": [],
   "source": [
    "NSE = 0.55555555555"
   ]
  },
  {
   "cell_type": "code",
   "execution_count": null,
   "metadata": {},
   "outputs": [],
   "source": [
    "print('NSE = {0:.3f}'.format(NSE))"
   ]
  },
  {
   "cell_type": "code",
   "execution_count": null,
   "metadata": {},
   "outputs": [],
   "source": []
  }
 ],
 "metadata": {
  "kernelspec": {
   "display_name": "Python 3",
   "language": "python",
   "name": "python3"
  },
  "language_info": {
   "codemirror_mode": {
    "name": "ipython",
    "version": 3
   },
   "file_extension": ".py",
   "mimetype": "text/x-python",
   "name": "python",
   "nbconvert_exporter": "python",
   "pygments_lexer": "ipython3",
   "version": "3.8.3"
  }
 },
 "nbformat": 4,
 "nbformat_minor": 4
}
