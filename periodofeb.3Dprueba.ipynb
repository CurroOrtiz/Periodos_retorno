{
 "cells": [
  {
   "cell_type": "markdown",
   "metadata": {},
   "source": [
    "<img src=\"Avenida máxima probable. P.H. Norte II.jpg\">"
   ]
  },
  {
   "cell_type": "markdown",
   "metadata": {},
   "source": [
    "[Fit surface to polynomials in Python](https://gist.github.com/amroamroamro/1db8d69b4b65e8bc66a6)"
   ]
  },
  {
   "cell_type": "code",
   "execution_count": null,
   "metadata": {},
   "outputs": [],
   "source": [
    "import numpy as np\n",
    "import pandas as pd\n",
    "from scipy import optimize\n",
    "import matplotlib.pyplot as plt\n",
    "import seaborn as sns\n",
    "sns.set()"
   ]
  },
  {
   "cell_type": "code",
   "execution_count": null,
   "metadata": {},
   "outputs": [],
   "source": [
    "a = 3.5465\n",
    "b = 0.208\n",
    "c = 0.7727\n",
    "d = -0.0315"
   ]
  },
  {
   "cell_type": "code",
   "execution_count": null,
   "metadata": {},
   "outputs": [],
   "source": [
    "# Dato de Area, y de caudal:"
   ]
  },
  {
   "cell_type": "markdown",
   "metadata": {},
   "source": [
    " # Pruebas de estaciones con Iván y Chus. Formula de Luengo"
   ]
  },
  {
   "cell_type": "markdown",
   "metadata": {},
   "source": [
    " # Estacion A606"
   ]
  },
  {
   "cell_type": "code",
   "execution_count": null,
   "metadata": {},
   "outputs": [],
   "source": [
    "S=530\n",
    "Q= 264.79"
   ]
  },
  {
   "cell_type": "code",
   "execution_count": null,
   "metadata": {},
   "outputs": [],
   "source": [
    "def Q_from_TS(T, S, a=3.5465, b=0.208, c=0.7727, d=-0.0315):\n",
    "    \"\"\"\"\"\"\n",
    "    \n",
    "    Q = a * T**b * S**(c + d * np.log10(T))\n",
    "    \n",
    "    return Q"
   ]
  },
  {
   "cell_type": "code",
   "execution_count": null,
   "metadata": {},
   "outputs": [],
   "source": []
  },
  {
   "cell_type": "code",
   "execution_count": null,
   "metadata": {},
   "outputs": [],
   "source": [
    "# Prueba con un T y una superficie cualquiera\n",
    "T = 1 # años\n",
    "# S = 1174 # km²"
   ]
  },
  {
   "cell_type": "code",
   "execution_count": null,
   "metadata": {},
   "outputs": [],
   "source": [
    "# Aplico la fórmula\n",
    "Q = Q_from_TS(T, S)\n",
    "print('Q = {0:.1f} m³/s'.format(Q))"
   ]
  },
  {
   "cell_type": "code",
   "execution_count": null,
   "metadata": {},
   "outputs": [],
   "source": [
    "def f(T, S=S, Q=Q, a=3.5465, b=0.208, c=0.7727, d=-0.0315):\n",
    "    return round(a * T**b * S**(c + d * np.log10(T)) - Q, 1)"
   ]
  },
  {
   "cell_type": "code",
   "execution_count": null,
   "metadata": {},
   "outputs": [],
   "source": [
    "# Hago la derivada que me servirá para encontrar las raices del polinomio según el metodo de Newton-Raphson\n",
    "def fprime(T, S=S, Q=Q, a=3.5465, b=0.208, c=0.7727, d=-0.0315):\n",
    "    return a * b * T**(b-1) * S**(c - d * np.log10(T)) + a * T**b * (d / (np.log(10) * T)) * S**(c +d * np.log10(T) - 1)"
   ]
  },
  {
   "cell_type": "code",
   "execution_count": null,
   "metadata": {},
   "outputs": [],
   "source": [
    "# calcular retorno por el método de Brent\n",
    "Tbrent = optimize.root_scalar(f, bracket=[0.001, 20000], method='brentq').root"
   ]
  },
  {
   "cell_type": "code",
   "execution_count": null,
   "metadata": {},
   "outputs": [],
   "source": [
    "# calcular retorno por el método de Newton\n",
    "Tnewton = optimize.root_scalar(f, x0=0.0001, fprime=fprime, method='newton').root"
   ]
  },
  {
   "cell_type": "code",
   "execution_count": null,
   "metadata": {},
   "outputs": [],
   "source": [
    "# Compruebo que el periodo de retorno es el mismo que el que definí al principio. La  solución del polinomio es correcta\n",
    "print('Brent:\\tT = {0:.6f} años'.format(Tbrent))\n",
    "print('Newton:\\tT = {0:.6f} años'.format(Tnewton))"
   ]
  },
  {
   "cell_type": "markdown",
   "metadata": {},
   "source": [
    " # Esacion Q103"
   ]
  },
  {
   "cell_type": "code",
   "execution_count": null,
   "metadata": {},
   "outputs": [],
   "source": [
    "S=1852.4\n",
    "Q= 423.83"
   ]
  },
  {
   "cell_type": "code",
   "execution_count": null,
   "metadata": {},
   "outputs": [],
   "source": [
    "# Aplico la fórmula\n",
    "Q = Q_from_TS(0.00005, S)\n",
    "print('Q = {0:.1f} m³/s'.format(Q))"
   ]
  },
  {
   "cell_type": "code",
   "execution_count": null,
   "metadata": {},
   "outputs": [],
   "source": []
  },
  {
   "cell_type": "code",
   "execution_count": null,
   "metadata": {},
   "outputs": [],
   "source": []
  },
  {
   "cell_type": "code",
   "execution_count": null,
   "metadata": {},
   "outputs": [],
   "source": [
    "def Q_from_TS(T, S, a=3.5465, b=0.208, c=0.7727, d=-0.0315):\n",
    "    \"\"\"\"\"\"\n",
    "    \n",
    "    Q = a * T**b * S**(c + d * np.log10(T))\n",
    "    \n",
    "    return Q"
   ]
  },
  {
   "cell_type": "code",
   "execution_count": null,
   "metadata": {},
   "outputs": [],
   "source": []
  },
  {
   "cell_type": "code",
   "execution_count": null,
   "metadata": {},
   "outputs": [],
   "source": [
    "def f(T, S=S, Q=Q, a=3.5465, b=0.208, c=0.7727, d=-0.0315):\n",
    "    return round(a * T**b * S**(c + d * np.log10(T)) - Q, 1)"
   ]
  },
  {
   "cell_type": "code",
   "execution_count": null,
   "metadata": {},
   "outputs": [],
   "source": []
  },
  {
   "cell_type": "code",
   "execution_count": null,
   "metadata": {},
   "outputs": [],
   "source": [
    "# Hago la derivada que me servirá para encontrar las raices del polinomio según el metodo de Newton-Raphson\n",
    "def fprime(T, S=S, Q=Q, a=3.5465, b=0.208, c=0.7727, d=-0.0315):\n",
    "    return a * b * T**(b-1) * S**(c - d * np.log10(T)) + a * T**b * (d / (np.log(10) * T)) * S**(c +d * np.log10(T) - 1)"
   ]
  },
  {
   "cell_type": "code",
   "execution_count": null,
   "metadata": {},
   "outputs": [],
   "source": [
    "# calcular retorno por el método de Brent\n",
    "Tbrent = optimize.root_scalar(f, bracket=[0.000001, 10000], method='brentq').root"
   ]
  },
  {
   "cell_type": "code",
   "execution_count": null,
   "metadata": {},
   "outputs": [],
   "source": [
    "# calcular retorno por el método de Newton\n",
    "Tnewton = optimize.root_scalar(f, x0=1, fprime=fprime, method='newton').root"
   ]
  },
  {
   "cell_type": "code",
   "execution_count": null,
   "metadata": {},
   "outputs": [],
   "source": [
    "# Compruebo que el periodo de retorno es el mismo que el que definí al principio. La  solución del polinomio es correcta\n",
    "print('Brent:\\tT = {0:.6f} años'.format(Tbrent))\n",
    "print('Newton:\\tT = {0:.6f} años'.format(Tnewton))"
   ]
  },
  {
   "cell_type": "markdown",
   "metadata": {},
   "source": [
    " # Esacion A615"
   ]
  },
  {
   "cell_type": "code",
   "execution_count": null,
   "metadata": {},
   "outputs": [],
   "source": []
  },
  {
   "cell_type": "code",
   "execution_count": null,
   "metadata": {},
   "outputs": [],
   "source": [
    "S=1734.4\n",
    "Q= 442"
   ]
  },
  {
   "cell_type": "code",
   "execution_count": null,
   "metadata": {},
   "outputs": [],
   "source": [
    "# Aplico la fórmula\n",
    "Q = Q_from_TS(0.00007, S)\n",
    "print('Q = {0:.1f} m³/s'.format(Q))"
   ]
  },
  {
   "cell_type": "code",
   "execution_count": null,
   "metadata": {},
   "outputs": [],
   "source": []
  },
  {
   "cell_type": "code",
   "execution_count": null,
   "metadata": {},
   "outputs": [],
   "source": []
  },
  {
   "cell_type": "code",
   "execution_count": null,
   "metadata": {},
   "outputs": [],
   "source": [
    "def Q_from_TS(T, S, a=3.5465, b=0.208, c=0.7727, d=-0.0315):\n",
    "    \"\"\"\"\"\"\n",
    "    \n",
    "    Q = a * T**b * S**(c + d * np.log10(T))\n",
    "    \n",
    "    return Q"
   ]
  },
  {
   "cell_type": "code",
   "execution_count": null,
   "metadata": {},
   "outputs": [],
   "source": []
  },
  {
   "cell_type": "code",
   "execution_count": null,
   "metadata": {},
   "outputs": [],
   "source": [
    "def f(T, S=S, Q=Q, a=3.5465, b=0.208, c=0.7727, d=-0.0315):\n",
    "    return round(a * T**b * S**(c + d * np.log10(T)) - Q, 1)"
   ]
  },
  {
   "cell_type": "code",
   "execution_count": null,
   "metadata": {},
   "outputs": [],
   "source": []
  },
  {
   "cell_type": "code",
   "execution_count": 25,
   "metadata": {},
   "outputs": [],
   "source": [
    "# Hago la derivada que me servirá para encontrar las raices del polinomio según el metodo de Newton-Raphson\n",
    "def fprime(T, S=S, Q=Q, a=3.5465, b=0.208, c=0.7727, d=-0.0315):\n",
    "    return a * b * T**(b-1) * S**(c - d * np.log10(T)) + a * T**b * (d / (np.log(10) * T)) * S**(c +d * np.log10(T) - 1)"
   ]
  },
  {
   "cell_type": "code",
   "execution_count": 26,
   "metadata": {},
   "outputs": [],
   "source": [
    "# calcular retorno por el método de Brent\n",
    "Tbrent = optimize.root_scalar(f, bracket=[0.000001, 10000], method='brentq').root"
   ]
  },
  {
   "cell_type": "code",
   "execution_count": 27,
   "metadata": {},
   "outputs": [],
   "source": [
    "# calcular retorno por el método de Newton\n",
    "Tnewton = optimize.root_scalar(f, x0=0.00007, fprime=fprime, method='newton').root"
   ]
  },
  {
   "cell_type": "code",
   "execution_count": 28,
   "metadata": {},
   "outputs": [
    {
     "name": "stdout",
     "output_type": "stream",
     "text": [
      "Brent:\tT = 0.000070 años\n",
      "Newton:\tT = 0.000070 años\n"
     ]
    }
   ],
   "source": [
    "# Compruebo que el periodo de retorno es el mismo que el que definí al principio. La  solución del polinomio es correcta\n",
    "print('Brent:\\tT = {0:.6f} años'.format(Tbrent))\n",
    "print('Newton:\\tT = {0:.6f} años'.format(Tnewton))"
   ]
  },
  {
   "cell_type": "markdown",
   "metadata": {},
   "source": [
    " # Estacion A626"
   ]
  },
  {
   "cell_type": "code",
   "execution_count": null,
   "metadata": {},
   "outputs": [],
   "source": []
  },
  {
   "cell_type": "code",
   "execution_count": null,
   "metadata": {},
   "outputs": [],
   "source": []
  },
  {
   "cell_type": "code",
   "execution_count": 29,
   "metadata": {},
   "outputs": [],
   "source": [
    "S=1210\n",
    "Q= 270"
   ]
  },
  {
   "cell_type": "code",
   "execution_count": 30,
   "metadata": {},
   "outputs": [
    {
     "name": "stdout",
     "output_type": "stream",
     "text": [
      "Q = 295.9 m³/s\n"
     ]
    }
   ],
   "source": [
    "# Aplico la fórmula\n",
    "Q = Q_from_TS(0.00007, S)\n",
    "print('Q = {0:.1f} m³/s'.format(Q))"
   ]
  },
  {
   "cell_type": "code",
   "execution_count": 31,
   "metadata": {},
   "outputs": [],
   "source": [
    "def Q_from_TS(T, S, a=3.5465, b=0.208, c=0.7727, d=-0.0315):\n",
    "    \"\"\"\"\"\"\n",
    "    \n",
    "    Q = a * T**b * S**(c + d * np.log10(T))\n",
    "    \n",
    "    return Q"
   ]
  },
  {
   "cell_type": "code",
   "execution_count": null,
   "metadata": {},
   "outputs": [],
   "source": []
  },
  {
   "cell_type": "code",
   "execution_count": 32,
   "metadata": {},
   "outputs": [],
   "source": [
    "def f(T, S=S, Q=Q, a=3.5465, b=0.208, c=0.7727, d=-0.0315):\n",
    "    return round(a * T**b * S**(c + d * np.log10(T)) - Q, 1)"
   ]
  },
  {
   "cell_type": "code",
   "execution_count": null,
   "metadata": {},
   "outputs": [],
   "source": []
  },
  {
   "cell_type": "code",
   "execution_count": 33,
   "metadata": {},
   "outputs": [],
   "source": [
    "# Hago la derivada que me servirá para encontrar las raices del polinomio según el metodo de Newton-Raphson\n",
    "def fprime(T, S=S, Q=Q, a=3.5465, b=0.208, c=0.7727, d=-0.0315):\n",
    "    return a * b * T**(b-1) * S**(c - d * np.log10(T)) + a * T**b * (d / (np.log(10) * T)) * S**(c +d * np.log10(T) - 1)"
   ]
  },
  {
   "cell_type": "code",
   "execution_count": 34,
   "metadata": {},
   "outputs": [],
   "source": [
    "# calcular retorno por el método de Brent\n",
    "Tbrent = optimize.root_scalar(f, bracket=[0.000001, 10000], method='brentq').root"
   ]
  },
  {
   "cell_type": "code",
   "execution_count": 35,
   "metadata": {},
   "outputs": [
    {
     "name": "stderr",
     "output_type": "stream",
     "text": [
      "<ipython-input-32-4dba5bd6f328>:2: RuntimeWarning: invalid value encountered in double_scalars\n",
      "  return round(a * T**b * S**(c + d * np.log10(T)) - Q, 1)\n",
      "<ipython-input-32-4dba5bd6f328>:2: RuntimeWarning: invalid value encountered in log10\n",
      "  return round(a * T**b * S**(c + d * np.log10(T)) - Q, 1)\n",
      "<ipython-input-33-e5d00ff4323c>:3: RuntimeWarning: invalid value encountered in double_scalars\n",
      "  return a * b * T**(b-1) * S**(c - d * np.log10(T)) + a * T**b * (d / (np.log(10) * T)) * S**(c +d * np.log10(T) - 1)\n",
      "<ipython-input-33-e5d00ff4323c>:3: RuntimeWarning: invalid value encountered in log10\n",
      "  return a * b * T**(b-1) * S**(c - d * np.log10(T)) + a * T**b * (d / (np.log(10) * T)) * S**(c +d * np.log10(T) - 1)\n"
     ]
    }
   ],
   "source": [
    "# calcular retorno por el método de Newton\n",
    "Tnewton = optimize.root_scalar(f, x0=0.000031, fprime=fprime, method='newton').root"
   ]
  },
  {
   "cell_type": "code",
   "execution_count": 36,
   "metadata": {},
   "outputs": [
    {
     "name": "stdout",
     "output_type": "stream",
     "text": [
      "Brent:\tT = 0.000070 años\n",
      "Newton:\tT = nan años\n"
     ]
    }
   ],
   "source": [
    "# Compruebo que el periodo de retorno es el mismo que el que definí al principio. La  solución del polinomio es correcta\n",
    "print('Brent:\\tT = {0:.6f} años'.format(Tbrent))\n",
    "print('Newton:\\tT = {0:.6f} años'.format(Tnewton))"
   ]
  },
  {
   "cell_type": "code",
   "execution_count": 37,
   "metadata": {},
   "outputs": [],
   "source": [
    "T = 10"
   ]
  },
  {
   "cell_type": "code",
   "execution_count": 38,
   "metadata": {},
   "outputs": [],
   "source": [
    "# He creado 50 numeros en espacio logaritmico\n",
    "# stop in np.logspace(start, stop, num=50) is the final value of the sequence. Number of samples to generate. Default is 50.\n",
    "Ss = np.logspace(0, 4, num=50)\n",
    "# Sz=np.random.multivariate_normal(mean, cov, 50)\n",
    "\n",
    "# Periodos de retorno\n",
    "Ts = [5, 10, 25, 50, 1000]\n",
    "\n",
    "Qs = pd.DataFrame(index=Ss, columns=Ts)\n",
    "for T in Qs.columns:\n",
    "    Qs[T] = np.array([Q_from_TS(T, S) / S for S in Ss])"
   ]
  },
  {
   "cell_type": "code",
   "execution_count": 39,
   "metadata": {},
   "outputs": [
    {
     "data": {
      "text/plain": [
       "array([1.00000000e+00, 1.20679264e+00, 1.45634848e+00, 1.75751062e+00,\n",
       "       2.12095089e+00, 2.55954792e+00, 3.08884360e+00, 3.72759372e+00,\n",
       "       4.49843267e+00, 5.42867544e+00, 6.55128557e+00, 7.90604321e+00,\n",
       "       9.54095476e+00, 1.15139540e+01, 1.38949549e+01, 1.67683294e+01,\n",
       "       2.02358965e+01, 2.44205309e+01, 2.94705170e+01, 3.55648031e+01,\n",
       "       4.29193426e+01, 5.17947468e+01, 6.25055193e+01, 7.54312006e+01,\n",
       "       9.10298178e+01, 1.09854114e+02, 1.32571137e+02, 1.59985872e+02,\n",
       "       1.93069773e+02, 2.32995181e+02, 2.81176870e+02, 3.39322177e+02,\n",
       "       4.09491506e+02, 4.94171336e+02, 5.96362332e+02, 7.19685673e+02,\n",
       "       8.68511374e+02, 1.04811313e+03, 1.26485522e+03, 1.52641797e+03,\n",
       "       1.84206997e+03, 2.22299648e+03, 2.68269580e+03, 3.23745754e+03,\n",
       "       3.90693994e+03, 4.71486636e+03, 5.68986603e+03, 6.86648845e+03,\n",
       "       8.28642773e+03, 1.00000000e+04])"
      ]
     },
     "execution_count": 39,
     "metadata": {},
     "output_type": "execute_result"
    }
   ],
   "source": [
    "Ss"
   ]
  },
  {
   "cell_type": "code",
   "execution_count": 40,
   "metadata": {},
   "outputs": [
    {
     "data": {
      "image/png": "[encoded data removed]",
      "text/plain": [
       "<Figure size 1152x288 with 1 Axes>"
      ]
     },
     "metadata": {},
     "output_type": "display_data"
    }
   ],
   "source": [
    "plt.figure(figsize=(16, 4))\n",
    "\n",
    "for T in Qs.columns:\n",
    "    plt.plot(Ss, Qs[T], label=T)\n",
    "\n",
    "yticks = np.linspace(0, 10, 11)\n",
    "plt.yticks(ticks=yticks, labels=yticks)\n",
    "plt.xlabel('S [km²]')\n",
    "plt.ylabel('Qesp [m³/(s·km²)]')\n",
    "plt.yscale('log')\n",
    "plt.xscale('log')\n",
    "plt.legend();"
   ]
  },
  {
   "cell_type": "markdown",
   "metadata": {},
   "source": [
    "# Parte II"
   ]
  },
  {
   "cell_type": "code",
   "execution_count": 41,
   "metadata": {},
   "outputs": [],
   "source": [
    "# importo el ábaco del excel\n",
    "abaco = pd.read_excel('abaco.xlsx', sheet_name='abaco', index_col='S')"
   ]
  },
  {
   "cell_type": "code",
   "execution_count": 42,
   "metadata": {},
   "outputs": [
    {
     "data": {
      "text/html": [
       "<div>\n",
       "<style scoped>\n",
       "    .dataframe tbody tr th:only-of-type {\n",
       "        vertical-align: middle;\n",
       "    }\n",
       "\n",
       "    .dataframe tbody tr th {\n",
       "        vertical-align: top;\n",
       "    }\n",
       "\n",
       "    .dataframe thead th {\n",
       "        text-align: right;\n",
       "    }\n",
       "</style>\n",
       "<table border=\"1\" class=\"dataframe\">\n",
       "  <thead>\n",
       "    <tr style=\"text-align: right;\">\n",
       "      <th></th>\n",
       "      <th>Q5</th>\n",
       "      <th>Q10</th>\n",
       "      <th>Q25</th>\n",
       "      <th>Q50</th>\n",
       "      <th>Q100</th>\n",
       "      <th>Q500</th>\n",
       "    </tr>\n",
       "    <tr>\n",
       "      <th>S</th>\n",
       "      <th></th>\n",
       "      <th></th>\n",
       "      <th></th>\n",
       "      <th></th>\n",
       "      <th></th>\n",
       "      <th></th>\n",
       "    </tr>\n",
       "  </thead>\n",
       "  <tbody>\n",
       "    <tr>\n",
       "      <th>100</th>\n",
       "      <td>1.60000</td>\n",
       "      <td>1.719998</td>\n",
       "      <td>1.950000</td>\n",
       "      <td>2.200000</td>\n",
       "      <td>4.00000</td>\n",
       "      <td>6.26999</td>\n",
       "    </tr>\n",
       "    <tr>\n",
       "      <th>200</th>\n",
       "      <td>1.59407</td>\n",
       "      <td>1.713566</td>\n",
       "      <td>1.942563</td>\n",
       "      <td>2.191558</td>\n",
       "      <td>3.98392</td>\n",
       "      <td>6.24438</td>\n",
       "    </tr>\n",
       "    <tr>\n",
       "      <th>300</th>\n",
       "      <td>1.58814</td>\n",
       "      <td>1.707134</td>\n",
       "      <td>1.935126</td>\n",
       "      <td>2.183116</td>\n",
       "      <td>3.96784</td>\n",
       "      <td>6.21877</td>\n",
       "    </tr>\n",
       "    <tr>\n",
       "      <th>400</th>\n",
       "      <td>1.58221</td>\n",
       "      <td>1.700702</td>\n",
       "      <td>1.927689</td>\n",
       "      <td>2.174674</td>\n",
       "      <td>3.95176</td>\n",
       "      <td>6.19316</td>\n",
       "    </tr>\n",
       "    <tr>\n",
       "      <th>500</th>\n",
       "      <td>1.57628</td>\n",
       "      <td>1.694270</td>\n",
       "      <td>1.920252</td>\n",
       "      <td>2.166232</td>\n",
       "      <td>3.93568</td>\n",
       "      <td>6.16755</td>\n",
       "    </tr>\n",
       "    <tr>\n",
       "      <th>...</th>\n",
       "      <td>...</td>\n",
       "      <td>...</td>\n",
       "      <td>...</td>\n",
       "      <td>...</td>\n",
       "      <td>...</td>\n",
       "      <td>...</td>\n",
       "    </tr>\n",
       "    <tr>\n",
       "      <th>19600</th>\n",
       "      <td>0.44365</td>\n",
       "      <td>0.465758</td>\n",
       "      <td>0.499785</td>\n",
       "      <td>0.553810</td>\n",
       "      <td>0.86440</td>\n",
       "      <td>1.27604</td>\n",
       "    </tr>\n",
       "    <tr>\n",
       "      <th>19700</th>\n",
       "      <td>0.43772</td>\n",
       "      <td>0.459326</td>\n",
       "      <td>0.492348</td>\n",
       "      <td>0.545368</td>\n",
       "      <td>0.84832</td>\n",
       "      <td>1.25043</td>\n",
       "    </tr>\n",
       "    <tr>\n",
       "      <th>19800</th>\n",
       "      <td>0.43179</td>\n",
       "      <td>0.452894</td>\n",
       "      <td>0.484911</td>\n",
       "      <td>0.536926</td>\n",
       "      <td>0.83224</td>\n",
       "      <td>1.22482</td>\n",
       "    </tr>\n",
       "    <tr>\n",
       "      <th>19900</th>\n",
       "      <td>0.42586</td>\n",
       "      <td>0.446462</td>\n",
       "      <td>0.477474</td>\n",
       "      <td>0.528484</td>\n",
       "      <td>0.81616</td>\n",
       "      <td>1.19921</td>\n",
       "    </tr>\n",
       "    <tr>\n",
       "      <th>20000</th>\n",
       "      <td>0.41993</td>\n",
       "      <td>0.440030</td>\n",
       "      <td>0.470037</td>\n",
       "      <td>0.520042</td>\n",
       "      <td>0.80008</td>\n",
       "      <td>1.17360</td>\n",
       "    </tr>\n",
       "  </tbody>\n",
       "</table>\n",
       "<p>200 rows × 6 columns</p>\n",
       "</div>"
      ],
      "text/plain": [
       "            Q5       Q10       Q25       Q50     Q100     Q500\n",
       "S                                                             \n",
       "100    1.60000  1.719998  1.950000  2.200000  4.00000  6.26999\n",
       "200    1.59407  1.713566  1.942563  2.191558  3.98392  6.24438\n",
       "300    1.58814  1.707134  1.935126  2.183116  3.96784  6.21877\n",
       "400    1.58221  1.700702  1.927689  2.174674  3.95176  6.19316\n",
       "500    1.57628  1.694270  1.920252  2.166232  3.93568  6.16755\n",
       "...        ...       ...       ...       ...      ...      ...\n",
       "19600  0.44365  0.465758  0.499785  0.553810  0.86440  1.27604\n",
       "19700  0.43772  0.459326  0.492348  0.545368  0.84832  1.25043\n",
       "19800  0.43179  0.452894  0.484911  0.536926  0.83224  1.22482\n",
       "19900  0.42586  0.446462  0.477474  0.528484  0.81616  1.19921\n",
       "20000  0.41993  0.440030  0.470037  0.520042  0.80008  1.17360\n",
       "\n",
       "[200 rows x 6 columns]"
      ]
     },
     "execution_count": 42,
     "metadata": {},
     "output_type": "execute_result"
    }
   ],
   "source": [
    "abaco"
   ]
  },
  {
   "cell_type": "code",
   "execution_count": 43,
   "metadata": {},
   "outputs": [
    {
     "data": {
      "text/plain": [
       "Index(['Q5', 'Q10', 'Q25', 'Q50', 'Q100', 'Q500'], dtype='object')"
      ]
     },
     "execution_count": 43,
     "metadata": {},
     "output_type": "execute_result"
    }
   ],
   "source": [
    "abaco.columns"
   ]
  },
  {
   "cell_type": "code",
   "execution_count": 44,
   "metadata": {},
   "outputs": [
    {
     "data": {
      "text/plain": [
       "Int64Index([  100,   200,   300,   400,   500,   600,   700,   800,   900,\n",
       "             1000,\n",
       "            ...\n",
       "            19100, 19200, 19300, 19400, 19500, 19600, 19700, 19800, 19900,\n",
       "            20000],\n",
       "           dtype='int64', name='S', length=200)"
      ]
     },
     "execution_count": 44,
     "metadata": {},
     "output_type": "execute_result"
    }
   ],
   "source": [
    "abaco.index"
   ]
  },
  {
   "cell_type": "code",
   "execution_count": 45,
   "metadata": {},
   "outputs": [],
   "source": [
    "# ajustar polinomio para un periodo de retorno \n",
    "# numpy.polyfit(x, y, deg).Returns a vector of coefficients p that minimises the squared error in the order deg\n",
    "pars = np.polyfit(np.log10(abaco.index), np.log10(abaco.Q10), deg=3)\n"
   ]
  },
  {
   "cell_type": "code",
   "execution_count": 46,
   "metadata": {},
   "outputs": [
    {
     "data": {
      "text/plain": [
       "array([-0.25931859,  2.31029345, -6.76078834,  6.6902066 ])"
      ]
     },
     "execution_count": 46,
     "metadata": {},
     "output_type": "execute_result"
    }
   ],
   "source": [
    "pars"
   ]
  },
  {
   "cell_type": "code",
   "execution_count": 47,
   "metadata": {},
   "outputs": [
    {
     "name": "stdout",
     "output_type": "stream",
     "text": [
      "La ecuación queda de la siguiente manera: log Qs = -0.259 (log S)³ + 2.310 (log S)² + -6.761 log S + 6.690\n"
     ]
    }
   ],
   "source": [
    "print('La ecuación queda de la siguiente manera: log Qs = {0:.3f} (log S)³ + {1:.3f} (log S)² + {2:.3f} log S + {3:.3f}'.format(*pars))"
   ]
  },
  {
   "cell_type": "code",
   "execution_count": 48,
   "metadata": {},
   "outputs": [],
   "source": [
    "# calcular puntos de la curva ajustada\n",
    "\n",
    "# He creado 50 numeros en espacio logaritmico\n",
    "S_ = np.logspace(0, 5, 50)\n",
    "# np.polyval(pars, x). If x is a sequence, then p(x) is returned for each element of x.\n",
    "Q_ = 10**np.polyval(pars, np.log10(S_))\n"
   ]
  },
  {
   "cell_type": "code",
   "execution_count": 49,
   "metadata": {},
   "outputs": [
    {
     "data": {
      "image/png": "[encoded data removed]",
      "text/plain": [
       "<Figure size 432x288 with 1 Axes>"
      ]
     },
     "metadata": {},
     "output_type": "display_data"
    }
   ],
   "source": [
    "# gráfico\n",
    "plt.scatter(abaco.index, abaco.Q10, s=10, c='k', label='abaco')\n",
    "plt.plot(S_, Q_)\n",
    "\n",
    "plt.xscale('log')\n",
    "plt.yscale('log')"
   ]
  },
  {
   "cell_type": "markdown",
   "metadata": {},
   "source": [
    "***"
   ]
  },
  {
   "cell_type": "markdown",
   "metadata": {},
   "source": [
    "# Parte III: A partir de una distribucion normal"
   ]
  },
  {
   "cell_type": "code",
   "execution_count": 50,
   "metadata": {},
   "outputs": [],
   "source": [
    "# https://gist.github.com/amroamroamro/1db8d69b4b65e8bc66a6"
   ]
  },
  {
   "cell_type": "code",
   "execution_count": 51,
   "metadata": {},
   "outputs": [],
   "source": [
    "import numpy as np\n",
    "import scipy.linalg\n",
    "from mpl_toolkits.mplot3d import Axes3D\n",
    "import matplotlib.pyplot as plt"
   ]
  },
  {
   "cell_type": "code",
   "execution_count": 52,
   "metadata": {},
   "outputs": [],
   "source": [
    "# some 3-dim points\n",
    "mean = np.array([0.0,0.0,0.0])\n",
    "cov = np.array([[1.0,-0.5,0.8], [-0.5,1.1,0.0], [0.8,0.0,1.0]])\n",
    "datos = np.random.multivariate_normal(mean, cov, 60)"
   ]
  },
  {
   "cell_type": "code",
   "execution_count": 53,
   "metadata": {},
   "outputs": [
    {
     "data": {
      "text/plain": [
       "array([[ 1.89156222e+00,  2.10881944e-02,  2.32312602e+00],\n",
       "       [-1.36839155e+00,  1.74159348e-02, -1.10919120e+00],\n",
       "       [ 9.31161044e-01,  1.75654195e-01,  1.86743575e+00],\n",
       "       [-2.35346105e+00,  1.77075431e+00, -1.92518039e+00],\n",
       "       [-1.63493810e-01, -4.08280237e-01,  4.11015382e-01],\n",
       "       [ 4.97709556e-01, -4.01534339e-01, -4.73388618e-01],\n",
       "       [ 8.62876292e-01,  8.88990231e-01,  1.65773796e+00],\n",
       "       [-1.39625495e+00,  6.69746903e-03, -1.07117059e+00],\n",
       "       [-9.13312443e-01,  1.43902849e-01, -1.52730139e+00],\n",
       "       [-8.00465996e-01,  6.31844205e-01, -4.22557065e-01],\n",
       "       [-2.45939157e-01, -5.95049066e-01, -5.80249303e-01],\n",
       "       [ 1.56482101e-01,  7.63168700e-01,  1.38006508e+00],\n",
       "       [ 1.05394446e+00, -9.75368544e-01,  1.11985709e+00],\n",
       "       [ 4.87474280e-01,  9.34168248e-01,  1.50517198e+00],\n",
       "       [ 7.23632999e-01, -7.47968210e-01,  6.05719748e-01],\n",
       "       [-2.57062068e-01, -7.20584392e-01, -4.93429531e-01],\n",
       "       [ 2.53582871e-01,  1.45458330e+00,  1.11770970e+00],\n",
       "       [ 1.45518847e-01,  1.92303757e-01, -1.59072927e-01],\n",
       "       [-2.54237749e+00,  9.19632120e-01, -2.65531927e+00],\n",
       "       [ 8.08457334e-01,  1.88586250e-02,  6.72298699e-01],\n",
       "       [-2.59734824e-03, -4.84729856e-01, -2.06360950e-01],\n",
       "       [-2.09218854e+00,  2.76816765e+00, -1.21298343e+00],\n",
       "       [ 1.11506226e+00, -5.80683214e-01,  1.76303966e-02],\n",
       "       [-3.56696392e-01,  2.86574866e-01, -8.21849394e-01],\n",
       "       [ 7.92197643e-01, -3.36859584e-01,  9.58334813e-01],\n",
       "       [-6.44233238e-01,  2.14985046e+00,  1.93160619e-01],\n",
       "       [-6.57714549e-01, -7.06397696e-02, -1.20513245e+00],\n",
       "       [-9.47152038e-01,  2.52059509e+00,  9.44465964e-02],\n",
       "       [ 1.85077093e+00,  4.19195111e-01,  2.38964521e+00],\n",
       "       [-5.41453952e-01, -1.81525494e+00, -9.14448625e-01],\n",
       "       [-5.17858714e-02,  3.70391128e-02, -1.09082083e-01],\n",
       "       [-2.66870082e+00,  1.05142482e+00, -2.37838685e+00],\n",
       "       [-1.40303638e+00,  9.33152887e-01, -1.35649362e+00],\n",
       "       [ 1.74851454e-01, -1.90236502e+00, -1.49945248e+00],\n",
       "       [ 1.35361181e+00, -5.77425447e-01,  1.55293759e+00],\n",
       "       [ 1.56926158e+00, -1.12662164e+00,  1.38357274e+00],\n",
       "       [-7.24039653e-01,  8.10034303e-01, -5.33154955e-01],\n",
       "       [-3.41979338e-01,  1.32961202e-02, -1.99980665e-01],\n",
       "       [-9.54405338e-02, -8.85411198e-01,  2.18359720e-01],\n",
       "       [-5.27803922e-01,  1.41395202e-02, -5.05892064e-01],\n",
       "       [-2.97323835e-01, -3.98411141e-01, -9.29362757e-01],\n",
       "       [-2.44134709e+00, -8.71911227e-02, -2.87825857e+00],\n",
       "       [ 5.30747719e-01,  8.47819455e-01,  9.05453605e-01],\n",
       "       [-2.33130864e+00,  4.10430111e-01, -2.86597196e+00],\n",
       "       [-1.20259146e-01,  4.54899911e-01,  1.58031887e-01],\n",
       "       [-8.88435816e-01,  1.76789042e+00,  2.00096390e-01],\n",
       "       [-8.39282076e-01,  2.57504608e+00,  3.84883822e-01],\n",
       "       [ 1.97557102e-01, -6.06506233e-01, -3.54287362e-01],\n",
       "       [ 1.14832089e+00, -2.83747795e-01,  5.22093093e-01],\n",
       "       [ 3.74817951e-01, -7.86892149e-01,  3.60521089e-02],\n",
       "       [-6.71397085e-01,  9.22645174e-01, -6.91406120e-01],\n",
       "       [ 1.48927156e+00,  7.67369855e-01,  1.55014576e+00],\n",
       "       [ 2.45366085e-01,  1.54090857e+00,  1.43315216e+00],\n",
       "       [ 3.57171403e-01,  9.88806145e-01,  5.03251167e-01],\n",
       "       [ 8.35264782e-01, -4.29257360e-01,  1.12612326e+00],\n",
       "       [ 2.18929978e+00, -2.41993621e+00,  1.32445106e+00],\n",
       "       [ 1.43047447e+00, -1.00983338e+00,  1.02787160e+00],\n",
       "       [ 1.76577872e-01, -5.82053616e-01,  1.15993804e-01],\n",
       "       [-4.85185219e-01,  1.65851585e+00, -7.67441652e-01],\n",
       "       [-4.65824647e-01, -1.29929105e+00, -1.32734180e+00]])"
      ]
     },
     "execution_count": 53,
     "metadata": {},
     "output_type": "execute_result"
    }
   ],
   "source": [
    "datos\n"
   ]
  },
  {
   "cell_type": "code",
   "execution_count": 54,
   "metadata": {},
   "outputs": [
    {
     "data": {
      "text/plain": [
       "(60, 3)"
      ]
     },
     "execution_count": 54,
     "metadata": {},
     "output_type": "execute_result"
    }
   ],
   "source": [
    "datos.shape"
   ]
  },
  {
   "cell_type": "code",
   "execution_count": 55,
   "metadata": {},
   "outputs": [],
   "source": [
    "# regular grid covering the domain of the data\n",
    "XX,YY = np.meshgrid(np.arange(-3.0, 3.0, 0.5), np.arange(-3.0, 3.0, 0.5))\n",
    "X = XX.flatten()\n",
    "Y = YY.flatten()"
   ]
  },
  {
   "cell_type": "code",
   "execution_count": 56,
   "metadata": {},
   "outputs": [],
   "source": [
    "order = 2    # 1: linear, 2: quadratic\n",
    "if order == 1:\n",
    "    # best-fit linear plane: Z = a·X + b·Y + c\n",
    "    A = np.c_[datos[:,0], datos[:,1], np.ones(datos.shape[0])]\n",
    "    pars, residues, rank, s = scipy.linalg.lstsq(A, datos[:,2])    # coefficients\n",
    "    \n",
    "    # evaluate it on grid\n",
    "    a, b, c = pars\n",
    "    ZZ = a * XX + b * YY + c\n",
    "    \n",
    "    # or expressed using matrix/vector product\n",
    "    #Z = np.dot(np.c_[XX, YY, np.ones(XX.shape)], C).reshape(X.shape)\n",
    "\n",
    "elif order == 2:\n",
    "    # best-fit quadratic curve: Z = a + b·X + c·Y + d·X·Y + e·X² + f·Y²\n",
    "    A = np.c_[np.ones(datos.shape[0]), datos[:,:2], np.prod(datos[:,:2], axis=1), datos[:,:2]**2]\n",
    "    pars, residues, rank, s = scipy.linalg.lstsq(A, datos[:,2])\n",
    "    \n",
    "    # evaluate it on a grid\n",
    "    a, b, c, d, e, f = pars\n",
    "    ZZ = np.dot(np.c_[np.ones(X.shape), X, Y, X*Y, X**2, Y**2], pars).reshape(XX.shape)"
   ]
  },
  {
   "cell_type": "code",
   "execution_count": 57,
   "metadata": {},
   "outputs": [
    {
     "data": {
      "image/png": "[encoded data removed]",
      "text/plain": [
       "<Figure size 360x360 with 1 Axes>"
      ]
     },
     "metadata": {},
     "output_type": "display_data"
    }
   ],
   "source": [
    "plt.figure(figsize=(5, 5))\n",
    "plt.scatter(XX, YY, s=10, c=ZZ, cmap='viridis')\n",
    "plt.scatter(datos[:,0], datos[:,1], marker='x', c=datos[:,2], cmap='viridis')\n",
    "plt.xlabel('X')\n",
    "plt.ylabel('Y')\n",
    "plt.axis('equal');"
   ]
  },
  {
   "cell_type": "code",
   "execution_count": 58,
   "metadata": {},
   "outputs": [
    {
     "data": {
      "text/plain": [
       "array([-0.02293292,  1.14190491,  0.4685291 ,  0.05194081,  0.00932829,\n",
       "        0.02111693])"
      ]
     },
     "execution_count": 58,
     "metadata": {},
     "output_type": "execute_result"
    }
   ],
   "source": [
    "pars"
   ]
  },
  {
   "cell_type": "code",
   "execution_count": null,
   "metadata": {},
   "outputs": [],
   "source": []
  },
  {
   "cell_type": "code",
   "execution_count": 59,
   "metadata": {},
   "outputs": [
    {
     "data": {
      "image/png": "[encoded data removed]",
      "text/plain": [
       "<Figure size 432x288 with 1 Axes>"
      ]
     },
     "metadata": {},
     "output_type": "display_data"
    }
   ],
   "source": [
    "# plot points and fitted surface\n",
    "fig = plt.figure()\n",
    "ax = fig.gca(projection='3d')\n",
    "ax.plot_surface(XX, YY, ZZ, rstride=1, cstride=1, alpha=0.2)\n",
    "ax.scatter(datos[:,0], datos[:,1], datos[:,2], c='r', s=50)\n",
    "plt.xlabel('X')\n",
    "plt.ylabel('Y')\n",
    "ax.set_zlabel('Z')\n",
    "# ax.axis('equal')\n",
    "ax.axis('tight')\n",
    "plt.show()"
   ]
  },
  {
   "cell_type": "code",
   "execution_count": 60,
   "metadata": {
    "jupyter": {
     "source_hidden": true
    }
   },
   "outputs": [
    {
     "data": {
      "text/plain": [
       "array([-0.02293292,  1.14190491,  0.4685291 ,  0.05194081,  0.00932829,\n",
       "        0.02111693])"
      ]
     },
     "execution_count": 60,
     "metadata": {},
     "output_type": "execute_result"
    }
   ],
   "source": [
    "pars"
   ]
  },
  {
   "cell_type": "markdown",
   "metadata": {},
   "source": [
    " # parte IV: A partir de una malla regular con los datos del ábaco"
   ]
  },
  {
   "cell_type": "code",
   "execution_count": 61,
   "metadata": {},
   "outputs": [
    {
     "data": {
      "text/plain": [
       "(200, 6)"
      ]
     },
     "execution_count": 61,
     "metadata": {},
     "output_type": "execute_result"
    }
   ],
   "source": [
    "abaco.shape"
   ]
  },
  {
   "cell_type": "code",
   "execution_count": 62,
   "metadata": {},
   "outputs": [
    {
     "data": {
      "text/html": [
       "<div>\n",
       "<style scoped>\n",
       "    .dataframe tbody tr th:only-of-type {\n",
       "        vertical-align: middle;\n",
       "    }\n",
       "\n",
       "    .dataframe tbody tr th {\n",
       "        vertical-align: top;\n",
       "    }\n",
       "\n",
       "    .dataframe thead th {\n",
       "        text-align: right;\n",
       "    }\n",
       "</style>\n",
       "<table border=\"1\" class=\"dataframe\">\n",
       "  <thead>\n",
       "    <tr style=\"text-align: right;\">\n",
       "      <th></th>\n",
       "      <th>Q5</th>\n",
       "      <th>Q10</th>\n",
       "      <th>Q25</th>\n",
       "      <th>Q50</th>\n",
       "      <th>Q100</th>\n",
       "      <th>Q500</th>\n",
       "    </tr>\n",
       "    <tr>\n",
       "      <th>S</th>\n",
       "      <th></th>\n",
       "      <th></th>\n",
       "      <th></th>\n",
       "      <th></th>\n",
       "      <th></th>\n",
       "      <th></th>\n",
       "    </tr>\n",
       "  </thead>\n",
       "  <tbody>\n",
       "    <tr>\n",
       "      <th>100</th>\n",
       "      <td>1.60000</td>\n",
       "      <td>1.719998</td>\n",
       "      <td>1.950000</td>\n",
       "      <td>2.200000</td>\n",
       "      <td>4.00000</td>\n",
       "      <td>6.26999</td>\n",
       "    </tr>\n",
       "    <tr>\n",
       "      <th>200</th>\n",
       "      <td>1.59407</td>\n",
       "      <td>1.713566</td>\n",
       "      <td>1.942563</td>\n",
       "      <td>2.191558</td>\n",
       "      <td>3.98392</td>\n",
       "      <td>6.24438</td>\n",
       "    </tr>\n",
       "    <tr>\n",
       "      <th>300</th>\n",
       "      <td>1.58814</td>\n",
       "      <td>1.707134</td>\n",
       "      <td>1.935126</td>\n",
       "      <td>2.183116</td>\n",
       "      <td>3.96784</td>\n",
       "      <td>6.21877</td>\n",
       "    </tr>\n",
       "    <tr>\n",
       "      <th>400</th>\n",
       "      <td>1.58221</td>\n",
       "      <td>1.700702</td>\n",
       "      <td>1.927689</td>\n",
       "      <td>2.174674</td>\n",
       "      <td>3.95176</td>\n",
       "      <td>6.19316</td>\n",
       "    </tr>\n",
       "    <tr>\n",
       "      <th>500</th>\n",
       "      <td>1.57628</td>\n",
       "      <td>1.694270</td>\n",
       "      <td>1.920252</td>\n",
       "      <td>2.166232</td>\n",
       "      <td>3.93568</td>\n",
       "      <td>6.16755</td>\n",
       "    </tr>\n",
       "    <tr>\n",
       "      <th>...</th>\n",
       "      <td>...</td>\n",
       "      <td>...</td>\n",
       "      <td>...</td>\n",
       "      <td>...</td>\n",
       "      <td>...</td>\n",
       "      <td>...</td>\n",
       "    </tr>\n",
       "    <tr>\n",
       "      <th>19600</th>\n",
       "      <td>0.44365</td>\n",
       "      <td>0.465758</td>\n",
       "      <td>0.499785</td>\n",
       "      <td>0.553810</td>\n",
       "      <td>0.86440</td>\n",
       "      <td>1.27604</td>\n",
       "    </tr>\n",
       "    <tr>\n",
       "      <th>19700</th>\n",
       "      <td>0.43772</td>\n",
       "      <td>0.459326</td>\n",
       "      <td>0.492348</td>\n",
       "      <td>0.545368</td>\n",
       "      <td>0.84832</td>\n",
       "      <td>1.25043</td>\n",
       "    </tr>\n",
       "    <tr>\n",
       "      <th>19800</th>\n",
       "      <td>0.43179</td>\n",
       "      <td>0.452894</td>\n",
       "      <td>0.484911</td>\n",
       "      <td>0.536926</td>\n",
       "      <td>0.83224</td>\n",
       "      <td>1.22482</td>\n",
       "    </tr>\n",
       "    <tr>\n",
       "      <th>19900</th>\n",
       "      <td>0.42586</td>\n",
       "      <td>0.446462</td>\n",
       "      <td>0.477474</td>\n",
       "      <td>0.528484</td>\n",
       "      <td>0.81616</td>\n",
       "      <td>1.19921</td>\n",
       "    </tr>\n",
       "    <tr>\n",
       "      <th>20000</th>\n",
       "      <td>0.41993</td>\n",
       "      <td>0.440030</td>\n",
       "      <td>0.470037</td>\n",
       "      <td>0.520042</td>\n",
       "      <td>0.80008</td>\n",
       "      <td>1.17360</td>\n",
       "    </tr>\n",
       "  </tbody>\n",
       "</table>\n",
       "<p>200 rows × 6 columns</p>\n",
       "</div>"
      ],
      "text/plain": [
       "            Q5       Q10       Q25       Q50     Q100     Q500\n",
       "S                                                             \n",
       "100    1.60000  1.719998  1.950000  2.200000  4.00000  6.26999\n",
       "200    1.59407  1.713566  1.942563  2.191558  3.98392  6.24438\n",
       "300    1.58814  1.707134  1.935126  2.183116  3.96784  6.21877\n",
       "400    1.58221  1.700702  1.927689  2.174674  3.95176  6.19316\n",
       "500    1.57628  1.694270  1.920252  2.166232  3.93568  6.16755\n",
       "...        ...       ...       ...       ...      ...      ...\n",
       "19600  0.44365  0.465758  0.499785  0.553810  0.86440  1.27604\n",
       "19700  0.43772  0.459326  0.492348  0.545368  0.84832  1.25043\n",
       "19800  0.43179  0.452894  0.484911  0.536926  0.83224  1.22482\n",
       "19900  0.42586  0.446462  0.477474  0.528484  0.81616  1.19921\n",
       "20000  0.41993  0.440030  0.470037  0.520042  0.80008  1.17360\n",
       "\n",
       "[200 rows x 6 columns]"
      ]
     },
     "execution_count": 62,
     "metadata": {},
     "output_type": "execute_result"
    }
   ],
   "source": [
    "abaco"
   ]
  },
  {
   "cell_type": "code",
   "execution_count": 63,
   "metadata": {},
   "outputs": [],
   "source": [
    "data = pd.DataFrame(index=np.arange(abaco.shape[0] * abaco.shape[1]), columns=['S', 'Perido  retorno', 'Q'])\n",
    "data.iloc[0,:] = [100, 5, 1.60]"
   ]
  },
  {
   "cell_type": "code",
   "execution_count": 64,
   "metadata": {},
   "outputs": [
    {
     "data": {
      "text/html": [
       "<div>\n",
       "<style scoped>\n",
       "    .dataframe tbody tr th:only-of-type {\n",
       "        vertical-align: middle;\n",
       "    }\n",
       "\n",
       "    .dataframe tbody tr th {\n",
       "        vertical-align: top;\n",
       "    }\n",
       "\n",
       "    .dataframe thead th {\n",
       "        text-align: right;\n",
       "    }\n",
       "</style>\n",
       "<table border=\"1\" class=\"dataframe\">\n",
       "  <thead>\n",
       "    <tr style=\"text-align: right;\">\n",
       "      <th></th>\n",
       "      <th>S</th>\n",
       "      <th>Perido  retorno</th>\n",
       "      <th>Q</th>\n",
       "    </tr>\n",
       "  </thead>\n",
       "  <tbody>\n",
       "    <tr>\n",
       "      <th>0</th>\n",
       "      <td>100</td>\n",
       "      <td>5</td>\n",
       "      <td>1.6</td>\n",
       "    </tr>\n",
       "    <tr>\n",
       "      <th>1</th>\n",
       "      <td>NaN</td>\n",
       "      <td>NaN</td>\n",
       "      <td>NaN</td>\n",
       "    </tr>\n",
       "  </tbody>\n",
       "</table>\n",
       "</div>"
      ],
      "text/plain": [
       "     S Perido  retorno    Q\n",
       "0  100               5  1.6\n",
       "1  NaN             NaN  NaN"
      ]
     },
     "execution_count": 64,
     "metadata": {},
     "output_type": "execute_result"
    }
   ],
   "source": [
    "data.head(2)"
   ]
  },
  {
   "cell_type": "code",
   "execution_count": 65,
   "metadata": {},
   "outputs": [
    {
     "data": {
      "text/plain": [
       "(1200, 3)"
      ]
     },
     "execution_count": 65,
     "metadata": {},
     "output_type": "execute_result"
    }
   ],
   "source": [
    "data.shape"
   ]
  },
  {
   "cell_type": "code",
   "execution_count": 66,
   "metadata": {},
   "outputs": [],
   "source": [
    "data= []\n",
    "for col in abaco.columns:\n",
    "    for index in abaco.index:\n",
    "        data.append([np.log10(index),(int(col[1:])), np.log10(abaco[col].loc[index])]) \n",
    "data  = np.array(data)  "
   ]
  },
  {
   "cell_type": "code",
   "execution_count": 67,
   "metadata": {},
   "outputs": [],
   "source": [
    "# datanew.shape\n",
    "# Una lista no tiene shape"
   ]
  },
  {
   "cell_type": "code",
   "execution_count": 68,
   "metadata": {},
   "outputs": [
    {
     "data": {
      "text/plain": [
       "array([[2.00000000e+00, 5.00000000e+00, 2.04119983e-01],\n",
       "       [2.30103000e+00, 5.00000000e+00, 2.02507389e-01],\n",
       "       [2.47712125e+00, 5.00000000e+00, 2.00888784e-01],\n",
       "       ...,\n",
       "       [4.29666519e+00, 5.00000000e+02, 8.80722693e-02],\n",
       "       [4.29885308e+00, 5.00000000e+02, 7.88952414e-02],\n",
       "       [4.30103000e+00, 5.00000000e+02, 6.95201008e-02]])"
      ]
     },
     "execution_count": 68,
     "metadata": {},
     "output_type": "execute_result"
    }
   ],
   "source": [
    "data"
   ]
  },
  {
   "cell_type": "code",
   "execution_count": 69,
   "metadata": {},
   "outputs": [],
   "source": [
    "from mpl_toolkits import mplot3d\n",
    "%matplotlib inline\n",
    "import numpy as np\n",
    "import matplotlib.pyplot as plt"
   ]
  },
  {
   "cell_type": "code",
   "execution_count": 70,
   "metadata": {},
   "outputs": [
    {
     "data": {
      "text/plain": [
       "(1200, 3)"
      ]
     },
     "execution_count": 70,
     "metadata": {},
     "output_type": "execute_result"
    }
   ],
   "source": [
    "data.shape"
   ]
  },
  {
   "cell_type": "code",
   "execution_count": 71,
   "metadata": {},
   "outputs": [
    {
     "data": {
      "text/plain": [
       "(5.0, 500.0)"
      ]
     },
     "execution_count": 71,
     "metadata": {},
     "output_type": "execute_result"
    }
   ],
   "source": [
    "data[:,1].min(), data[:,1].max()"
   ]
  },
  {
   "cell_type": "code",
   "execution_count": 72,
   "metadata": {},
   "outputs": [],
   "source": [
    "XX,YY = np.meshgrid(np.arange(np.log10(10), np.log10(50000), .1), np.array([5, 10, 25, 50, 100, 500]))\n",
    "X = XX.flatten()\n",
    "Y = YY.flatten()"
   ]
  },
  {
   "cell_type": "code",
   "execution_count": 73,
   "metadata": {},
   "outputs": [],
   "source": [
    "order = 2    # 1: linear, 2: quadratic\n",
    "if order == 1:\n",
    "    # best-fit linear plane: Z = a·X + b·Y + c\n",
    "    A = np.c_[data[:,0], data[:,1], np.ones(data.shape[0])]\n",
    "    pars, residues, rank, s = scipy.linalg.lstsq(A, data[:,2])    # coefficients\n",
    "    \n",
    "    # evaluate it on grid\n",
    "    a, b, c = pars\n",
    "    ZZ = a * XX + b * YY + c\n",
    "    \n",
    "    # or expressed using matrix/vector product\n",
    "    #Z = np.dot(np.c_[XX, YY, np.ones(XX.shape)], C).reshape(X.shape)\n",
    "\n",
    "elif order == 2:\n",
    "    # best-fit quadratic curve: Z = a + b·X + c·Y + d·X·Y + e·X² + f·Y²\n",
    "    A = np.c_[np.ones(data.shape[0]), data[:,:2], np.prod(data[:,:2], axis=1), data[:,:2]**2]\n",
    "    pars, residues, rank, s = scipy.linalg.lstsq(A, data[:,2])\n",
    "    \n",
    "    # evaluate it on a grid\n",
    "    a, b, c, d, e, f = pars\n",
    "    ZZ = np.dot(np.c_[np.ones(X.shape), X, Y, X*Y, X**2, Y**2], pars).reshape(XX.shape)"
   ]
  },
  {
   "cell_type": "code",
   "execution_count": 74,
   "metadata": {},
   "outputs": [
    {
     "data": {
      "text/plain": [
       "array([-2.72986399e+00,  1.96812678e+00,  4.78441034e-03, -1.11058413e-04,\n",
       "       -3.25970138e-01, -6.37213152e-06])"
      ]
     },
     "execution_count": 74,
     "metadata": {},
     "output_type": "execute_result"
    }
   ],
   "source": [
    "pars"
   ]
  },
  {
   "cell_type": "code",
   "execution_count": 75,
   "metadata": {},
   "outputs": [
    {
     "data": {
      "image/png": "[encoded data removed]",
      "text/plain": [
       "<Figure size 360x360 with 1 Axes>"
      ]
     },
     "metadata": {
      "needs_background": "light"
     },
     "output_type": "display_data"
    }
   ],
   "source": [
    "plt.figure(figsize=(5, 5))\n",
    "plt.scatter(XX, YY, s=10, c=ZZ, cmap='viridis')\n",
    "plt.scatter(data[:,0], data[:,1], marker='x', c=data[:,2], cmap='viridis')\n",
    "plt.xlabel('X')\n",
    "plt.ylabel('Y')\n",
    "plt.axis('equal');"
   ]
  },
  {
   "cell_type": "code",
   "execution_count": 76,
   "metadata": {},
   "outputs": [
    {
     "data": {
      "image/png": "[encoded data removed]",
      "text/plain": [
       "<Figure size 432x288 with 1 Axes>"
      ]
     },
     "metadata": {
      "needs_background": "light"
     },
     "output_type": "display_data"
    }
   ],
   "source": [
    "plt.scatter(XX.flatten(), YY.flatten(), c=ZZ.flatten(), cmap='viridis')\n",
    "plt.xlabel('log10(S)')\n",
    "plt.ylabel('T');"
   ]
  },
  {
   "cell_type": "code",
   "execution_count": 77,
   "metadata": {},
   "outputs": [
    {
     "data": {
      "image/png": "[encoded data removed]",
      "text/plain": [
       "<Figure size 432x288 with 1 Axes>"
      ]
     },
     "metadata": {
      "needs_background": "light"
     },
     "output_type": "display_data"
    }
   ],
   "source": [
    "# plot points and fitted surface\n",
    "fig = plt.figure()\n",
    "ax = fig.gca(projection='3d')\n",
    "ax.plot_surface(XX, YY, ZZ, rstride=1, cstride=1, alpha=0.2)\n",
    "ax.scatter(data[:,0], data[:,1], data[:,2], c='r', s=50)\n",
    "plt.xlabel('log10(S)')\n",
    "plt.ylabel('T')\n",
    "ax.set_zlabel('log10(Qs)')\n",
    "# ax.axis('equal')\n",
    "ax.axis('tight')\n",
    "plt.show()"
   ]
  },
  {
   "cell_type": "code",
   "execution_count": 78,
   "metadata": {},
   "outputs": [
    {
     "data": {
      "image/png": "[encoded data removed]",
      "text/plain": [
       "<Figure size 432x288 with 1 Axes>"
      ]
     },
     "metadata": {
      "needs_background": "light"
     },
     "output_type": "display_data"
    }
   ],
   "source": [
    "ax = plt.axes(projection='3d')\n",
    "ax.plot_surface(XX, YY, ZZ, rstride=1, cstride=1,\n",
    "                cmap='viridis', edgecolor='none')\n",
    "plt.xlabel('log10(S)')\n",
    "plt.ylabel('T')\n",
    "ax.set_zlabel('log10(Qs)')\n",
    "ax.set_title('surface');"
   ]
  },
  {
   "cell_type": "code",
   "execution_count": 79,
   "metadata": {},
   "outputs": [
    {
     "data": {
      "text/plain": [
       "array([-2.72986399e+00,  1.96812678e+00,  4.78441034e-03, -1.11058413e-04,\n",
       "       -3.25970138e-01, -6.37213152e-06])"
      ]
     },
     "execution_count": 79,
     "metadata": {},
     "output_type": "execute_result"
    }
   ],
   "source": [
    "pars"
   ]
  },
  {
   "cell_type": "code",
   "execution_count": 80,
   "metadata": {},
   "outputs": [],
   "source": [
    "Pars = pd.Series(pars, index=['a', 'b', 'c', 'd','e','f'])\n",
    "\n",
    "Pars.to_csv('Parámetros_abaco.csv', header=None)"
   ]
  },
  {
   "cell_type": "code",
   "execution_count": 81,
   "metadata": {},
   "outputs": [
    {
     "name": "stdout",
     "output_type": "stream",
     "text": [
      "La ecuación queda de la siguiente manera: 0 = -2.730 + 1.968(log S) + 0.0048T + -0.0001 (log S)T+ -0.3260 (log S)²+-0.000006 T² -logQ \n"
     ]
    }
   ],
   "source": [
    "print('La ecuación queda de la siguiente manera: 0 = {0:.3f} + {1:.3f}(log S) + {2:.4f}T + {3:.4f} (log S)T+ {4:.4f} (log S)²+{5:.6f} T² -logQ '.format(*pars))"
   ]
  },
  {
   "cell_type": "code",
   "execution_count": 82,
   "metadata": {},
   "outputs": [],
   "source": [
    "# best-fit quadratic curve: Z = a + b·X + c·Y + d·X·Y + e·X² + f·Y²"
   ]
  },
  {
   "cell_type": "code",
   "execution_count": 83,
   "metadata": {},
   "outputs": [],
   "source": [
    "def QfromST(S, T, a, b, c, d, e, f):\n",
    "    Slog = np.log10(S)\n",
    "    Qlog = np.log10(Q)\n",
    "    \n",
    "    return 10**(a + b * Slog + c * T + d * Slog * T + e * Slog**2 + f * T**2)"
   ]
  },
  {
   "cell_type": "code",
   "execution_count": 84,
   "metadata": {},
   "outputs": [
    {
     "data": {
      "text/plain": [
       "1.972500225645556"
      ]
     },
     "execution_count": 84,
     "metadata": {},
     "output_type": "execute_result"
    }
   ],
   "source": [
    "QfromST(100, 100, *pars)"
   ]
  },
  {
   "cell_type": "code",
   "execution_count": 85,
   "metadata": {},
   "outputs": [],
   "source": [
    "S, Q = 20000, 0.44\n",
    "# 0.33 m3/s/Km2 \n",
    "\n",
    "def f(T, S=S, Q=Q, a=pars[0], b=pars[1], c=pars[2], d=pars[3], e=pars[4], f=pars[5]):\n",
    "    Slog = np.log10(S)\n",
    "    Qlog = np.log10(Q)\n",
    "    \n",
    "    return a + b * Slog + c * T + d * Slog * T + e * Slog**2 + f * T**2 - Qlog\n",
    "\n",
    "def fprime(T, S=S, c=pars[2], d=pars[3], f=pars[5]):\n",
    "    Slog = np.log10(S)\n",
    "\n",
    "    \n",
    "    return c + d * Slog + 2 * f * T"
   ]
  },
  {
   "cell_type": "code",
   "execution_count": 86,
   "metadata": {},
   "outputs": [
    {
     "ename": "ValueError",
     "evalue": "f(a) and f(b) must have different signs",
     "output_type": "error",
     "traceback": [
      "\u001b[1;31m---------------------------------------------------------------------------\u001b[0m",
      "\u001b[1;31mValueError\u001b[0m                                Traceback (most recent call last)",
      "\u001b[1;32m<ipython-input-86-5012c24caff1>\u001b[0m in \u001b[0;36m<module>\u001b[1;34m\u001b[0m\n\u001b[0;32m      1\u001b[0m \u001b[1;31m# calcular retorno por el método de Brent\u001b[0m\u001b[1;33m\u001b[0m\u001b[1;33m\u001b[0m\u001b[1;33m\u001b[0m\u001b[0m\n\u001b[0;32m      2\u001b[0m \u001b[1;33m\u001b[0m\u001b[0m\n\u001b[1;32m----> 3\u001b[1;33m \u001b[0mTbrent\u001b[0m \u001b[1;33m=\u001b[0m \u001b[0moptimize\u001b[0m\u001b[1;33m.\u001b[0m\u001b[0mroot_scalar\u001b[0m\u001b[1;33m(\u001b[0m\u001b[0mf\u001b[0m\u001b[1;33m,\u001b[0m \u001b[0mbracket\u001b[0m\u001b[1;33m=\u001b[0m\u001b[1;33m[\u001b[0m\u001b[1;36m0.0001\u001b[0m\u001b[1;33m,\u001b[0m \u001b[1;36m500\u001b[0m\u001b[1;33m]\u001b[0m\u001b[1;33m,\u001b[0m \u001b[0mmethod\u001b[0m\u001b[1;33m=\u001b[0m\u001b[1;34m'brentq'\u001b[0m\u001b[1;33m)\u001b[0m\u001b[1;33m.\u001b[0m\u001b[0mroot\u001b[0m\u001b[1;33m\u001b[0m\u001b[1;33m\u001b[0m\u001b[0m\n\u001b[0m\u001b[0;32m      4\u001b[0m \u001b[0mTbrent\u001b[0m\u001b[1;33m\u001b[0m\u001b[1;33m\u001b[0m\u001b[0m\n",
      "\u001b[1;32m~\\Anaconda3\\lib\\site-packages\\scipy\\optimize\\_root_scalar.py\u001b[0m in \u001b[0;36mroot_scalar\u001b[1;34m(f, args, method, bracket, fprime, fprime2, x0, x1, xtol, rtol, maxiter, options)\u001b[0m\n\u001b[0;32m    244\u001b[0m \u001b[1;33m\u001b[0m\u001b[0m\n\u001b[0;32m    245\u001b[0m         \u001b[0ma\u001b[0m\u001b[1;33m,\u001b[0m \u001b[0mb\u001b[0m \u001b[1;33m=\u001b[0m \u001b[0mbracket\u001b[0m\u001b[1;33m[\u001b[0m\u001b[1;33m:\u001b[0m\u001b[1;36m2\u001b[0m\u001b[1;33m]\u001b[0m\u001b[1;33m\u001b[0m\u001b[1;33m\u001b[0m\u001b[0m\n\u001b[1;32m--> 246\u001b[1;33m         \u001b[0mr\u001b[0m\u001b[1;33m,\u001b[0m \u001b[0msol\u001b[0m \u001b[1;33m=\u001b[0m \u001b[0mmethodc\u001b[0m\u001b[1;33m(\u001b[0m\u001b[0mf\u001b[0m\u001b[1;33m,\u001b[0m \u001b[0ma\u001b[0m\u001b[1;33m,\u001b[0m \u001b[0mb\u001b[0m\u001b[1;33m,\u001b[0m \u001b[0margs\u001b[0m\u001b[1;33m=\u001b[0m\u001b[0margs\u001b[0m\u001b[1;33m,\u001b[0m \u001b[1;33m**\u001b[0m\u001b[0mkwargs\u001b[0m\u001b[1;33m)\u001b[0m\u001b[1;33m\u001b[0m\u001b[1;33m\u001b[0m\u001b[0m\n\u001b[0m\u001b[0;32m    247\u001b[0m     \u001b[1;32melif\u001b[0m \u001b[0mmeth\u001b[0m \u001b[1;32min\u001b[0m \u001b[1;33m[\u001b[0m\u001b[1;34m'secant'\u001b[0m\u001b[1;33m]\u001b[0m\u001b[1;33m:\u001b[0m\u001b[1;33m\u001b[0m\u001b[1;33m\u001b[0m\u001b[0m\n\u001b[0;32m    248\u001b[0m         \u001b[1;32mif\u001b[0m \u001b[0mx0\u001b[0m \u001b[1;32mis\u001b[0m \u001b[1;32mNone\u001b[0m\u001b[1;33m:\u001b[0m\u001b[1;33m\u001b[0m\u001b[1;33m\u001b[0m\u001b[0m\n",
      "\u001b[1;32m~\\Anaconda3\\lib\\site-packages\\scipy\\optimize\\zeros.py\u001b[0m in \u001b[0;36mbrentq\u001b[1;34m(f, a, b, args, xtol, rtol, maxiter, full_output, disp)\u001b[0m\n\u001b[0;32m    774\u001b[0m     \u001b[1;32mif\u001b[0m \u001b[0mrtol\u001b[0m \u001b[1;33m<\u001b[0m \u001b[0m_rtol\u001b[0m\u001b[1;33m:\u001b[0m\u001b[1;33m\u001b[0m\u001b[1;33m\u001b[0m\u001b[0m\n\u001b[0;32m    775\u001b[0m         \u001b[1;32mraise\u001b[0m \u001b[0mValueError\u001b[0m\u001b[1;33m(\u001b[0m\u001b[1;34m\"rtol too small (%g < %g)\"\u001b[0m \u001b[1;33m%\u001b[0m \u001b[1;33m(\u001b[0m\u001b[0mrtol\u001b[0m\u001b[1;33m,\u001b[0m \u001b[0m_rtol\u001b[0m\u001b[1;33m)\u001b[0m\u001b[1;33m)\u001b[0m\u001b[1;33m\u001b[0m\u001b[1;33m\u001b[0m\u001b[0m\n\u001b[1;32m--> 776\u001b[1;33m     \u001b[0mr\u001b[0m \u001b[1;33m=\u001b[0m \u001b[0m_zeros\u001b[0m\u001b[1;33m.\u001b[0m\u001b[0m_brentq\u001b[0m\u001b[1;33m(\u001b[0m\u001b[0mf\u001b[0m\u001b[1;33m,\u001b[0m \u001b[0ma\u001b[0m\u001b[1;33m,\u001b[0m \u001b[0mb\u001b[0m\u001b[1;33m,\u001b[0m \u001b[0mxtol\u001b[0m\u001b[1;33m,\u001b[0m \u001b[0mrtol\u001b[0m\u001b[1;33m,\u001b[0m \u001b[0mmaxiter\u001b[0m\u001b[1;33m,\u001b[0m \u001b[0margs\u001b[0m\u001b[1;33m,\u001b[0m \u001b[0mfull_output\u001b[0m\u001b[1;33m,\u001b[0m \u001b[0mdisp\u001b[0m\u001b[1;33m)\u001b[0m\u001b[1;33m\u001b[0m\u001b[1;33m\u001b[0m\u001b[0m\n\u001b[0m\u001b[0;32m    777\u001b[0m     \u001b[1;32mreturn\u001b[0m \u001b[0mresults_c\u001b[0m\u001b[1;33m(\u001b[0m\u001b[0mfull_output\u001b[0m\u001b[1;33m,\u001b[0m \u001b[0mr\u001b[0m\u001b[1;33m)\u001b[0m\u001b[1;33m\u001b[0m\u001b[1;33m\u001b[0m\u001b[0m\n\u001b[0;32m    778\u001b[0m \u001b[1;33m\u001b[0m\u001b[0m\n",
      "\u001b[1;31mValueError\u001b[0m: f(a) and f(b) must have different signs"
     ]
    }
   ],
   "source": [
    "# calcular retorno por el método de Brent\n",
    "\n",
    "Tbrent = optimize.root_scalar(f, bracket=[0.0001, 500], method='brentq').root\n",
    "Tbrent\n"
   ]
  },
  {
   "cell_type": "code",
   "execution_count": null,
   "metadata": {},
   "outputs": [],
   "source": [
    "# calcular retorno por el método de Newton\n",
    "Tnewton = optimize.root_scalar(f, x0=1, fprime=fprime, method='newton').root\n",
    "Tnewton"
   ]
  },
  {
   "cell_type": "code",
   "execution_count": null,
   "metadata": {},
   "outputs": [],
   "source": [
    "S = 20000\n",
    "\n",
    "Ts = [5, 10, 25, 50, 100, 500]\n",
    "Qabaco = abaco.loc[S,:]\n",
    "\n",
    "Ts_ = np.arange(1, 500, 2)\n",
    "Qs_ = np.array([QfromST(S, T, *pars) for T in Ts_])\n",
    "\n",
    "plt.figure(figsize=(8, 8))\n",
    "plt.scatter(Ts, Qabaco);\n",
    "plt.plot(Ts, Qs_, 'k')\n",
    "plt.title('S = {0} km²'.format(S))\n",
    "plt.xlabel('T (años)')\n",
    "plt.ylabel('Q [m³/(s·km²)]')\n",
    "# plt.ylim(-.1, 2.1);"
   ]
  },
  {
   "cell_type": "code",
   "execution_count": null,
   "metadata": {},
   "outputs": [],
   "source": [
    "Qs_ = []\n",
    "for T in Ts_:\n",
    "    Qs_.append(QfromST(S, T, *pars))\n",
    "\n",
    "Qs_"
   ]
  },
  {
   "cell_type": "code",
   "execution_count": null,
   "metadata": {},
   "outputs": [],
   "source": []
  },
  {
   "cell_type": "code",
   "execution_count": null,
   "metadata": {},
   "outputs": [],
   "source": []
  },
  {
   "cell_type": "code",
   "execution_count": null,
   "metadata": {},
   "outputs": [],
   "source": []
  }
 ],
 "metadata": {
  "kernelspec": {
   "display_name": "Python 3",
   "language": "python",
   "name": "python3"
  },
  "language_info": {
   "codemirror_mode": {
    "name": "ipython",
    "version": 3
   },
   "file_extension": ".py",
   "mimetype": "text/x-python",
   "name": "python",
   "nbconvert_exporter": "python",
   "pygments_lexer": "ipython3",
   "version": "3.8.3"
  }
 },
 "nbformat": 4,
 "nbformat_minor": 4
}
