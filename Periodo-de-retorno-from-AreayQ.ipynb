{
 "cells": [
  {
   "cell_type": "markdown",
   "metadata": {},
   "source": [
    " # Obtención de periodos de retorno"
   ]
  },
  {
   "cell_type": "markdown",
   "metadata": {},
   "source": [
    "Fecha: 08/02/2021"
   ]
  },
  {
   "cell_type": "markdown",
   "metadata": {},
   "source": [
    "## Cargamos y ajustamos el ábaco de partida"
   ]
  },
  {
   "cell_type": "code",
   "execution_count": 1,
   "metadata": {},
   "outputs": [],
   "source": [
    "import numpy as np\n",
    "import pandas as pd\n",
    "from scipy import optimize\n",
    "import matplotlib.pyplot as plt\n",
    "import seaborn as sns\n",
    "sns.set()\n",
    "import numpy as np\n",
    "import scipy.linalg\n",
    "from mpl_toolkits.mplot3d import Axes3D\n",
    "import matplotlib.pyplot as plt\n",
    "import scipy.linalg"
   ]
  },
  {
   "cell_type": "code",
   "execution_count": 2,
   "metadata": {},
   "outputs": [],
   "source": [
    "# importo el ábaco del excel\n",
    "abaco = pd.read_excel('E:/Periodos_retorno.xlsx', sheet_name='AMP', index_col='S')"
   ]
  },
  {
   "cell_type": "code",
   "execution_count": 3,
   "metadata": {},
   "outputs": [
    {
     "data": {
      "text/plain": [
       "(         Q5   Q10   Q25   Q50  Q100  Q500\n",
       " S                                        \n",
       " 100    1.60  1.85  1.90  2.30  2.60  4.00\n",
       " 150    1.40  1.55  1.75  1.95  2.40  3.50\n",
       " 200    1.30  1.45  1.60  1.80  2.20  3.20\n",
       " 500    1.05  1.16  1.27  1.41  1.60  2.30\n",
       " 1000   0.90  0.95  1.05  1.15  1.30  1.95\n",
       " 2000   0.75  0.80  0.85  0.95  1.05  1.60\n",
       " 5000   0.58  0.62  0.68  0.73  0.80  1.20\n",
       " 10000  0.50  0.52  0.55  0.60  0.63  0.95\n",
       " 15000  0.45  0.47  0.50  0.53  0.56  0.85\n",
       " 20000  0.42  0.44  0.46  0.49  0.52  0.79,\n",
       " (10, 6))"
      ]
     },
     "execution_count": 3,
     "metadata": {},
     "output_type": "execute_result"
    }
   ],
   "source": [
    "abaco,abaco.shape\n"
   ]
  },
  {
   "cell_type": "markdown",
   "metadata": {},
   "source": [
    "***"
   ]
  },
  {
   "cell_type": "code",
   "execution_count": 4,
   "metadata": {},
   "outputs": [
    {
     "data": {
      "text/html": [
       "<div>\n",
       "<style scoped>\n",
       "    .dataframe tbody tr th:only-of-type {\n",
       "        vertical-align: middle;\n",
       "    }\n",
       "\n",
       "    .dataframe tbody tr th {\n",
       "        vertical-align: top;\n",
       "    }\n",
       "\n",
       "    .dataframe thead th {\n",
       "        text-align: right;\n",
       "    }\n",
       "</style>\n",
       "<table border=\"1\" class=\"dataframe\">\n",
       "  <thead>\n",
       "    <tr style=\"text-align: right;\">\n",
       "      <th></th>\n",
       "      <th>S</th>\n",
       "      <th>Perido  retorno</th>\n",
       "      <th>Q</th>\n",
       "    </tr>\n",
       "  </thead>\n",
       "  <tbody>\n",
       "    <tr>\n",
       "      <th>0</th>\n",
       "      <td>NaN</td>\n",
       "      <td>NaN</td>\n",
       "      <td>NaN</td>\n",
       "    </tr>\n",
       "    <tr>\n",
       "      <th>1</th>\n",
       "      <td>NaN</td>\n",
       "      <td>NaN</td>\n",
       "      <td>NaN</td>\n",
       "    </tr>\n",
       "  </tbody>\n",
       "</table>\n",
       "</div>"
      ],
      "text/plain": [
       "     S Perido  retorno    Q\n",
       "0  NaN             NaN  NaN\n",
       "1  NaN             NaN  NaN"
      ]
     },
     "execution_count": 4,
     "metadata": {},
     "output_type": "execute_result"
    }
   ],
   "source": [
    "# Creo un nuevo data frame con la siguiente estructura\n",
    "data = pd.DataFrame(index=np.arange(abaco.shape[0] * abaco.shape[1]), columns=['S', 'Perido  retorno', 'Q'])\n",
    "data.head(2)"
   ]
  },
  {
   "cell_type": "code",
   "execution_count": 5,
   "metadata": {},
   "outputs": [],
   "source": [
    "# relleno el data frame para tener todos los datos de S,Pretorno y Q del ábaco\n",
    "data= []\n",
    "for col in abaco.columns:\n",
    "    for index in abaco.index:\n",
    "        data.append([np.log10(index), int(col[1:]), np.log10(abaco[col].loc[index])]) \n",
    "\n",
    "# lo convierto en array\n",
    "data  = np.array(data)  \n",
    "\n"
   ]
  },
  {
   "cell_type": "code",
   "execution_count": 7,
   "metadata": {},
   "outputs": [
    {
     "data": {
      "text/plain": [
       "array([[ 2.00000000e+00,  5.00000000e+00,  2.04119983e-01],\n",
       "       [ 2.17609126e+00,  5.00000000e+00,  1.46128036e-01],\n",
       "       [ 2.30103000e+00,  5.00000000e+00,  1.13943352e-01],\n",
       "       [ 2.69897000e+00,  5.00000000e+00,  2.11892991e-02],\n",
       "       [ 3.00000000e+00,  5.00000000e+00, -4.57574906e-02],\n",
       "       [ 3.30103000e+00,  5.00000000e+00, -1.24938737e-01],\n",
       "       [ 3.69897000e+00,  5.00000000e+00, -2.36572006e-01],\n",
       "       [ 4.00000000e+00,  5.00000000e+00, -3.01029996e-01],\n",
       "       [ 4.17609126e+00,  5.00000000e+00, -3.46787486e-01],\n",
       "       [ 4.30103000e+00,  5.00000000e+00, -3.76750710e-01],\n",
       "       [ 2.00000000e+00,  1.00000000e+01,  2.67171728e-01],\n",
       "       [ 2.17609126e+00,  1.00000000e+01,  1.90331698e-01],\n",
       "       [ 2.30103000e+00,  1.00000000e+01,  1.61368002e-01],\n",
       "       [ 2.69897000e+00,  1.00000000e+01,  6.44579892e-02],\n",
       "       [ 3.00000000e+00,  1.00000000e+01, -2.22763947e-02],\n",
       "       [ 3.30103000e+00,  1.00000000e+01, -9.69100130e-02],\n",
       "       [ 3.69897000e+00,  1.00000000e+01, -2.07608311e-01],\n",
       "       [ 4.00000000e+00,  1.00000000e+01, -2.83996656e-01],\n",
       "       [ 4.17609126e+00,  1.00000000e+01, -3.27902142e-01],\n",
       "       [ 4.30103000e+00,  1.00000000e+01, -3.56547324e-01],\n",
       "       [ 2.00000000e+00,  2.50000000e+01,  2.78753601e-01],\n",
       "       [ 2.17609126e+00,  2.50000000e+01,  2.43038049e-01],\n",
       "       [ 2.30103000e+00,  2.50000000e+01,  2.04119983e-01],\n",
       "       [ 2.69897000e+00,  2.50000000e+01,  1.03803721e-01],\n",
       "       [ 3.00000000e+00,  2.50000000e+01,  2.11892991e-02],\n",
       "       [ 3.30103000e+00,  2.50000000e+01, -7.05810743e-02],\n",
       "       [ 3.69897000e+00,  2.50000000e+01, -1.67491087e-01],\n",
       "       [ 4.00000000e+00,  2.50000000e+01, -2.59637311e-01],\n",
       "       [ 4.17609126e+00,  2.50000000e+01, -3.01029996e-01],\n",
       "       [ 4.30103000e+00,  2.50000000e+01, -3.37242168e-01],\n",
       "       [ 2.00000000e+00,  5.00000000e+01,  3.61727836e-01],\n",
       "       [ 2.17609126e+00,  5.00000000e+01,  2.90034611e-01],\n",
       "       [ 2.30103000e+00,  5.00000000e+01,  2.55272505e-01],\n",
       "       [ 2.69897000e+00,  5.00000000e+01,  1.49219113e-01],\n",
       "       [ 3.00000000e+00,  5.00000000e+01,  6.06978404e-02],\n",
       "       [ 3.30103000e+00,  5.00000000e+01, -2.22763947e-02],\n",
       "       [ 3.69897000e+00,  5.00000000e+01, -1.36677140e-01],\n",
       "       [ 4.00000000e+00,  5.00000000e+01, -2.21848750e-01],\n",
       "       [ 4.17609126e+00,  5.00000000e+01, -2.75724130e-01],\n",
       "       [ 4.30103000e+00,  5.00000000e+01, -3.09803920e-01],\n",
       "       [ 2.00000000e+00,  1.00000000e+02,  4.14973348e-01],\n",
       "       [ 2.17609126e+00,  1.00000000e+02,  3.80211242e-01],\n",
       "       [ 2.30103000e+00,  1.00000000e+02,  3.42422681e-01],\n",
       "       [ 2.69897000e+00,  1.00000000e+02,  2.04119983e-01],\n",
       "       [ 3.00000000e+00,  1.00000000e+02,  1.13943352e-01],\n",
       "       [ 3.30103000e+00,  1.00000000e+02,  2.11892991e-02],\n",
       "       [ 3.69897000e+00,  1.00000000e+02, -9.69100130e-02],\n",
       "       [ 4.00000000e+00,  1.00000000e+02, -2.00659451e-01],\n",
       "       [ 4.17609126e+00,  1.00000000e+02, -2.51811973e-01],\n",
       "       [ 4.30103000e+00,  1.00000000e+02, -2.83996656e-01],\n",
       "       [ 2.00000000e+00,  5.00000000e+02,  6.02059991e-01],\n",
       "       [ 2.17609126e+00,  5.00000000e+02,  5.44068044e-01],\n",
       "       [ 2.30103000e+00,  5.00000000e+02,  5.05149978e-01],\n",
       "       [ 2.69897000e+00,  5.00000000e+02,  3.61727836e-01],\n",
       "       [ 3.00000000e+00,  5.00000000e+02,  2.90034611e-01],\n",
       "       [ 3.30103000e+00,  5.00000000e+02,  2.04119983e-01],\n",
       "       [ 3.69897000e+00,  5.00000000e+02,  7.91812460e-02],\n",
       "       [ 4.00000000e+00,  5.00000000e+02, -2.22763947e-02],\n",
       "       [ 4.17609126e+00,  5.00000000e+02, -7.05810743e-02],\n",
       "       [ 4.30103000e+00,  5.00000000e+02, -1.02372909e-01]])"
      ]
     },
     "execution_count": 7,
     "metadata": {},
     "output_type": "execute_result"
    }
   ],
   "source": [
    "data"
   ]
  },
  {
   "cell_type": "code",
   "execution_count": null,
   "metadata": {},
   "outputs": [],
   "source": []
  },
  {
   "cell_type": "code",
   "execution_count": 8,
   "metadata": {},
   "outputs": [],
   "source": [
    " #  Creo una malla regular cubriendo el dominio de los datos. \n",
    "# Los valores de XX corresponden al log10 de los datos de superficie, y los valores de YY a los diferentes periodos de retorno\n",
    "XX,YY = np.meshgrid(np.arange(np.log10(10), np.log10(50000), .5), np.array([5, 10, 25, 50, 100, 500]))\n",
    "X = XX.flatten()\n",
    "Y = YY.flatten()"
   ]
  },
  {
   "cell_type": "code",
   "execution_count": 9,
   "metadata": {},
   "outputs": [],
   "source": [
    "# Ajusto  un plano a los datos de la malla\n",
    "# 1: linear, 2: quadratic\n",
    "order = 2   \n",
    "\n",
    "\n",
    "if order == 1:\n",
    "    # best-fit linear plane: Z = a·X + b·Y + c\n",
    "    A = np.c_[data[:,0], data[:,1], np.ones(data.shape[0])]\n",
    "    pars, residues, rank, s = scipy.linalg.lstsq(A, data[:,2])    # coefficients\n",
    "    \n",
    "    # evaluate it on grid\n",
    "    a, b, c = pars\n",
    "    ZZ = a * XX + b * YY + c\n",
    "    \n",
    "    # or expressed using matrix/vector product\n",
    "    #Z = np.dot(np.c_[XX, YY, np.ones(XX.shape)], C).reshape(X.shape)\n",
    "\n",
    "elif order == 2:\n",
    "    # best-fit quadratic curve: Z = a + b·X + c·Y + d·X·Y + e·X² + f·Y²\n",
    "    A = np.c_[np.ones(data.shape[0]), data[:,:2], np.prod(data[:,:2], axis=1), data[:,:2]**2]\n",
    "    pars, residues, rank, s = scipy.linalg.lstsq(A, data[:,2])\n",
    "    \n",
    "    # evaluate it on a grid\n",
    "    a, b, c, d, e, f = pars\n",
    "    ZZ = np.dot(np.c_[np.ones(X.shape), X, Y, X*Y, X**2, Y**2], pars).reshape(XX.shape)"
   ]
  },
  {
   "cell_type": "code",
   "execution_count": 10,
   "metadata": {},
   "outputs": [
    {
     "data": {
      "text/plain": [
       "array([ 7.94358318e-01, -2.83649503e-01,  2.07765698e-03, -8.01361281e-05,\n",
       "        1.82343711e-03, -2.35655665e-06])"
      ]
     },
     "execution_count": 10,
     "metadata": {},
     "output_type": "execute_result"
    }
   ],
   "source": [
    "pars"
   ]
  },
  {
   "cell_type": "code",
   "execution_count": 11,
   "metadata": {},
   "outputs": [
    {
     "data": {
      "image/png": "[encoded data removed]",
      "text/plain": [
       "<Figure size 432x288 with 1 Axes>"
      ]
     },
     "metadata": {},
     "output_type": "display_data"
    }
   ],
   "source": [
    "# plot points and fitted surface\n",
    "fig = plt.figure()\n",
    "ax = fig.gca(projection='3d')\n",
    "ax.plot_surface(XX, YY, ZZ, rstride=1, cstride=1, alpha=0.2)\n",
    "ax.scatter(data[:,0], data[:,1], data[:,2], c='r', s=50)\n",
    "plt.xlabel('log10(S)')\n",
    "plt.ylabel('T')\n",
    "ax.set_zlabel('log10(Qs)')\n",
    "# ax.axis('equal')\n",
    "ax.axis('tight')\n",
    "plt.show()"
   ]
  },
  {
   "cell_type": "code",
   "execution_count": null,
   "metadata": {},
   "outputs": [],
   "source": [
    "# pars es un vector con  los coeficientes qu me resuelven la ecuación Z = a + b·X + c·Y + d·X·Y + e·X² + f·Y² \n",
    "pars"
   ]
  },
  {
   "cell_type": "code",
   "execution_count": null,
   "metadata": {},
   "outputs": [],
   "source": [
    "print('La ecuación queda de la siguiente manera: 0 = {0:.3f} + {1:.3f}(log S) + {2:.4f} T + {3:.4f} (log S)T+ {4:.4f} (log S)²+{5:.6f}T² -logQ '.format(*pars))"
   ]
  },
  {
   "cell_type": "markdown",
   "metadata": {},
   "source": [
    "# Datos  a Ingresar:\n"
   ]
  },
  {
   "cell_type": "markdown",
   "metadata": {},
   "source": [
    "## Ingrese superficie  y caudal:"
   ]
  },
  {
   "cell_type": "code",
   "execution_count": 12,
   "metadata": {},
   "outputs": [],
   "source": [
    "Pars = pd.Series(pars, index=['a', 'b', 'c', 'd','e','f'])\n",
    "\n",
    "Pars.to_csv('Parámetros_abaco.csv', header=None)"
   ]
  },
  {
   "cell_type": "code",
   "execution_count": 29,
   "metadata": {},
   "outputs": [],
   "source": [
    "S, Q = 5000, 4000"
   ]
  },
  {
   "cell_type": "markdown",
   "metadata": {},
   "source": [
    "### Ingrese en \"bracket\" el umbral en el que se debe encontrar la solución"
   ]
  },
  {
   "cell_type": "code",
   "execution_count": 30,
   "metadata": {},
   "outputs": [
    {
     "ename": "ValueError",
     "evalue": "f(a) and f(b) must have different signs",
     "output_type": "error",
     "traceback": [
      "\u001b[1;31m---------------------------------------------------------------------------\u001b[0m",
      "\u001b[1;31mValueError\u001b[0m                                Traceback (most recent call last)",
      "\u001b[1;32m<ipython-input-30-0655882319c4>\u001b[0m in \u001b[0;36m<module>\u001b[1;34m\u001b[0m\n\u001b[0;32m      2\u001b[0m \u001b[1;32mdef\u001b[0m \u001b[0mf\u001b[0m\u001b[1;33m(\u001b[0m\u001b[0mT\u001b[0m\u001b[1;33m,\u001b[0m \u001b[0mS\u001b[0m\u001b[1;33m=\u001b[0m\u001b[0mS\u001b[0m\u001b[1;33m,\u001b[0m \u001b[0mQ\u001b[0m\u001b[1;33m=\u001b[0m\u001b[0mQ\u001b[0m\u001b[1;33m,\u001b[0m \u001b[0ma\u001b[0m\u001b[1;33m=\u001b[0m\u001b[0mpars\u001b[0m\u001b[1;33m[\u001b[0m\u001b[1;36m0\u001b[0m\u001b[1;33m]\u001b[0m\u001b[1;33m,\u001b[0m \u001b[0mb\u001b[0m\u001b[1;33m=\u001b[0m\u001b[0mpars\u001b[0m\u001b[1;33m[\u001b[0m\u001b[1;36m1\u001b[0m\u001b[1;33m]\u001b[0m\u001b[1;33m,\u001b[0m \u001b[0mc\u001b[0m\u001b[1;33m=\u001b[0m\u001b[0mpars\u001b[0m\u001b[1;33m[\u001b[0m\u001b[1;36m2\u001b[0m\u001b[1;33m]\u001b[0m\u001b[1;33m,\u001b[0m \u001b[0md\u001b[0m\u001b[1;33m=\u001b[0m\u001b[0mpars\u001b[0m\u001b[1;33m[\u001b[0m\u001b[1;36m3\u001b[0m\u001b[1;33m]\u001b[0m\u001b[1;33m,\u001b[0m \u001b[0me\u001b[0m\u001b[1;33m=\u001b[0m\u001b[0mpars\u001b[0m\u001b[1;33m[\u001b[0m\u001b[1;36m4\u001b[0m\u001b[1;33m]\u001b[0m\u001b[1;33m,\u001b[0m \u001b[0mf\u001b[0m\u001b[1;33m=\u001b[0m\u001b[0mpars\u001b[0m\u001b[1;33m[\u001b[0m\u001b[1;36m5\u001b[0m\u001b[1;33m]\u001b[0m\u001b[1;33m)\u001b[0m\u001b[1;33m:\u001b[0m\u001b[1;33m\u001b[0m\u001b[1;33m\u001b[0m\u001b[0m\n\u001b[0;32m      3\u001b[0m     \u001b[1;32mreturn\u001b[0m \u001b[0ma\u001b[0m \u001b[1;33m+\u001b[0m \u001b[0mb\u001b[0m \u001b[1;33m*\u001b[0m \u001b[0mnp\u001b[0m\u001b[1;33m.\u001b[0m\u001b[0mlog10\u001b[0m\u001b[1;33m(\u001b[0m\u001b[0mS\u001b[0m\u001b[1;33m)\u001b[0m \u001b[1;33m+\u001b[0m \u001b[0mc\u001b[0m \u001b[1;33m*\u001b[0m \u001b[0mT\u001b[0m \u001b[1;33m+\u001b[0m \u001b[0md\u001b[0m \u001b[1;33m*\u001b[0m \u001b[0mnp\u001b[0m\u001b[1;33m.\u001b[0m\u001b[0mlog10\u001b[0m\u001b[1;33m(\u001b[0m\u001b[0mS\u001b[0m\u001b[1;33m)\u001b[0m \u001b[1;33m*\u001b[0m \u001b[0mT\u001b[0m \u001b[1;33m+\u001b[0m \u001b[0me\u001b[0m \u001b[1;33m*\u001b[0m \u001b[1;33m(\u001b[0m\u001b[0mnp\u001b[0m\u001b[1;33m.\u001b[0m\u001b[0mlog10\u001b[0m\u001b[1;33m(\u001b[0m\u001b[0mS\u001b[0m\u001b[1;33m)\u001b[0m\u001b[1;33m)\u001b[0m\u001b[1;33m**\u001b[0m\u001b[1;36m2\u001b[0m \u001b[1;33m+\u001b[0m \u001b[0mf\u001b[0m \u001b[1;33m*\u001b[0m \u001b[0mT\u001b[0m\u001b[1;33m**\u001b[0m\u001b[1;36m2\u001b[0m \u001b[1;33m-\u001b[0m \u001b[0mnp\u001b[0m\u001b[1;33m.\u001b[0m\u001b[0mlog10\u001b[0m\u001b[1;33m(\u001b[0m\u001b[0mQ\u001b[0m\u001b[1;33m)\u001b[0m\u001b[1;33m\u001b[0m\u001b[1;33m\u001b[0m\u001b[0m\n\u001b[1;32m----> 4\u001b[1;33m \u001b[0mTbrent\u001b[0m \u001b[1;33m=\u001b[0m \u001b[0moptimize\u001b[0m\u001b[1;33m.\u001b[0m\u001b[0mroot_scalar\u001b[0m\u001b[1;33m(\u001b[0m\u001b[0mf\u001b[0m\u001b[1;33m,\u001b[0m \u001b[0mbracket\u001b[0m\u001b[1;33m=\u001b[0m\u001b[1;33m[\u001b[0m\u001b[1;36m100\u001b[0m\u001b[1;33m,\u001b[0m \u001b[1;36m600\u001b[0m\u001b[1;33m]\u001b[0m\u001b[1;33m,\u001b[0m \u001b[0mmethod\u001b[0m\u001b[1;33m=\u001b[0m\u001b[1;34m'brentq'\u001b[0m\u001b[1;33m)\u001b[0m\u001b[1;33m.\u001b[0m\u001b[0mroot\u001b[0m\u001b[1;33m\u001b[0m\u001b[1;33m\u001b[0m\u001b[0m\n\u001b[0m\u001b[0;32m      5\u001b[0m \u001b[1;33m\u001b[0m\u001b[0m\n\u001b[0;32m      6\u001b[0m \u001b[0mTbrent\u001b[0m\u001b[1;33m\u001b[0m\u001b[1;33m\u001b[0m\u001b[0m\n",
      "\u001b[1;32m~\\Anaconda3\\lib\\site-packages\\scipy\\optimize\\_root_scalar.py\u001b[0m in \u001b[0;36mroot_scalar\u001b[1;34m(f, args, method, bracket, fprime, fprime2, x0, x1, xtol, rtol, maxiter, options)\u001b[0m\n\u001b[0;32m    244\u001b[0m \u001b[1;33m\u001b[0m\u001b[0m\n\u001b[0;32m    245\u001b[0m         \u001b[0ma\u001b[0m\u001b[1;33m,\u001b[0m \u001b[0mb\u001b[0m \u001b[1;33m=\u001b[0m \u001b[0mbracket\u001b[0m\u001b[1;33m[\u001b[0m\u001b[1;33m:\u001b[0m\u001b[1;36m2\u001b[0m\u001b[1;33m]\u001b[0m\u001b[1;33m\u001b[0m\u001b[1;33m\u001b[0m\u001b[0m\n\u001b[1;32m--> 246\u001b[1;33m         \u001b[0mr\u001b[0m\u001b[1;33m,\u001b[0m \u001b[0msol\u001b[0m \u001b[1;33m=\u001b[0m \u001b[0mmethodc\u001b[0m\u001b[1;33m(\u001b[0m\u001b[0mf\u001b[0m\u001b[1;33m,\u001b[0m \u001b[0ma\u001b[0m\u001b[1;33m,\u001b[0m \u001b[0mb\u001b[0m\u001b[1;33m,\u001b[0m \u001b[0margs\u001b[0m\u001b[1;33m=\u001b[0m\u001b[0margs\u001b[0m\u001b[1;33m,\u001b[0m \u001b[1;33m**\u001b[0m\u001b[0mkwargs\u001b[0m\u001b[1;33m)\u001b[0m\u001b[1;33m\u001b[0m\u001b[1;33m\u001b[0m\u001b[0m\n\u001b[0m\u001b[0;32m    247\u001b[0m     \u001b[1;32melif\u001b[0m \u001b[0mmeth\u001b[0m \u001b[1;32min\u001b[0m \u001b[1;33m[\u001b[0m\u001b[1;34m'secant'\u001b[0m\u001b[1;33m]\u001b[0m\u001b[1;33m:\u001b[0m\u001b[1;33m\u001b[0m\u001b[1;33m\u001b[0m\u001b[0m\n\u001b[0;32m    248\u001b[0m         \u001b[1;32mif\u001b[0m \u001b[0mx0\u001b[0m \u001b[1;32mis\u001b[0m \u001b[1;32mNone\u001b[0m\u001b[1;33m:\u001b[0m\u001b[1;33m\u001b[0m\u001b[1;33m\u001b[0m\u001b[0m\n",
      "\u001b[1;32m~\\Anaconda3\\lib\\site-packages\\scipy\\optimize\\zeros.py\u001b[0m in \u001b[0;36mbrentq\u001b[1;34m(f, a, b, args, xtol, rtol, maxiter, full_output, disp)\u001b[0m\n\u001b[0;32m    774\u001b[0m     \u001b[1;32mif\u001b[0m \u001b[0mrtol\u001b[0m \u001b[1;33m<\u001b[0m \u001b[0m_rtol\u001b[0m\u001b[1;33m:\u001b[0m\u001b[1;33m\u001b[0m\u001b[1;33m\u001b[0m\u001b[0m\n\u001b[0;32m    775\u001b[0m         \u001b[1;32mraise\u001b[0m \u001b[0mValueError\u001b[0m\u001b[1;33m(\u001b[0m\u001b[1;34m\"rtol too small (%g < %g)\"\u001b[0m \u001b[1;33m%\u001b[0m \u001b[1;33m(\u001b[0m\u001b[0mrtol\u001b[0m\u001b[1;33m,\u001b[0m \u001b[0m_rtol\u001b[0m\u001b[1;33m)\u001b[0m\u001b[1;33m)\u001b[0m\u001b[1;33m\u001b[0m\u001b[1;33m\u001b[0m\u001b[0m\n\u001b[1;32m--> 776\u001b[1;33m     \u001b[0mr\u001b[0m \u001b[1;33m=\u001b[0m \u001b[0m_zeros\u001b[0m\u001b[1;33m.\u001b[0m\u001b[0m_brentq\u001b[0m\u001b[1;33m(\u001b[0m\u001b[0mf\u001b[0m\u001b[1;33m,\u001b[0m \u001b[0ma\u001b[0m\u001b[1;33m,\u001b[0m \u001b[0mb\u001b[0m\u001b[1;33m,\u001b[0m \u001b[0mxtol\u001b[0m\u001b[1;33m,\u001b[0m \u001b[0mrtol\u001b[0m\u001b[1;33m,\u001b[0m \u001b[0mmaxiter\u001b[0m\u001b[1;33m,\u001b[0m \u001b[0margs\u001b[0m\u001b[1;33m,\u001b[0m \u001b[0mfull_output\u001b[0m\u001b[1;33m,\u001b[0m \u001b[0mdisp\u001b[0m\u001b[1;33m)\u001b[0m\u001b[1;33m\u001b[0m\u001b[1;33m\u001b[0m\u001b[0m\n\u001b[0m\u001b[0;32m    777\u001b[0m     \u001b[1;32mreturn\u001b[0m \u001b[0mresults_c\u001b[0m\u001b[1;33m(\u001b[0m\u001b[0mfull_output\u001b[0m\u001b[1;33m,\u001b[0m \u001b[0mr\u001b[0m\u001b[1;33m)\u001b[0m\u001b[1;33m\u001b[0m\u001b[1;33m\u001b[0m\u001b[0m\n\u001b[0;32m    778\u001b[0m \u001b[1;33m\u001b[0m\u001b[0m\n",
      "\u001b[1;31mValueError\u001b[0m: f(a) and f(b) must have different signs"
     ]
    }
   ],
   "source": [
    "# calcular retorno por el método de Brent\n",
    "def f(T, S=S, Q=Q, a=pars[0], b=pars[1], c=pars[2], d=pars[3], e=pars[4], f=pars[5]):\n",
    "    return a + b * np.log10(S) + c * T + d * np.log10(S) * T + e * (np.log10(S))**2 + f * T**2 - np.log10(Q)\n",
    "Tbrent = optimize.root_scalar(f, bracket=[100, 600], method='brentq').root\n",
    "\n",
    "Tbrent\n",
    "print('Periodo de retorno según ajuste de Brent:\\tT = {0:.5f} años'.format(Tbrent))"
   ]
  },
  {
   "cell_type": "markdown",
   "metadata": {},
   "source": [
    "### Ingrese en \"Xo\" el valor inicial de búsqueda"
   ]
  },
  {
   "cell_type": "code",
   "execution_count": 26,
   "metadata": {},
   "outputs": [
    {
     "name": "stdout",
     "output_type": "stream",
     "text": [
      "Periodo de retorno según ajuste de Newton-Raphson:\tT = 83.99839 años\n"
     ]
    }
   ],
   "source": [
    "# calcular retorno por el método de Newton\n",
    "def fprime(T, S=S, Q=Q, c=pars[2], d=pars[3], f=pars[5]):\n",
    "    return c + d * np.log10(S) + 2 * f * T\n",
    "Tnewton = optimize.root_scalar(f, x0=100, fprime=fprime, method='newton').root\n",
    "Tnewton\n",
    "print('Periodo de retorno según ajuste de Newton-Raphson:\\tT = {0:.5f} años'.format(Tbrent))"
   ]
  },
  {
   "cell_type": "code",
   "execution_count": null,
   "metadata": {},
   "outputs": [],
   "source": []
  },
  {
   "cell_type": "code",
   "execution_count": null,
   "metadata": {},
   "outputs": [],
   "source": []
  }
 ],
 "metadata": {
  "kernelspec": {
   "display_name": "Python 3",
   "language": "python",
   "name": "python3"
  },
  "language_info": {
   "codemirror_mode": {
    "name": "ipython",
    "version": 3
   },
   "file_extension": ".py",
   "mimetype": "text/x-python",
   "name": "python",
   "nbconvert_exporter": "python",
   "pygments_lexer": "ipython3",
   "version": "3.8.3"
  }
 },
 "nbformat": 4,
 "nbformat_minor": 4
}
