{
 "cells": [
  {
   "cell_type": "markdown",
   "metadata": {},
   "source": [
    "<img src=\"Avenida máxima probable. P.H. Norte II.jpg\">"
   ]
  },
  {
   "cell_type": "markdown",
   "metadata": {},
   "source": [
    "[Fit surface to polynomials in Python](https://gist.github.com/amroamroamro/1db8d69b4b65e8bc66a6)"
   ]
  },
  {
   "cell_type": "code",
   "execution_count": 1,
   "metadata": {},
   "outputs": [],
   "source": [
    "import numpy as np\n",
    "import pandas as pd\n",
    "from scipy import optimize\n",
    "import matplotlib.pyplot as plt\n",
    "import seaborn as sns\n",
    "sns.set()"
   ]
  },
  {
   "cell_type": "code",
   "execution_count": 2,
   "metadata": {},
   "outputs": [],
   "source": [
    "a = 3.5465\n",
    "b = 0.208\n",
    "c = 0.7727\n",
    "d = -0.0315"
   ]
  },
  {
   "cell_type": "code",
   "execution_count": 3,
   "metadata": {},
   "outputs": [],
   "source": [
    "# Dato de Area, y de caudal:"
   ]
  },
  {
   "cell_type": "markdown",
   "metadata": {},
   "source": [
    " # Estacion A606"
   ]
  },
  {
   "cell_type": "code",
   "execution_count": 4,
   "metadata": {},
   "outputs": [],
   "source": [
    "S=530\n",
    "Q= 264.79"
   ]
  },
  {
   "cell_type": "code",
   "execution_count": 5,
   "metadata": {},
   "outputs": [],
   "source": [
    "def Q_from_TS(T, S, a=3.5465, b=0.208, c=0.7727, d=-0.0315):\n",
    "    \"\"\"\"\"\"\n",
    "    \n",
    "    Q = a * T**b * S**(c + d * np.log10(T))\n",
    "    \n",
    "    return Q"
   ]
  },
  {
   "cell_type": "code",
   "execution_count": null,
   "metadata": {},
   "outputs": [],
   "source": []
  },
  {
   "cell_type": "code",
   "execution_count": 6,
   "metadata": {},
   "outputs": [],
   "source": [
    "# Prueba con un T y una superficie cualquiera\n",
    "T = 1 # años\n",
    "# S = 1174 # km²"
   ]
  },
  {
   "cell_type": "code",
   "execution_count": 7,
   "metadata": {},
   "outputs": [
    {
     "name": "stdout",
     "output_type": "stream",
     "text": [
      "Q = 451.7 m³/s\n"
     ]
    }
   ],
   "source": [
    "# Aplico la fórmula\n",
    "Q = Q_from_TS(T, S)\n",
    "print('Q = {0:.1f} m³/s'.format(Q))"
   ]
  },
  {
   "cell_type": "code",
   "execution_count": 8,
   "metadata": {},
   "outputs": [],
   "source": [
    "def f(T, S=S, Q=Q, a=3.5465, b=0.208, c=0.7727, d=-0.0315):\n",
    "    return round(a * T**b * S**(c + d * np.log10(T)) - Q, 1)"
   ]
  },
  {
   "cell_type": "code",
   "execution_count": 9,
   "metadata": {},
   "outputs": [],
   "source": [
    "# Hago la derivada que me servirá para encontrar las raices del polinomio según el metodo de Newton-Raphson\n",
    "def fprime(T, S=S, Q=Q, a=3.5465, b=0.208, c=0.7727, d=-0.0315):\n",
    "    return a * b * T**(b-1) * S**(c - d * np.log10(T)) + a * T**b * (d / (np.log(10) * T)) * S**(c +d * np.log10(T) - 1)"
   ]
  },
  {
   "cell_type": "code",
   "execution_count": 10,
   "metadata": {},
   "outputs": [],
   "source": [
    "# calcular retorno por el método de Brent\n",
    "Tbrent = optimize.root_scalar(f, bracket=[0.001, 20000], method='brentq').root"
   ]
  },
  {
   "cell_type": "code",
   "execution_count": 11,
   "metadata": {},
   "outputs": [],
   "source": [
    "# calcular retorno por el método de Newton\n",
    "Tnewton = optimize.root_scalar(f, x0=0.0001, fprime=fprime, method='newton').root"
   ]
  },
  {
   "cell_type": "code",
   "execution_count": 12,
   "metadata": {},
   "outputs": [
    {
     "name": "stdout",
     "output_type": "stream",
     "text": [
      "Brent:\tT = 1.000687 años\n",
      "Newton:\tT = 0.999158 años\n"
     ]
    }
   ],
   "source": [
    "# Compruebo que el periodo de retorno es el mismo que el que definí al principio. La  solución del polinomio es correcta\n",
    "print('Brent:\\tT = {0:.6f} años'.format(Tbrent))\n",
    "print('Newton:\\tT = {0:.6f} años'.format(Tnewton))"
   ]
  },
  {
   "cell_type": "markdown",
   "metadata": {},
   "source": [
    " # Esacion Q103"
   ]
  },
  {
   "cell_type": "code",
   "execution_count": 13,
   "metadata": {},
   "outputs": [],
   "source": [
    "S=1852.4\n",
    "Q= 423.83"
   ]
  },
  {
   "cell_type": "code",
   "execution_count": 14,
   "metadata": {},
   "outputs": [
    {
     "name": "stdout",
     "output_type": "stream",
     "text": [
      "Q = 419.6 m³/s\n"
     ]
    }
   ],
   "source": [
    "# Aplico la fórmula\n",
    "Q = Q_from_TS(0.00005, S)\n",
    "print('Q = {0:.1f} m³/s'.format(Q))"
   ]
  },
  {
   "cell_type": "code",
   "execution_count": null,
   "metadata": {},
   "outputs": [],
   "source": []
  },
  {
   "cell_type": "code",
   "execution_count": null,
   "metadata": {},
   "outputs": [],
   "source": []
  },
  {
   "cell_type": "code",
   "execution_count": 15,
   "metadata": {},
   "outputs": [],
   "source": [
    "def Q_from_TS(T, S, a=3.5465, b=0.208, c=0.7727, d=-0.0315):\n",
    "    \"\"\"\"\"\"\n",
    "    \n",
    "    Q = a * T**b * S**(c + d * np.log10(T))\n",
    "    \n",
    "    return Q"
   ]
  },
  {
   "cell_type": "code",
   "execution_count": null,
   "metadata": {},
   "outputs": [],
   "source": []
  },
  {
   "cell_type": "code",
   "execution_count": 16,
   "metadata": {},
   "outputs": [],
   "source": [
    "def f(T, S=S, Q=Q, a=3.5465, b=0.208, c=0.7727, d=-0.0315):\n",
    "    return round(a * T**b * S**(c + d * np.log10(T)) - Q, 1)"
   ]
  },
  {
   "cell_type": "code",
   "execution_count": null,
   "metadata": {},
   "outputs": [],
   "source": []
  },
  {
   "cell_type": "code",
   "execution_count": 17,
   "metadata": {},
   "outputs": [],
   "source": [
    "# Hago la derivada que me servirá para encontrar las raices del polinomio según el metodo de Newton-Raphson\n",
    "def fprime(T, S=S, Q=Q, a=3.5465, b=0.208, c=0.7727, d=-0.0315):\n",
    "    return a * b * T**(b-1) * S**(c - d * np.log10(T)) + a * T**b * (d / (np.log(10) * T)) * S**(c +d * np.log10(T) - 1)"
   ]
  },
  {
   "cell_type": "code",
   "execution_count": 18,
   "metadata": {},
   "outputs": [],
   "source": [
    "# calcular retorno por el método de Brent\n",
    "Tbrent = optimize.root_scalar(f, bracket=[0.000001, 10000], method='brentq').root"
   ]
  },
  {
   "cell_type": "code",
   "execution_count": 19,
   "metadata": {},
   "outputs": [
    {
     "name": "stderr",
     "output_type": "stream",
     "text": [
      "<ipython-input-16-4dba5bd6f328>:2: RuntimeWarning: invalid value encountered in double_scalars\n",
      "  return round(a * T**b * S**(c + d * np.log10(T)) - Q, 1)\n",
      "<ipython-input-16-4dba5bd6f328>:2: RuntimeWarning: invalid value encountered in log10\n",
      "  return round(a * T**b * S**(c + d * np.log10(T)) - Q, 1)\n",
      "<ipython-input-17-e5d00ff4323c>:3: RuntimeWarning: invalid value encountered in double_scalars\n",
      "  return a * b * T**(b-1) * S**(c - d * np.log10(T)) + a * T**b * (d / (np.log(10) * T)) * S**(c +d * np.log10(T) - 1)\n",
      "<ipython-input-17-e5d00ff4323c>:3: RuntimeWarning: invalid value encountered in log10\n",
      "  return a * b * T**(b-1) * S**(c - d * np.log10(T)) + a * T**b * (d / (np.log(10) * T)) * S**(c +d * np.log10(T) - 1)\n"
     ]
    }
   ],
   "source": [
    "# calcular retorno por el método de Newton\n",
    "Tnewton = optimize.root_scalar(f, x0=1, fprime=fprime, method='newton').root"
   ]
  },
  {
   "cell_type": "code",
   "execution_count": 20,
   "metadata": {},
   "outputs": [
    {
     "name": "stdout",
     "output_type": "stream",
     "text": [
      "Brent:\tT = 0.000050 años\n",
      "Newton:\tT = nan años\n"
     ]
    }
   ],
   "source": [
    "# Compruebo que el periodo de retorno es el mismo que el que definí al principio. La  solución del polinomio es correcta\n",
    "print('Brent:\\tT = {0:.6f} años'.format(Tbrent))\n",
    "print('Newton:\\tT = {0:.6f} años'.format(Tnewton))"
   ]
  },
  {
   "cell_type": "markdown",
   "metadata": {},
   "source": [
    " # Esacion A615"
   ]
  },
  {
   "cell_type": "code",
   "execution_count": null,
   "metadata": {},
   "outputs": [],
   "source": []
  },
  {
   "cell_type": "code",
   "execution_count": 21,
   "metadata": {},
   "outputs": [],
   "source": [
    "S=1734.4\n",
    "Q= 442"
   ]
  },
  {
   "cell_type": "code",
   "execution_count": 22,
   "metadata": {},
   "outputs": [
    {
     "name": "stdout",
     "output_type": "stream",
     "text": [
      "Q = 409.6 m³/s\n"
     ]
    }
   ],
   "source": [
    "# Aplico la fórmula\n",
    "Q = Q_from_TS(0.00007, S)\n",
    "print('Q = {0:.1f} m³/s'.format(Q))"
   ]
  },
  {
   "cell_type": "code",
   "execution_count": null,
   "metadata": {},
   "outputs": [],
   "source": []
  },
  {
   "cell_type": "code",
   "execution_count": null,
   "metadata": {},
   "outputs": [],
   "source": []
  },
  {
   "cell_type": "code",
   "execution_count": 23,
   "metadata": {},
   "outputs": [],
   "source": [
    "def Q_from_TS(T, S, a=3.5465, b=0.208, c=0.7727, d=-0.0315):\n",
    "    \"\"\"\"\"\"\n",
    "    \n",
    "    Q = a * T**b * S**(c + d * np.log10(T))\n",
    "    \n",
    "    return Q"
   ]
  },
  {
   "cell_type": "code",
   "execution_count": null,
   "metadata": {},
   "outputs": [],
   "source": []
  },
  {
   "cell_type": "code",
   "execution_count": 24,
   "metadata": {},
   "outputs": [],
   "source": [
    "def f(T, S=S, Q=Q, a=3.5465, b=0.208, c=0.7727, d=-0.0315):\n",
    "    return round(a * T**b * S**(c + d * np.log10(T)) - Q, 1)"
   ]
  },
  {
   "cell_type": "code",
   "execution_count": null,
   "metadata": {},
   "outputs": [],
   "source": []
  },
  {
   "cell_type": "code",
   "execution_count": 25,
   "metadata": {},
   "outputs": [],
   "source": [
    "# Hago la derivada que me servirá para encontrar las raices del polinomio según el metodo de Newton-Raphson\n",
    "def fprime(T, S=S, Q=Q, a=3.5465, b=0.208, c=0.7727, d=-0.0315):\n",
    "    return a * b * T**(b-1) * S**(c - d * np.log10(T)) + a * T**b * (d / (np.log(10) * T)) * S**(c +d * np.log10(T) - 1)"
   ]
  },
  {
   "cell_type": "code",
   "execution_count": 26,
   "metadata": {},
   "outputs": [],
   "source": [
    "# calcular retorno por el método de Brent\n",
    "Tbrent = optimize.root_scalar(f, bracket=[0.000001, 10000], method='brentq').root"
   ]
  },
  {
   "cell_type": "code",
   "execution_count": 27,
   "metadata": {},
   "outputs": [],
   "source": [
    "# calcular retorno por el método de Newton\n",
    "Tnewton = optimize.root_scalar(f, x0=0.00007, fprime=fprime, method='newton').root"
   ]
  },
  {
   "cell_type": "code",
   "execution_count": 28,
   "metadata": {},
   "outputs": [
    {
     "name": "stdout",
     "output_type": "stream",
     "text": [
      "Brent:\tT = 0.000070 años\n",
      "Newton:\tT = 0.000070 años\n"
     ]
    }
   ],
   "source": [
    "# Compruebo que el periodo de retorno es el mismo que el que definí al principio. La  solución del polinomio es correcta\n",
    "print('Brent:\\tT = {0:.6f} años'.format(Tbrent))\n",
    "print('Newton:\\tT = {0:.6f} años'.format(Tnewton))"
   ]
  },
  {
   "cell_type": "markdown",
   "metadata": {},
   "source": [
    " # Estacion A626"
   ]
  },
  {
   "cell_type": "code",
   "execution_count": null,
   "metadata": {},
   "outputs": [],
   "source": []
  },
  {
   "cell_type": "code",
   "execution_count": null,
   "metadata": {},
   "outputs": [],
   "source": []
  },
  {
   "cell_type": "code",
   "execution_count": 29,
   "metadata": {},
   "outputs": [],
   "source": [
    "S=1210\n",
    "Q= 270"
   ]
  },
  {
   "cell_type": "code",
   "execution_count": 30,
   "metadata": {},
   "outputs": [
    {
     "name": "stdout",
     "output_type": "stream",
     "text": [
      "Q = 295.9 m³/s\n"
     ]
    }
   ],
   "source": [
    "# Aplico la fórmula\n",
    "Q = Q_from_TS(0.00007, S)\n",
    "print('Q = {0:.1f} m³/s'.format(Q))"
   ]
  },
  {
   "cell_type": "code",
   "execution_count": 31,
   "metadata": {},
   "outputs": [],
   "source": [
    "def Q_from_TS(T, S, a=3.5465, b=0.208, c=0.7727, d=-0.0315):\n",
    "    \"\"\"\"\"\"\n",
    "    \n",
    "    Q = a * T**b * S**(c + d * np.log10(T))\n",
    "    \n",
    "    return Q"
   ]
  },
  {
   "cell_type": "code",
   "execution_count": null,
   "metadata": {},
   "outputs": [],
   "source": []
  },
  {
   "cell_type": "code",
   "execution_count": 32,
   "metadata": {},
   "outputs": [],
   "source": [
    "def f(T, S=S, Q=Q, a=3.5465, b=0.208, c=0.7727, d=-0.0315):\n",
    "    return round(a * T**b * S**(c + d * np.log10(T)) - Q, 1)"
   ]
  },
  {
   "cell_type": "code",
   "execution_count": null,
   "metadata": {},
   "outputs": [],
   "source": []
  },
  {
   "cell_type": "code",
   "execution_count": 33,
   "metadata": {},
   "outputs": [],
   "source": [
    "# Hago la derivada que me servirá para encontrar las raices del polinomio según el metodo de Newton-Raphson\n",
    "def fprime(T, S=S, Q=Q, a=3.5465, b=0.208, c=0.7727, d=-0.0315):\n",
    "    return a * b * T**(b-1) * S**(c - d * np.log10(T)) + a * T**b * (d / (np.log(10) * T)) * S**(c +d * np.log10(T) - 1)"
   ]
  },
  {
   "cell_type": "code",
   "execution_count": 34,
   "metadata": {},
   "outputs": [],
   "source": [
    "# calcular retorno por el método de Brent\n",
    "Tbrent = optimize.root_scalar(f, bracket=[0.000001, 10000], method='brentq').root"
   ]
  },
  {
   "cell_type": "code",
   "execution_count": 35,
   "metadata": {},
   "outputs": [
    {
     "name": "stderr",
     "output_type": "stream",
     "text": [
      "<ipython-input-32-4dba5bd6f328>:2: RuntimeWarning: invalid value encountered in double_scalars\n",
      "  return round(a * T**b * S**(c + d * np.log10(T)) - Q, 1)\n",
      "<ipython-input-32-4dba5bd6f328>:2: RuntimeWarning: invalid value encountered in log10\n",
      "  return round(a * T**b * S**(c + d * np.log10(T)) - Q, 1)\n",
      "<ipython-input-33-e5d00ff4323c>:3: RuntimeWarning: invalid value encountered in double_scalars\n",
      "  return a * b * T**(b-1) * S**(c - d * np.log10(T)) + a * T**b * (d / (np.log(10) * T)) * S**(c +d * np.log10(T) - 1)\n",
      "<ipython-input-33-e5d00ff4323c>:3: RuntimeWarning: invalid value encountered in log10\n",
      "  return a * b * T**(b-1) * S**(c - d * np.log10(T)) + a * T**b * (d / (np.log(10) * T)) * S**(c +d * np.log10(T) - 1)\n"
     ]
    }
   ],
   "source": [
    "# calcular retorno por el método de Newton\n",
    "Tnewton = optimize.root_scalar(f, x0=0.000031, fprime=fprime, method='newton').root"
   ]
  },
  {
   "cell_type": "code",
   "execution_count": 36,
   "metadata": {},
   "outputs": [
    {
     "name": "stdout",
     "output_type": "stream",
     "text": [
      "Brent:\tT = 0.000070 años\n",
      "Newton:\tT = nan años\n"
     ]
    }
   ],
   "source": [
    "# Compruebo que el periodo de retorno es el mismo que el que definí al principio. La  solución del polinomio es correcta\n",
    "print('Brent:\\tT = {0:.6f} años'.format(Tbrent))\n",
    "print('Newton:\\tT = {0:.6f} años'.format(Tnewton))"
   ]
  },
  {
   "cell_type": "code",
   "execution_count": 37,
   "metadata": {},
   "outputs": [],
   "source": [
    "T = 10"
   ]
  },
  {
   "cell_type": "code",
   "execution_count": 38,
   "metadata": {},
   "outputs": [],
   "source": [
    "# He creado 50 numeros en espacio logaritmico\n",
    "# stop in np.logspace(start, stop, num=50) is the final value of the sequence. Number of samples to generate. Default is 50.\n",
    "Ss = np.logspace(0, 4, num=50)\n",
    "# Sz=np.random.multivariate_normal(mean, cov, 50)\n",
    "\n",
    "# Periodos de retorno\n",
    "Ts = [5, 10, 25, 50, 1000]\n",
    "\n",
    "Qs = pd.DataFrame(index=Ss, columns=Ts)\n",
    "for T in Qs.columns:\n",
    "    Qs[T] = np.array([Q_from_TS(T, S) / S for S in Ss])"
   ]
  },
  {
   "cell_type": "code",
   "execution_count": 39,
   "metadata": {},
   "outputs": [
    {
     "data": {
      "text/plain": [
       "array([1.00000000e+00, 1.20679264e+00, 1.45634848e+00, 1.75751062e+00,\n",
       "       2.12095089e+00, 2.55954792e+00, 3.08884360e+00, 3.72759372e+00,\n",
       "       4.49843267e+00, 5.42867544e+00, 6.55128557e+00, 7.90604321e+00,\n",
       "       9.54095476e+00, 1.15139540e+01, 1.38949549e+01, 1.67683294e+01,\n",
       "       2.02358965e+01, 2.44205309e+01, 2.94705170e+01, 3.55648031e+01,\n",
       "       4.29193426e+01, 5.17947468e+01, 6.25055193e+01, 7.54312006e+01,\n",
       "       9.10298178e+01, 1.09854114e+02, 1.32571137e+02, 1.59985872e+02,\n",
       "       1.93069773e+02, 2.32995181e+02, 2.81176870e+02, 3.39322177e+02,\n",
       "       4.09491506e+02, 4.94171336e+02, 5.96362332e+02, 7.19685673e+02,\n",
       "       8.68511374e+02, 1.04811313e+03, 1.26485522e+03, 1.52641797e+03,\n",
       "       1.84206997e+03, 2.22299648e+03, 2.68269580e+03, 3.23745754e+03,\n",
       "       3.90693994e+03, 4.71486636e+03, 5.68986603e+03, 6.86648845e+03,\n",
       "       8.28642773e+03, 1.00000000e+04])"
      ]
     },
     "execution_count": 39,
     "metadata": {},
     "output_type": "execute_result"
    }
   ],
   "source": [
    "Ss"
   ]
  },
  {
   "cell_type": "code",
   "execution_count": 40,
   "metadata": {},
   "outputs": [
    {
     "data": {
      "image/png": "[encoded data removed]",
      "text/plain": [
       "<Figure size 1152x288 with 1 Axes>"
      ]
     },
     "metadata": {},
     "output_type": "display_data"
    }
   ],
   "source": [
    "plt.figure(figsize=(16, 4))\n",
    "\n",
    "for T in Qs.columns:\n",
    "    plt.plot(Ss, Qs[T], label=T)\n",
    "\n",
    "yticks = np.linspace(0, 10, 11)\n",
    "plt.yticks(ticks=yticks, labels=yticks)\n",
    "plt.xlabel('S [km²]')\n",
    "plt.ylabel('Qesp [m³/(s·km²)]')\n",
    "plt.yscale('log')\n",
    "plt.xscale('log')\n",
    "plt.legend();"
   ]
  },
  {
   "cell_type": "markdown",
   "metadata": {},
   "source": [
    "# Parte II"
   ]
  },
  {
   "cell_type": "code",
   "execution_count": 41,
   "metadata": {},
   "outputs": [],
   "source": [
    "# importo el ábaco del excel\n",
    "abaco = pd.read_excel('E:/Periodos_retorno.xlsx', sheet_name='AMP', index_col='S')"
   ]
  },
  {
   "cell_type": "code",
   "execution_count": 42,
   "metadata": {},
   "outputs": [
    {
     "data": {
      "text/html": [
       "<div>\n",
       "<style scoped>\n",
       "    .dataframe tbody tr th:only-of-type {\n",
       "        vertical-align: middle;\n",
       "    }\n",
       "\n",
       "    .dataframe tbody tr th {\n",
       "        vertical-align: top;\n",
       "    }\n",
       "\n",
       "    .dataframe thead th {\n",
       "        text-align: right;\n",
       "    }\n",
       "</style>\n",
       "<table border=\"1\" class=\"dataframe\">\n",
       "  <thead>\n",
       "    <tr style=\"text-align: right;\">\n",
       "      <th></th>\n",
       "      <th>Q5</th>\n",
       "      <th>Q10</th>\n",
       "      <th>Q25</th>\n",
       "      <th>Q50</th>\n",
       "      <th>Q100</th>\n",
       "      <th>Q500</th>\n",
       "      <th>I</th>\n",
       "    </tr>\n",
       "    <tr>\n",
       "      <th>S</th>\n",
       "      <th></th>\n",
       "      <th></th>\n",
       "      <th></th>\n",
       "      <th></th>\n",
       "      <th></th>\n",
       "      <th></th>\n",
       "      <th></th>\n",
       "    </tr>\n",
       "  </thead>\n",
       "  <tbody>\n",
       "    <tr>\n",
       "      <th>1</th>\n",
       "      <td>3.00</td>\n",
       "      <td>4.00</td>\n",
       "      <td>5.50</td>\n",
       "      <td>7.00</td>\n",
       "      <td>8.25</td>\n",
       "      <td>12.00</td>\n",
       "      <td>20.00</td>\n",
       "    </tr>\n",
       "    <tr>\n",
       "      <th>2</th>\n",
       "      <td>3.00</td>\n",
       "      <td>4.00</td>\n",
       "      <td>5.20</td>\n",
       "      <td>6.65</td>\n",
       "      <td>7.33</td>\n",
       "      <td>11.00</td>\n",
       "      <td>18.00</td>\n",
       "    </tr>\n",
       "    <tr>\n",
       "      <th>3</th>\n",
       "      <td>3.00</td>\n",
       "      <td>4.00</td>\n",
       "      <td>4.90</td>\n",
       "      <td>6.00</td>\n",
       "      <td>7.10</td>\n",
       "      <td>10.05</td>\n",
       "      <td>17.00</td>\n",
       "    </tr>\n",
       "    <tr>\n",
       "      <th>4</th>\n",
       "      <td>3.00</td>\n",
       "      <td>3.80</td>\n",
       "      <td>4.60</td>\n",
       "      <td>5.40</td>\n",
       "      <td>6.80</td>\n",
       "      <td>9.90</td>\n",
       "      <td>16.20</td>\n",
       "    </tr>\n",
       "    <tr>\n",
       "      <th>5</th>\n",
       "      <td>2.90</td>\n",
       "      <td>3.75</td>\n",
       "      <td>4.40</td>\n",
       "      <td>5.20</td>\n",
       "      <td>6.40</td>\n",
       "      <td>9.50</td>\n",
       "      <td>15.60</td>\n",
       "    </tr>\n",
       "    <tr>\n",
       "      <th>6</th>\n",
       "      <td>2.85</td>\n",
       "      <td>3.60</td>\n",
       "      <td>4.25</td>\n",
       "      <td>5.00</td>\n",
       "      <td>6.15</td>\n",
       "      <td>9.10</td>\n",
       "      <td>15.00</td>\n",
       "    </tr>\n",
       "    <tr>\n",
       "      <th>7</th>\n",
       "      <td>2.80</td>\n",
       "      <td>3.40</td>\n",
       "      <td>4.10</td>\n",
       "      <td>4.75</td>\n",
       "      <td>5.80</td>\n",
       "      <td>8.60</td>\n",
       "      <td>14.00</td>\n",
       "    </tr>\n",
       "    <tr>\n",
       "      <th>10</th>\n",
       "      <td>2.70</td>\n",
       "      <td>3.20</td>\n",
       "      <td>3.75</td>\n",
       "      <td>4.20</td>\n",
       "      <td>5.20</td>\n",
       "      <td>8.00</td>\n",
       "      <td>13.00</td>\n",
       "    </tr>\n",
       "    <tr>\n",
       "      <th>15</th>\n",
       "      <td>2.40</td>\n",
       "      <td>2.90</td>\n",
       "      <td>3.35</td>\n",
       "      <td>3.80</td>\n",
       "      <td>4.60</td>\n",
       "      <td>7.10</td>\n",
       "      <td>11.50</td>\n",
       "    </tr>\n",
       "    <tr>\n",
       "      <th>20</th>\n",
       "      <td>2.35</td>\n",
       "      <td>2.60</td>\n",
       "      <td>3.10</td>\n",
       "      <td>3.30</td>\n",
       "      <td>4.20</td>\n",
       "      <td>6.60</td>\n",
       "      <td>10.05</td>\n",
       "    </tr>\n",
       "    <tr>\n",
       "      <th>50</th>\n",
       "      <td>1.80</td>\n",
       "      <td>2.20</td>\n",
       "      <td>2.40</td>\n",
       "      <td>2.75</td>\n",
       "      <td>3.40</td>\n",
       "      <td>5.00</td>\n",
       "      <td>8.00</td>\n",
       "    </tr>\n",
       "    <tr>\n",
       "      <th>100</th>\n",
       "      <td>1.60</td>\n",
       "      <td>1.85</td>\n",
       "      <td>1.90</td>\n",
       "      <td>2.30</td>\n",
       "      <td>2.60</td>\n",
       "      <td>4.00</td>\n",
       "      <td>6.20</td>\n",
       "    </tr>\n",
       "    <tr>\n",
       "      <th>150</th>\n",
       "      <td>1.40</td>\n",
       "      <td>1.55</td>\n",
       "      <td>1.75</td>\n",
       "      <td>1.95</td>\n",
       "      <td>2.40</td>\n",
       "      <td>3.50</td>\n",
       "      <td>5.60</td>\n",
       "    </tr>\n",
       "    <tr>\n",
       "      <th>200</th>\n",
       "      <td>1.30</td>\n",
       "      <td>1.45</td>\n",
       "      <td>1.60</td>\n",
       "      <td>1.80</td>\n",
       "      <td>2.20</td>\n",
       "      <td>3.20</td>\n",
       "      <td>5.00</td>\n",
       "    </tr>\n",
       "    <tr>\n",
       "      <th>500</th>\n",
       "      <td>1.05</td>\n",
       "      <td>1.16</td>\n",
       "      <td>1.27</td>\n",
       "      <td>1.41</td>\n",
       "      <td>1.60</td>\n",
       "      <td>2.30</td>\n",
       "      <td>3.50</td>\n",
       "    </tr>\n",
       "    <tr>\n",
       "      <th>1000</th>\n",
       "      <td>0.90</td>\n",
       "      <td>0.95</td>\n",
       "      <td>1.05</td>\n",
       "      <td>1.15</td>\n",
       "      <td>1.30</td>\n",
       "      <td>1.95</td>\n",
       "      <td>3.00</td>\n",
       "    </tr>\n",
       "    <tr>\n",
       "      <th>2000</th>\n",
       "      <td>0.75</td>\n",
       "      <td>0.80</td>\n",
       "      <td>0.85</td>\n",
       "      <td>0.95</td>\n",
       "      <td>1.05</td>\n",
       "      <td>1.60</td>\n",
       "      <td>2.40</td>\n",
       "    </tr>\n",
       "    <tr>\n",
       "      <th>5000</th>\n",
       "      <td>0.58</td>\n",
       "      <td>0.62</td>\n",
       "      <td>0.68</td>\n",
       "      <td>0.73</td>\n",
       "      <td>0.80</td>\n",
       "      <td>1.20</td>\n",
       "      <td>1.75</td>\n",
       "    </tr>\n",
       "    <tr>\n",
       "      <th>10000</th>\n",
       "      <td>0.50</td>\n",
       "      <td>0.52</td>\n",
       "      <td>0.55</td>\n",
       "      <td>0.60</td>\n",
       "      <td>0.63</td>\n",
       "      <td>0.95</td>\n",
       "      <td>1.45</td>\n",
       "    </tr>\n",
       "    <tr>\n",
       "      <th>15000</th>\n",
       "      <td>0.45</td>\n",
       "      <td>0.47</td>\n",
       "      <td>0.50</td>\n",
       "      <td>0.53</td>\n",
       "      <td>0.56</td>\n",
       "      <td>0.85</td>\n",
       "      <td>1.26</td>\n",
       "    </tr>\n",
       "    <tr>\n",
       "      <th>20000</th>\n",
       "      <td>0.42</td>\n",
       "      <td>0.44</td>\n",
       "      <td>0.46</td>\n",
       "      <td>0.49</td>\n",
       "      <td>0.52</td>\n",
       "      <td>0.79</td>\n",
       "      <td>1.18</td>\n",
       "    </tr>\n",
       "  </tbody>\n",
       "</table>\n",
       "</div>"
      ],
      "text/plain": [
       "         Q5   Q10   Q25   Q50  Q100   Q500      I\n",
       "S                                                \n",
       "1      3.00  4.00  5.50  7.00  8.25  12.00  20.00\n",
       "2      3.00  4.00  5.20  6.65  7.33  11.00  18.00\n",
       "3      3.00  4.00  4.90  6.00  7.10  10.05  17.00\n",
       "4      3.00  3.80  4.60  5.40  6.80   9.90  16.20\n",
       "5      2.90  3.75  4.40  5.20  6.40   9.50  15.60\n",
       "6      2.85  3.60  4.25  5.00  6.15   9.10  15.00\n",
       "7      2.80  3.40  4.10  4.75  5.80   8.60  14.00\n",
       "10     2.70  3.20  3.75  4.20  5.20   8.00  13.00\n",
       "15     2.40  2.90  3.35  3.80  4.60   7.10  11.50\n",
       "20     2.35  2.60  3.10  3.30  4.20   6.60  10.05\n",
       "50     1.80  2.20  2.40  2.75  3.40   5.00   8.00\n",
       "100    1.60  1.85  1.90  2.30  2.60   4.00   6.20\n",
       "150    1.40  1.55  1.75  1.95  2.40   3.50   5.60\n",
       "200    1.30  1.45  1.60  1.80  2.20   3.20   5.00\n",
       "500    1.05  1.16  1.27  1.41  1.60   2.30   3.50\n",
       "1000   0.90  0.95  1.05  1.15  1.30   1.95   3.00\n",
       "2000   0.75  0.80  0.85  0.95  1.05   1.60   2.40\n",
       "5000   0.58  0.62  0.68  0.73  0.80   1.20   1.75\n",
       "10000  0.50  0.52  0.55  0.60  0.63   0.95   1.45\n",
       "15000  0.45  0.47  0.50  0.53  0.56   0.85   1.26\n",
       "20000  0.42  0.44  0.46  0.49  0.52   0.79   1.18"
      ]
     },
     "execution_count": 42,
     "metadata": {},
     "output_type": "execute_result"
    }
   ],
   "source": [
    "abaco"
   ]
  },
  {
   "cell_type": "code",
   "execution_count": 43,
   "metadata": {},
   "outputs": [
    {
     "data": {
      "text/plain": [
       "Index(['Q5', 'Q10', 'Q25', 'Q50', 'Q100', 'Q500', 'I'], dtype='object')"
      ]
     },
     "execution_count": 43,
     "metadata": {},
     "output_type": "execute_result"
    }
   ],
   "source": [
    "abaco.columns"
   ]
  },
  {
   "cell_type": "code",
   "execution_count": 44,
   "metadata": {},
   "outputs": [
    {
     "data": {
      "text/plain": [
       "Int64Index([    1,     2,     3,     4,     5,     6,     7,    10,    15,\n",
       "               20,    50,   100,   150,   200,   500,  1000,  2000,  5000,\n",
       "            10000, 15000, 20000],\n",
       "           dtype='int64', name='S')"
      ]
     },
     "execution_count": 44,
     "metadata": {},
     "output_type": "execute_result"
    }
   ],
   "source": [
    "abaco.index"
   ]
  },
  {
   "cell_type": "code",
   "execution_count": 45,
   "metadata": {},
   "outputs": [],
   "source": [
    "# ajustar polinomio para un periodo de retorno \n",
    "# numpy.polyfit(x, y, deg).Returns a vector of coefficients p that minimises the squared error in the order deg\n",
    "pars = np.polyfit(np.log10(abaco.index), np.log10(abaco.Q10), deg=3)\n"
   ]
  },
  {
   "cell_type": "code",
   "execution_count": 46,
   "metadata": {},
   "outputs": [
    {
     "data": {
      "text/plain": [
       "array([ 0.01259065, -0.09868223, -0.03430644,  0.62360005])"
      ]
     },
     "execution_count": 46,
     "metadata": {},
     "output_type": "execute_result"
    }
   ],
   "source": [
    "pars"
   ]
  },
  {
   "cell_type": "code",
   "execution_count": 47,
   "metadata": {},
   "outputs": [
    {
     "name": "stdout",
     "output_type": "stream",
     "text": [
      "La ecuación queda de la siguiente manera: log Qs = 0.013 (log S)³ + -0.099 (log S)² + -0.034 log S + 0.624\n"
     ]
    }
   ],
   "source": [
    "print('La ecuación queda de la siguiente manera: log Qs = {0:.3f} (log S)³ + {1:.3f} (log S)² + {2:.3f} log S + {3:.3f}'.format(*pars))"
   ]
  },
  {
   "cell_type": "code",
   "execution_count": 48,
   "metadata": {},
   "outputs": [],
   "source": [
    "# calcular puntos de la curva ajustada\n",
    "\n",
    "# He creado 50 numeros en espacio logaritmico\n",
    "S_ = np.logspace(0, 5, 50)\n",
    "# np.polyval(pars, x). If x is a sequence, then p(x) is returned for each element of x.\n",
    "Q_ = 10**np.polyval(pars, np.log10(S_))\n"
   ]
  },
  {
   "cell_type": "code",
   "execution_count": 49,
   "metadata": {},
   "outputs": [
    {
     "data": {
      "image/png": "[encoded data removed]",
      "text/plain": [
       "<Figure size 432x288 with 1 Axes>"
      ]
     },
     "metadata": {},
     "output_type": "display_data"
    }
   ],
   "source": [
    "# gráfico\n",
    "plt.scatter(abaco.index, abaco.Q10, s=10, c='k', label='abaco')\n",
    "plt.plot(S_, Q_)\n",
    "\n",
    "plt.xscale('log')\n",
    "plt.yscale('log')"
   ]
  },
  {
   "cell_type": "markdown",
   "metadata": {},
   "source": [
    "***"
   ]
  },
  {
   "cell_type": "markdown",
   "metadata": {},
   "source": [
    "# Parte III: A partir de una distribucion normal"
   ]
  },
  {
   "cell_type": "code",
   "execution_count": 50,
   "metadata": {},
   "outputs": [],
   "source": [
    "# https://gist.github.com/amroamroamro/1db8d69b4b65e8bc66a6"
   ]
  },
  {
   "cell_type": "code",
   "execution_count": 51,
   "metadata": {},
   "outputs": [],
   "source": [
    "import numpy as np\n",
    "import scipy.linalg\n",
    "from mpl_toolkits.mplot3d import Axes3D\n",
    "import matplotlib.pyplot as plt"
   ]
  },
  {
   "cell_type": "code",
   "execution_count": 52,
   "metadata": {},
   "outputs": [],
   "source": [
    "# some 3-dim points\n",
    "mean = np.array([0.0,0.0,0.0])\n",
    "cov = np.array([[1.0,-0.5,0.8], [-0.5,1.1,0.0], [0.8,0.0,1.0]])\n",
    "datos = np.random.multivariate_normal(mean, cov, 60)"
   ]
  },
  {
   "cell_type": "code",
   "execution_count": 53,
   "metadata": {},
   "outputs": [
    {
     "data": {
      "text/plain": [
       "array([[ 8.22060166e-02, -2.15010394e+00, -1.01252176e+00],\n",
       "       [ 5.87970432e-01,  1.05453924e+00,  1.24399749e+00],\n",
       "       [ 1.86385483e+00, -1.34522036e-01,  7.59940718e-01],\n",
       "       [ 6.57802322e-01, -1.95474207e+00, -5.71636460e-01],\n",
       "       [-8.87249416e-01, -7.40332266e-01, -3.70715241e-01],\n",
       "       [ 2.01664189e-02, -8.24348479e-01, -7.59053836e-01],\n",
       "       [-6.40418204e-01,  8.54333538e-01, -1.60977292e-01],\n",
       "       [-6.80556384e-02, -4.84580893e-01, -4.32592729e-01],\n",
       "       [ 4.93996991e-01, -3.29940525e-03,  3.33168963e-01],\n",
       "       [ 8.25849721e-01,  1.64028572e+00,  1.54089311e+00],\n",
       "       [ 1.04088338e+00, -4.85023722e-01,  1.87125547e-01],\n",
       "       [ 3.98254973e-01,  6.54394240e-02,  7.31687304e-01],\n",
       "       [ 1.53927729e+00, -1.12727024e+00,  1.03188335e+00],\n",
       "       [ 1.31952271e-01,  1.38898843e+00,  1.17940386e+00],\n",
       "       [-5.23326166e-01, -7.14150638e-01, -4.11522919e-01],\n",
       "       [-1.18576823e+00,  5.71268472e-01, -5.39924726e-01],\n",
       "       [-3.93561525e-01, -3.73415365e-01, -2.26864715e-01],\n",
       "       [-1.27661628e+00, -1.08059654e+00, -1.22336893e+00],\n",
       "       [-2.55555238e-01, -1.28154300e+00, -7.34581893e-01],\n",
       "       [-1.34449651e+00,  5.47445618e-01, -9.17588604e-01],\n",
       "       [ 7.34358275e-01, -6.40493778e-01,  4.89446525e-01],\n",
       "       [-1.22407898e+00,  1.97588794e+00, -1.10765597e+00],\n",
       "       [-2.32404205e-01,  1.16595718e+00,  1.74933087e-01],\n",
       "       [ 3.90238604e-01,  3.14383626e-01,  8.70924157e-01],\n",
       "       [-9.11042003e-01,  1.38027800e+00, -3.41798001e-01],\n",
       "       [-7.01573907e-01,  2.77174460e-01, -8.19709831e-01],\n",
       "       [ 2.63460353e-01, -9.32448351e-01,  8.01141232e-01],\n",
       "       [-4.46571942e-01,  4.96718162e-01,  7.83883231e-01],\n",
       "       [-5.99910432e-01, -7.61555313e-02,  3.30983485e-02],\n",
       "       [ 1.23438218e+00, -1.07058025e+00,  6.26437706e-01],\n",
       "       [ 8.33078813e-01, -5.51197054e-01,  7.34664855e-01],\n",
       "       [ 1.59714277e-01,  7.50992541e-01,  5.37043388e-02],\n",
       "       [ 1.19258896e+00, -2.97278009e-01,  8.26331703e-01],\n",
       "       [ 4.12574479e-01, -1.47478396e-01,  7.45845098e-01],\n",
       "       [-6.00330213e-02, -1.57223347e-01, -4.66757743e-01],\n",
       "       [ 1.04852762e+00,  2.97637645e-01,  8.25866312e-01],\n",
       "       [-1.32435421e+00,  1.45006491e+00, -3.87365361e-01],\n",
       "       [-4.34281675e-01, -6.52404712e-01,  4.07597215e-01],\n",
       "       [ 6.36096223e-01, -7.00947304e-01, -1.53689341e-01],\n",
       "       [ 1.75524997e+00, -1.17566111e+00,  1.70937709e+00],\n",
       "       [ 9.31477579e-01, -4.84763049e-01,  1.04430595e-01],\n",
       "       [ 4.94187213e-01,  1.15538029e+00,  9.94718423e-01],\n",
       "       [ 7.58134871e-01, -1.37641930e+00,  1.08397970e+00],\n",
       "       [-7.32485353e-02,  2.29889453e-01,  4.35407991e-01],\n",
       "       [ 9.93649688e-02, -8.50790195e-02,  3.04938573e-01],\n",
       "       [-6.13177658e-01,  1.51686446e+00,  7.85555589e-01],\n",
       "       [ 7.08292623e-01,  9.59018098e-01,  1.63482407e+00],\n",
       "       [-4.01704998e-01,  6.27071893e-01, -8.46354950e-01],\n",
       "       [ 3.79214694e-01,  3.77599724e-01,  5.00032465e-01],\n",
       "       [ 6.27753787e-01, -9.22369294e-01,  4.79586810e-01],\n",
       "       [-5.94946579e-01, -1.23128082e-01, -4.98467136e-01],\n",
       "       [ 5.85070845e-01,  8.50810491e-02,  2.27781515e-01],\n",
       "       [-1.06480316e+00, -1.75623524e-02, -5.74345217e-01],\n",
       "       [-2.18604623e-01,  4.95936113e-01, -5.17022257e-01],\n",
       "       [-5.69097781e-02,  5.82268523e-01,  1.00560024e+00],\n",
       "       [-9.65975398e-01, -5.99202936e-01, -9.24594136e-01],\n",
       "       [-3.61046576e-04,  1.02662180e+00,  3.35835722e-01],\n",
       "       [ 1.09662192e+00,  4.00137088e-01,  1.22845627e+00],\n",
       "       [ 1.08719272e+00, -1.23259782e+00,  4.48187378e-01],\n",
       "       [ 1.36332987e+00, -2.53803762e+00,  2.85157289e-01]])"
      ]
     },
     "execution_count": 53,
     "metadata": {},
     "output_type": "execute_result"
    }
   ],
   "source": [
    "datos\n"
   ]
  },
  {
   "cell_type": "code",
   "execution_count": 54,
   "metadata": {},
   "outputs": [
    {
     "data": {
      "text/plain": [
       "(60, 3)"
      ]
     },
     "execution_count": 54,
     "metadata": {},
     "output_type": "execute_result"
    }
   ],
   "source": [
    "datos.shape"
   ]
  },
  {
   "cell_type": "code",
   "execution_count": 55,
   "metadata": {},
   "outputs": [],
   "source": [
    "# regular grid covering the domain of the data\n",
    "XX,YY = np.meshgrid(np.arange(-3.0, 3.0, 0.5), np.arange(-3.0, 3.0, 0.5))\n",
    "X = XX.flatten()\n",
    "Y = YY.flatten()"
   ]
  },
  {
   "cell_type": "code",
   "execution_count": 56,
   "metadata": {},
   "outputs": [],
   "source": [
    "order = 2    # 1: linear, 2: quadratic\n",
    "if order == 1:\n",
    "    # best-fit linear plane: Z = a·X + b·Y + c\n",
    "    A = np.c_[datos[:,0], datos[:,1], np.ones(datos.shape[0])]\n",
    "    pars, residues, rank, s = scipy.linalg.lstsq(A, datos[:,2])    # coefficients\n",
    "    \n",
    "    # evaluate it on grid\n",
    "    a, b, c = pars\n",
    "    ZZ = a * XX + b * YY + c\n",
    "    \n",
    "    # or expressed using matrix/vector product\n",
    "    #Z = np.dot(np.c_[XX, YY, np.ones(XX.shape)], C).reshape(X.shape)\n",
    "\n",
    "elif order == 2:\n",
    "    # best-fit quadratic curve: Z = a + b·X + c·Y + d·X·Y + e·X² + f·Y²\n",
    "    A = np.c_[np.ones(datos.shape[0]), datos[:,:2], np.prod(datos[:,:2], axis=1), datos[:,:2]**2]\n",
    "    pars, residues, rank, s = scipy.linalg.lstsq(A, datos[:,2])\n",
    "    \n",
    "    # evaluate it on a grid\n",
    "    a, b, c, d, e, f = pars\n",
    "    ZZ = np.dot(np.c_[np.ones(X.shape), X, Y, X*Y, X**2, Y**2], pars).reshape(XX.shape)"
   ]
  },
  {
   "cell_type": "code",
   "execution_count": 57,
   "metadata": {},
   "outputs": [
    {
     "data": {
      "image/png": "[encoded data removed]",
      "text/plain": [
       "<Figure size 360x360 with 1 Axes>"
      ]
     },
     "metadata": {},
     "output_type": "display_data"
    }
   ],
   "source": [
    "plt.figure(figsize=(5, 5))\n",
    "plt.scatter(XX, YY, s=10, c=ZZ, cmap='viridis')\n",
    "plt.scatter(datos[:,0], datos[:,1], marker='x', c=datos[:,2], cmap='viridis')\n",
    "plt.xlabel('X')\n",
    "plt.ylabel('Y')\n",
    "plt.axis('equal');"
   ]
  },
  {
   "cell_type": "code",
   "execution_count": 58,
   "metadata": {},
   "outputs": [
    {
     "data": {
      "image/png": "[encoded data removed]",
      "text/plain": [
       "<Figure size 432x288 with 1 Axes>"
      ]
     },
     "metadata": {},
     "output_type": "display_data"
    }
   ],
   "source": [
    "# plot points and fitted surface\n",
    "fig = plt.figure()\n",
    "ax = fig.gca(projection='3d')\n",
    "ax.plot_surface(XX, YY, ZZ, rstride=1, cstride=1, alpha=0.2)\n",
    "ax.scatter(datos[:,0], datos[:,1], datos[:,2], c='r', s=50)\n",
    "plt.xlabel('X')\n",
    "plt.ylabel('Y')\n",
    "ax.set_zlabel('Z')\n",
    "# ax.axis('equal')\n",
    "ax.axis('tight')\n",
    "plt.show()"
   ]
  },
  {
   "cell_type": "code",
   "execution_count": 59,
   "metadata": {},
   "outputs": [
    {
     "data": {
      "text/plain": [
       "array([ 0.15824136,  0.80097041,  0.33835917,  0.06016483, -0.03991734,\n",
       "       -0.00157343])"
      ]
     },
     "execution_count": 59,
     "metadata": {},
     "output_type": "execute_result"
    }
   ],
   "source": [
    "pars"
   ]
  },
  {
   "cell_type": "markdown",
   "metadata": {},
   "source": [
    " # parte IV: A partir de una malla regular con los datos del ábaco"
   ]
  },
  {
   "cell_type": "code",
   "execution_count": 60,
   "metadata": {},
   "outputs": [
    {
     "data": {
      "text/plain": [
       "(21, 7)"
      ]
     },
     "execution_count": 60,
     "metadata": {},
     "output_type": "execute_result"
    }
   ],
   "source": [
    "abaco.shape"
   ]
  },
  {
   "cell_type": "code",
   "execution_count": 61,
   "metadata": {},
   "outputs": [
    {
     "data": {
      "text/html": [
       "<div>\n",
       "<style scoped>\n",
       "    .dataframe tbody tr th:only-of-type {\n",
       "        vertical-align: middle;\n",
       "    }\n",
       "\n",
       "    .dataframe tbody tr th {\n",
       "        vertical-align: top;\n",
       "    }\n",
       "\n",
       "    .dataframe thead th {\n",
       "        text-align: right;\n",
       "    }\n",
       "</style>\n",
       "<table border=\"1\" class=\"dataframe\">\n",
       "  <thead>\n",
       "    <tr style=\"text-align: right;\">\n",
       "      <th></th>\n",
       "      <th>Q5</th>\n",
       "      <th>Q10</th>\n",
       "      <th>Q25</th>\n",
       "      <th>Q50</th>\n",
       "      <th>Q100</th>\n",
       "      <th>Q500</th>\n",
       "      <th>I</th>\n",
       "    </tr>\n",
       "    <tr>\n",
       "      <th>S</th>\n",
       "      <th></th>\n",
       "      <th></th>\n",
       "      <th></th>\n",
       "      <th></th>\n",
       "      <th></th>\n",
       "      <th></th>\n",
       "      <th></th>\n",
       "    </tr>\n",
       "  </thead>\n",
       "  <tbody>\n",
       "    <tr>\n",
       "      <th>1</th>\n",
       "      <td>3.00</td>\n",
       "      <td>4.00</td>\n",
       "      <td>5.50</td>\n",
       "      <td>7.00</td>\n",
       "      <td>8.25</td>\n",
       "      <td>12.00</td>\n",
       "      <td>20.00</td>\n",
       "    </tr>\n",
       "    <tr>\n",
       "      <th>2</th>\n",
       "      <td>3.00</td>\n",
       "      <td>4.00</td>\n",
       "      <td>5.20</td>\n",
       "      <td>6.65</td>\n",
       "      <td>7.33</td>\n",
       "      <td>11.00</td>\n",
       "      <td>18.00</td>\n",
       "    </tr>\n",
       "    <tr>\n",
       "      <th>3</th>\n",
       "      <td>3.00</td>\n",
       "      <td>4.00</td>\n",
       "      <td>4.90</td>\n",
       "      <td>6.00</td>\n",
       "      <td>7.10</td>\n",
       "      <td>10.05</td>\n",
       "      <td>17.00</td>\n",
       "    </tr>\n",
       "    <tr>\n",
       "      <th>4</th>\n",
       "      <td>3.00</td>\n",
       "      <td>3.80</td>\n",
       "      <td>4.60</td>\n",
       "      <td>5.40</td>\n",
       "      <td>6.80</td>\n",
       "      <td>9.90</td>\n",
       "      <td>16.20</td>\n",
       "    </tr>\n",
       "    <tr>\n",
       "      <th>5</th>\n",
       "      <td>2.90</td>\n",
       "      <td>3.75</td>\n",
       "      <td>4.40</td>\n",
       "      <td>5.20</td>\n",
       "      <td>6.40</td>\n",
       "      <td>9.50</td>\n",
       "      <td>15.60</td>\n",
       "    </tr>\n",
       "    <tr>\n",
       "      <th>6</th>\n",
       "      <td>2.85</td>\n",
       "      <td>3.60</td>\n",
       "      <td>4.25</td>\n",
       "      <td>5.00</td>\n",
       "      <td>6.15</td>\n",
       "      <td>9.10</td>\n",
       "      <td>15.00</td>\n",
       "    </tr>\n",
       "    <tr>\n",
       "      <th>7</th>\n",
       "      <td>2.80</td>\n",
       "      <td>3.40</td>\n",
       "      <td>4.10</td>\n",
       "      <td>4.75</td>\n",
       "      <td>5.80</td>\n",
       "      <td>8.60</td>\n",
       "      <td>14.00</td>\n",
       "    </tr>\n",
       "    <tr>\n",
       "      <th>10</th>\n",
       "      <td>2.70</td>\n",
       "      <td>3.20</td>\n",
       "      <td>3.75</td>\n",
       "      <td>4.20</td>\n",
       "      <td>5.20</td>\n",
       "      <td>8.00</td>\n",
       "      <td>13.00</td>\n",
       "    </tr>\n",
       "    <tr>\n",
       "      <th>15</th>\n",
       "      <td>2.40</td>\n",
       "      <td>2.90</td>\n",
       "      <td>3.35</td>\n",
       "      <td>3.80</td>\n",
       "      <td>4.60</td>\n",
       "      <td>7.10</td>\n",
       "      <td>11.50</td>\n",
       "    </tr>\n",
       "    <tr>\n",
       "      <th>20</th>\n",
       "      <td>2.35</td>\n",
       "      <td>2.60</td>\n",
       "      <td>3.10</td>\n",
       "      <td>3.30</td>\n",
       "      <td>4.20</td>\n",
       "      <td>6.60</td>\n",
       "      <td>10.05</td>\n",
       "    </tr>\n",
       "    <tr>\n",
       "      <th>50</th>\n",
       "      <td>1.80</td>\n",
       "      <td>2.20</td>\n",
       "      <td>2.40</td>\n",
       "      <td>2.75</td>\n",
       "      <td>3.40</td>\n",
       "      <td>5.00</td>\n",
       "      <td>8.00</td>\n",
       "    </tr>\n",
       "    <tr>\n",
       "      <th>100</th>\n",
       "      <td>1.60</td>\n",
       "      <td>1.85</td>\n",
       "      <td>1.90</td>\n",
       "      <td>2.30</td>\n",
       "      <td>2.60</td>\n",
       "      <td>4.00</td>\n",
       "      <td>6.20</td>\n",
       "    </tr>\n",
       "    <tr>\n",
       "      <th>150</th>\n",
       "      <td>1.40</td>\n",
       "      <td>1.55</td>\n",
       "      <td>1.75</td>\n",
       "      <td>1.95</td>\n",
       "      <td>2.40</td>\n",
       "      <td>3.50</td>\n",
       "      <td>5.60</td>\n",
       "    </tr>\n",
       "    <tr>\n",
       "      <th>200</th>\n",
       "      <td>1.30</td>\n",
       "      <td>1.45</td>\n",
       "      <td>1.60</td>\n",
       "      <td>1.80</td>\n",
       "      <td>2.20</td>\n",
       "      <td>3.20</td>\n",
       "      <td>5.00</td>\n",
       "    </tr>\n",
       "    <tr>\n",
       "      <th>500</th>\n",
       "      <td>1.05</td>\n",
       "      <td>1.16</td>\n",
       "      <td>1.27</td>\n",
       "      <td>1.41</td>\n",
       "      <td>1.60</td>\n",
       "      <td>2.30</td>\n",
       "      <td>3.50</td>\n",
       "    </tr>\n",
       "    <tr>\n",
       "      <th>1000</th>\n",
       "      <td>0.90</td>\n",
       "      <td>0.95</td>\n",
       "      <td>1.05</td>\n",
       "      <td>1.15</td>\n",
       "      <td>1.30</td>\n",
       "      <td>1.95</td>\n",
       "      <td>3.00</td>\n",
       "    </tr>\n",
       "    <tr>\n",
       "      <th>2000</th>\n",
       "      <td>0.75</td>\n",
       "      <td>0.80</td>\n",
       "      <td>0.85</td>\n",
       "      <td>0.95</td>\n",
       "      <td>1.05</td>\n",
       "      <td>1.60</td>\n",
       "      <td>2.40</td>\n",
       "    </tr>\n",
       "    <tr>\n",
       "      <th>5000</th>\n",
       "      <td>0.58</td>\n",
       "      <td>0.62</td>\n",
       "      <td>0.68</td>\n",
       "      <td>0.73</td>\n",
       "      <td>0.80</td>\n",
       "      <td>1.20</td>\n",
       "      <td>1.75</td>\n",
       "    </tr>\n",
       "    <tr>\n",
       "      <th>10000</th>\n",
       "      <td>0.50</td>\n",
       "      <td>0.52</td>\n",
       "      <td>0.55</td>\n",
       "      <td>0.60</td>\n",
       "      <td>0.63</td>\n",
       "      <td>0.95</td>\n",
       "      <td>1.45</td>\n",
       "    </tr>\n",
       "    <tr>\n",
       "      <th>15000</th>\n",
       "      <td>0.45</td>\n",
       "      <td>0.47</td>\n",
       "      <td>0.50</td>\n",
       "      <td>0.53</td>\n",
       "      <td>0.56</td>\n",
       "      <td>0.85</td>\n",
       "      <td>1.26</td>\n",
       "    </tr>\n",
       "    <tr>\n",
       "      <th>20000</th>\n",
       "      <td>0.42</td>\n",
       "      <td>0.44</td>\n",
       "      <td>0.46</td>\n",
       "      <td>0.49</td>\n",
       "      <td>0.52</td>\n",
       "      <td>0.79</td>\n",
       "      <td>1.18</td>\n",
       "    </tr>\n",
       "  </tbody>\n",
       "</table>\n",
       "</div>"
      ],
      "text/plain": [
       "         Q5   Q10   Q25   Q50  Q100   Q500      I\n",
       "S                                                \n",
       "1      3.00  4.00  5.50  7.00  8.25  12.00  20.00\n",
       "2      3.00  4.00  5.20  6.65  7.33  11.00  18.00\n",
       "3      3.00  4.00  4.90  6.00  7.10  10.05  17.00\n",
       "4      3.00  3.80  4.60  5.40  6.80   9.90  16.20\n",
       "5      2.90  3.75  4.40  5.20  6.40   9.50  15.60\n",
       "6      2.85  3.60  4.25  5.00  6.15   9.10  15.00\n",
       "7      2.80  3.40  4.10  4.75  5.80   8.60  14.00\n",
       "10     2.70  3.20  3.75  4.20  5.20   8.00  13.00\n",
       "15     2.40  2.90  3.35  3.80  4.60   7.10  11.50\n",
       "20     2.35  2.60  3.10  3.30  4.20   6.60  10.05\n",
       "50     1.80  2.20  2.40  2.75  3.40   5.00   8.00\n",
       "100    1.60  1.85  1.90  2.30  2.60   4.00   6.20\n",
       "150    1.40  1.55  1.75  1.95  2.40   3.50   5.60\n",
       "200    1.30  1.45  1.60  1.80  2.20   3.20   5.00\n",
       "500    1.05  1.16  1.27  1.41  1.60   2.30   3.50\n",
       "1000   0.90  0.95  1.05  1.15  1.30   1.95   3.00\n",
       "2000   0.75  0.80  0.85  0.95  1.05   1.60   2.40\n",
       "5000   0.58  0.62  0.68  0.73  0.80   1.20   1.75\n",
       "10000  0.50  0.52  0.55  0.60  0.63   0.95   1.45\n",
       "15000  0.45  0.47  0.50  0.53  0.56   0.85   1.26\n",
       "20000  0.42  0.44  0.46  0.49  0.52   0.79   1.18"
      ]
     },
     "execution_count": 61,
     "metadata": {},
     "output_type": "execute_result"
    }
   ],
   "source": [
    "abaco"
   ]
  },
  {
   "cell_type": "code",
   "execution_count": 62,
   "metadata": {},
   "outputs": [],
   "source": [
    "data = pd.DataFrame(index=np.arange(abaco.shape[0] * abaco.shape[1]), columns=['S', 'Perido  retorno', 'Q'])\n",
    "data.iloc[0,:] = [100, 5, 1.60]"
   ]
  },
  {
   "cell_type": "code",
   "execution_count": 63,
   "metadata": {},
   "outputs": [
    {
     "data": {
      "text/html": [
       "<div>\n",
       "<style scoped>\n",
       "    .dataframe tbody tr th:only-of-type {\n",
       "        vertical-align: middle;\n",
       "    }\n",
       "\n",
       "    .dataframe tbody tr th {\n",
       "        vertical-align: top;\n",
       "    }\n",
       "\n",
       "    .dataframe thead th {\n",
       "        text-align: right;\n",
       "    }\n",
       "</style>\n",
       "<table border=\"1\" class=\"dataframe\">\n",
       "  <thead>\n",
       "    <tr style=\"text-align: right;\">\n",
       "      <th></th>\n",
       "      <th>S</th>\n",
       "      <th>Perido  retorno</th>\n",
       "      <th>Q</th>\n",
       "    </tr>\n",
       "  </thead>\n",
       "  <tbody>\n",
       "    <tr>\n",
       "      <th>0</th>\n",
       "      <td>100</td>\n",
       "      <td>5</td>\n",
       "      <td>1.6</td>\n",
       "    </tr>\n",
       "    <tr>\n",
       "      <th>1</th>\n",
       "      <td>NaN</td>\n",
       "      <td>NaN</td>\n",
       "      <td>NaN</td>\n",
       "    </tr>\n",
       "  </tbody>\n",
       "</table>\n",
       "</div>"
      ],
      "text/plain": [
       "     S Perido  retorno    Q\n",
       "0  100               5  1.6\n",
       "1  NaN             NaN  NaN"
      ]
     },
     "execution_count": 63,
     "metadata": {},
     "output_type": "execute_result"
    }
   ],
   "source": [
    "data.head(2)"
   ]
  },
  {
   "cell_type": "code",
   "execution_count": 64,
   "metadata": {},
   "outputs": [
    {
     "data": {
      "text/plain": [
       "(147, 3)"
      ]
     },
     "execution_count": 64,
     "metadata": {},
     "output_type": "execute_result"
    }
   ],
   "source": [
    "data.shape"
   ]
  },
  {
   "cell_type": "code",
   "execution_count": 65,
   "metadata": {},
   "outputs": [
    {
     "ename": "ValueError",
     "evalue": "invalid literal for int() with base 10: ''",
     "output_type": "error",
     "traceback": [
      "\u001b[1;31m---------------------------------------------------------------------------\u001b[0m",
      "\u001b[1;31mValueError\u001b[0m                                Traceback (most recent call last)",
      "\u001b[1;32m<ipython-input-65-93fbcf0f040a>\u001b[0m in \u001b[0;36m<module>\u001b[1;34m\u001b[0m\n\u001b[0;32m      2\u001b[0m \u001b[1;32mfor\u001b[0m \u001b[0mcol\u001b[0m \u001b[1;32min\u001b[0m \u001b[0mabaco\u001b[0m\u001b[1;33m.\u001b[0m\u001b[0mcolumns\u001b[0m\u001b[1;33m:\u001b[0m\u001b[1;33m\u001b[0m\u001b[1;33m\u001b[0m\u001b[0m\n\u001b[0;32m      3\u001b[0m     \u001b[1;32mfor\u001b[0m \u001b[0mindex\u001b[0m \u001b[1;32min\u001b[0m \u001b[0mabaco\u001b[0m\u001b[1;33m.\u001b[0m\u001b[0mindex\u001b[0m\u001b[1;33m:\u001b[0m\u001b[1;33m\u001b[0m\u001b[1;33m\u001b[0m\u001b[0m\n\u001b[1;32m----> 4\u001b[1;33m         \u001b[0mdata\u001b[0m\u001b[1;33m.\u001b[0m\u001b[0mappend\u001b[0m\u001b[1;33m(\u001b[0m\u001b[1;33m[\u001b[0m\u001b[0mnp\u001b[0m\u001b[1;33m.\u001b[0m\u001b[0mlog10\u001b[0m\u001b[1;33m(\u001b[0m\u001b[0mindex\u001b[0m\u001b[1;33m)\u001b[0m\u001b[1;33m,\u001b[0m\u001b[1;33m(\u001b[0m\u001b[0mint\u001b[0m\u001b[1;33m(\u001b[0m\u001b[0mcol\u001b[0m\u001b[1;33m[\u001b[0m\u001b[1;36m1\u001b[0m\u001b[1;33m:\u001b[0m\u001b[1;33m]\u001b[0m\u001b[1;33m)\u001b[0m\u001b[1;33m)\u001b[0m\u001b[1;33m,\u001b[0m \u001b[0mnp\u001b[0m\u001b[1;33m.\u001b[0m\u001b[0mlog10\u001b[0m\u001b[1;33m(\u001b[0m\u001b[0mabaco\u001b[0m\u001b[1;33m[\u001b[0m\u001b[0mcol\u001b[0m\u001b[1;33m]\u001b[0m\u001b[1;33m.\u001b[0m\u001b[0mloc\u001b[0m\u001b[1;33m[\u001b[0m\u001b[0mindex\u001b[0m\u001b[1;33m]\u001b[0m\u001b[1;33m)\u001b[0m\u001b[1;33m]\u001b[0m\u001b[1;33m)\u001b[0m\u001b[1;33m\u001b[0m\u001b[1;33m\u001b[0m\u001b[0m\n\u001b[0m\u001b[0;32m      5\u001b[0m \u001b[0mdata\u001b[0m  \u001b[1;33m=\u001b[0m \u001b[0mnp\u001b[0m\u001b[1;33m.\u001b[0m\u001b[0marray\u001b[0m\u001b[1;33m(\u001b[0m\u001b[0mdata\u001b[0m\u001b[1;33m)\u001b[0m\u001b[1;33m\u001b[0m\u001b[1;33m\u001b[0m\u001b[0m\n",
      "\u001b[1;31mValueError\u001b[0m: invalid literal for int() with base 10: ''"
     ]
    }
   ],
   "source": [
    "data= []\n",
    "for col in abaco.columns:\n",
    "    for index in abaco.index:\n",
    "        data.append([np.log10(index),(int(col[1:])), np.log10(abaco[col].loc[index])]) \n",
    "data  = np.array(data)  "
   ]
  },
  {
   "cell_type": "code",
   "execution_count": null,
   "metadata": {},
   "outputs": [],
   "source": [
    "# datanew.shape\n",
    "# Una lista no tiene shape"
   ]
  },
  {
   "cell_type": "code",
   "execution_count": 66,
   "metadata": {},
   "outputs": [
    {
     "data": {
      "text/plain": [
       "[[0.0, 5, 0.47712125471966244],\n",
       " [0.3010299956639812, 5, 0.47712125471966244],\n",
       " [0.47712125471966244, 5, 0.47712125471966244],\n",
       " [0.6020599913279624, 5, 0.47712125471966244],\n",
       " [0.6989700043360189, 5, 0.4623979978989561],\n",
       " [0.7781512503836436, 5, 0.4548448600085102],\n",
       " [0.8450980400142568, 5, 0.4471580313422192],\n",
       " [1.0, 5, 0.43136376415898736],\n",
       " [1.1760912590556813, 5, 0.38021124171160603],\n",
       " [1.3010299956639813, 5, 0.37106786227173627],\n",
       " [1.6989700043360187, 5, 0.25527250510330607],\n",
       " [2.0, 5, 0.2041199826559248],\n",
       " [2.1760912590556813, 5, 0.146128035678238],\n",
       " [2.3010299956639813, 5, 0.11394335230683679],\n",
       " [2.6989700043360187, 5, 0.021189299069938092],\n",
       " [3.0, 5, -0.045757490560675115],\n",
       " [3.3010299956639813, 5, -0.12493873660829995],\n",
       " [3.6989700043360187, 5, -0.23657200643706275],\n",
       " [4.0, 5, -0.3010299956639812],\n",
       " [4.176091259055681, 5, -0.3467874862246563],\n",
       " [4.301029995663981, 5, -0.37675070960209955],\n",
       " [0.0, 10, 0.6020599913279624],\n",
       " [0.3010299956639812, 10, 0.6020599913279624],\n",
       " [0.47712125471966244, 10, 0.6020599913279624],\n",
       " [0.6020599913279624, 10, 0.5797835966168101],\n",
       " [0.6989700043360189, 10, 0.5740312677277188],\n",
       " [0.7781512503836436, 10, 0.5563025007672873],\n",
       " [0.8450980400142568, 10, 0.5314789170422551],\n",
       " [1.0, 10, 0.505149978319906],\n",
       " [1.1760912590556813, 10, 0.4623979978989561],\n",
       " [1.3010299956639813, 10, 0.414973347970818],\n",
       " [1.6989700043360187, 10, 0.3424226808222063],\n",
       " [2.0, 10, 0.26717172840301384],\n",
       " [2.1760912590556813, 10, 0.1903316981702915],\n",
       " [2.3010299956639813, 10, 0.16136800223497488],\n",
       " [2.6989700043360187, 10, 0.06445798922691845],\n",
       " [3.0, 10, -0.022276394711152253],\n",
       " [3.3010299956639813, 10, -0.09691001300805639],\n",
       " [3.6989700043360187, 10, -0.20760831050174613],\n",
       " [4.0, 10, -0.28399665636520083],\n",
       " [4.176091259055681, 10, -0.3279021420642826],\n",
       " [4.301029995663981, 10, -0.3565473235138126],\n",
       " [0.0, 25, 0.7403626894942439],\n",
       " [0.3010299956639812, 25, 0.7160033436347992],\n",
       " [0.47712125471966244, 25, 0.6901960800285137],\n",
       " [0.6020599913279624, 25, 0.6627578316815741],\n",
       " [0.6989700043360189, 25, 0.6434526764861874],\n",
       " [0.7781512503836436, 25, 0.6283889300503115],\n",
       " [0.8450980400142568, 25, 0.6127838567197355],\n",
       " [1.0, 25, 0.5740312677277188],\n",
       " [1.1760912590556813, 25, 0.5250448070368452],\n",
       " [1.3010299956639813, 25, 0.4913616938342727],\n",
       " [1.6989700043360187, 25, 0.38021124171160603],\n",
       " [2.0, 25, 0.2787536009528289],\n",
       " [2.1760912590556813, 25, 0.24303804868629444],\n",
       " [2.3010299956639813, 25, 0.2041199826559248],\n",
       " [2.6989700043360187, 25, 0.10380372095595687],\n",
       " [3.0, 25, 0.021189299069938092],\n",
       " [3.3010299956639813, 25, -0.07058107428570728],\n",
       " [3.6989700043360187, 25, -0.16749108729376366],\n",
       " [4.0, 25, -0.2596373105057561],\n",
       " [4.176091259055681, 25, -0.3010299956639812],\n",
       " [4.301029995663981, 25, -0.3372421683184259],\n",
       " [0.0, 50, 0.8450980400142568],\n",
       " [0.3010299956639812, 50, 0.8228216453031046],\n",
       " [0.47712125471966244, 50, 0.7781512503836436],\n",
       " [0.6020599913279624, 50, 0.7323937598229685],\n",
       " [0.6989700043360189, 50, 0.7160033436347992],\n",
       " [0.7781512503836436, 50, 0.6989700043360189],\n",
       " [0.8450980400142568, 50, 0.6766936096248666],\n",
       " [1.0, 50, 0.6232492903979004],\n",
       " [1.1760912590556813, 50, 0.5797835966168101],\n",
       " [1.3010299956639813, 50, 0.5185139398778874],\n",
       " [1.6989700043360187, 50, 0.43933269383026263],\n",
       " [2.0, 50, 0.36172783601759284],\n",
       " [2.1760912590556813, 50, 0.290034611362518],\n",
       " [2.3010299956639813, 50, 0.25527250510330607],\n",
       " [2.6989700043360187, 50, 0.14921911265537988],\n",
       " [3.0, 50, 0.06069784035361165],\n",
       " [3.3010299956639813, 50, -0.022276394711152253],\n",
       " [3.6989700043360187, 50, -0.1366771398795441],\n",
       " [4.0, 50, -0.2218487496163564],\n",
       " [4.176091259055681, 50, -0.27572413039921095],\n",
       " [4.301029995663981, 50, -0.3098039199714863],\n",
       " [0.0, 100, 0.9164539485499251],\n",
       " [0.3010299956639812, 100, 0.865103974641128],\n",
       " [0.47712125471966244, 100, 0.8512583487190752],\n",
       " [0.6020599913279624, 100, 0.8325089127062363],\n",
       " [0.6989700043360189, 100, 0.8061799739838872],\n",
       " [0.7781512503836436, 100, 0.7888751157754168],\n",
       " [0.8450980400142568, 100, 0.7634279935629372],\n",
       " [1.0, 100, 0.7160033436347992],\n",
       " [1.1760912590556813, 100, 0.6627578316815741],\n",
       " [1.3010299956639813, 100, 0.6232492903979004],\n",
       " [1.6989700043360187, 100, 0.5314789170422551],\n",
       " [2.0, 100, 0.414973347970818],\n",
       " [2.1760912590556813, 100, 0.38021124171160603],\n",
       " [2.3010299956639813, 100, 0.3424226808222063],\n",
       " [2.6989700043360187, 100, 0.2041199826559248],\n",
       " [3.0, 100, 0.11394335230683679],\n",
       " [3.3010299956639813, 100, 0.021189299069938092],\n",
       " [3.6989700043360187, 100, -0.09691001300805639],\n",
       " [4.0, 100, -0.2006594505464183],\n",
       " [4.176091259055681, 100, -0.25181197299379954],\n",
       " [4.301029995663981, 100, -0.28399665636520083],\n",
       " [0.0, 500, 1.0791812460476249],\n",
       " [0.3010299956639812, 500, 1.0413926851582251],\n",
       " [0.47712125471966244, 500, 1.0021660617565078],\n",
       " [0.6020599913279624, 500, 0.9956351945975499],\n",
       " [0.6989700043360189, 500, 0.9777236052888477],\n",
       " [0.7781512503836436, 500, 0.9590413923210935],\n",
       " [0.8450980400142568, 500, 0.9344984512435677],\n",
       " [1.0, 500, 0.9030899869919435],\n",
       " [1.1760912590556813, 500, 0.8512583487190752],\n",
       " [1.3010299956639813, 500, 0.8195439355418687],\n",
       " [1.6989700043360187, 500, 0.6989700043360189],\n",
       " [2.0, 500, 0.6020599913279624],\n",
       " [2.1760912590556813, 500, 0.5440680443502757],\n",
       " [2.3010299956639813, 500, 0.505149978319906],\n",
       " [2.6989700043360187, 500, 0.36172783601759284],\n",
       " [3.0, 500, 0.290034611362518],\n",
       " [3.3010299956639813, 500, 0.2041199826559248],\n",
       " [3.6989700043360187, 500, 0.07918124604762482],\n",
       " [4.0, 500, -0.022276394711152253],\n",
       " [4.176091259055681, 500, -0.07058107428570728],\n",
       " [4.301029995663981, 500, -0.10237290870955855]]"
      ]
     },
     "execution_count": 66,
     "metadata": {},
     "output_type": "execute_result"
    }
   ],
   "source": [
    "data"
   ]
  },
  {
   "cell_type": "code",
   "execution_count": 67,
   "metadata": {},
   "outputs": [
    {
     "ename": "AttributeError",
     "evalue": "'list' object has no attribute 'shape'",
     "output_type": "error",
     "traceback": [
      "\u001b[1;31m---------------------------------------------------------------------------\u001b[0m",
      "\u001b[1;31mAttributeError\u001b[0m                            Traceback (most recent call last)",
      "\u001b[1;32m<ipython-input-67-047ed65ff157>\u001b[0m in \u001b[0;36m<module>\u001b[1;34m\u001b[0m\n\u001b[1;32m----> 1\u001b[1;33m \u001b[0mdata\u001b[0m\u001b[1;33m.\u001b[0m\u001b[0mshape\u001b[0m\u001b[1;33m\u001b[0m\u001b[1;33m\u001b[0m\u001b[0m\n\u001b[0m",
      "\u001b[1;31mAttributeError\u001b[0m: 'list' object has no attribute 'shape'"
     ]
    }
   ],
   "source": [
    "data.shape"
   ]
  },
  {
   "cell_type": "code",
   "execution_count": 68,
   "metadata": {},
   "outputs": [
    {
     "ename": "TypeError",
     "evalue": "list indices must be integers or slices, not tuple",
     "output_type": "error",
     "traceback": [
      "\u001b[1;31m---------------------------------------------------------------------------\u001b[0m",
      "\u001b[1;31mTypeError\u001b[0m                                 Traceback (most recent call last)",
      "\u001b[1;32m<ipython-input-68-6658a2d76e40>\u001b[0m in \u001b[0;36m<module>\u001b[1;34m\u001b[0m\n\u001b[1;32m----> 1\u001b[1;33m \u001b[0mdata\u001b[0m\u001b[1;33m[\u001b[0m\u001b[1;33m:\u001b[0m\u001b[1;33m,\u001b[0m\u001b[1;36m1\u001b[0m\u001b[1;33m]\u001b[0m\u001b[1;33m.\u001b[0m\u001b[0mmin\u001b[0m\u001b[1;33m(\u001b[0m\u001b[1;33m)\u001b[0m\u001b[1;33m,\u001b[0m \u001b[0mdata\u001b[0m\u001b[1;33m[\u001b[0m\u001b[1;33m:\u001b[0m\u001b[1;33m,\u001b[0m\u001b[1;36m1\u001b[0m\u001b[1;33m]\u001b[0m\u001b[1;33m.\u001b[0m\u001b[0mmax\u001b[0m\u001b[1;33m(\u001b[0m\u001b[1;33m)\u001b[0m\u001b[1;33m\u001b[0m\u001b[1;33m\u001b[0m\u001b[0m\n\u001b[0m",
      "\u001b[1;31mTypeError\u001b[0m: list indices must be integers or slices, not tuple"
     ]
    }
   ],
   "source": [
    "data[:,1].min(), data[:,1].max()"
   ]
  },
  {
   "cell_type": "code",
   "execution_count": 69,
   "metadata": {},
   "outputs": [],
   "source": [
    "XX,YY = np.meshgrid(np.arange(np.log10(10), np.log10(50000), .5), np.array([5, 10, 25, 50, 100, 500]))\n",
    "X = XX.flatten()\n",
    "Y = YY.flatten()"
   ]
  },
  {
   "cell_type": "code",
   "execution_count": 70,
   "metadata": {},
   "outputs": [
    {
     "ename": "AttributeError",
     "evalue": "'list' object has no attribute 'shape'",
     "output_type": "error",
     "traceback": [
      "\u001b[1;31m---------------------------------------------------------------------------\u001b[0m",
      "\u001b[1;31mAttributeError\u001b[0m                            Traceback (most recent call last)",
      "\u001b[1;32m<ipython-input-70-9703c9f26593>\u001b[0m in \u001b[0;36m<module>\u001b[1;34m\u001b[0m\n\u001b[0;32m     14\u001b[0m \u001b[1;32melif\u001b[0m \u001b[0morder\u001b[0m \u001b[1;33m==\u001b[0m \u001b[1;36m2\u001b[0m\u001b[1;33m:\u001b[0m\u001b[1;33m\u001b[0m\u001b[1;33m\u001b[0m\u001b[0m\n\u001b[0;32m     15\u001b[0m     \u001b[1;31m# best-fit quadratic curve: Z = a + b·X + c·Y + d·X·Y + e·X² + f·Y²\u001b[0m\u001b[1;33m\u001b[0m\u001b[1;33m\u001b[0m\u001b[1;33m\u001b[0m\u001b[0m\n\u001b[1;32m---> 16\u001b[1;33m     \u001b[0mA\u001b[0m \u001b[1;33m=\u001b[0m \u001b[0mnp\u001b[0m\u001b[1;33m.\u001b[0m\u001b[0mc_\u001b[0m\u001b[1;33m[\u001b[0m\u001b[0mnp\u001b[0m\u001b[1;33m.\u001b[0m\u001b[0mones\u001b[0m\u001b[1;33m(\u001b[0m\u001b[0mdata\u001b[0m\u001b[1;33m.\u001b[0m\u001b[0mshape\u001b[0m\u001b[1;33m[\u001b[0m\u001b[1;36m0\u001b[0m\u001b[1;33m]\u001b[0m\u001b[1;33m)\u001b[0m\u001b[1;33m,\u001b[0m \u001b[0mdata\u001b[0m\u001b[1;33m[\u001b[0m\u001b[1;33m:\u001b[0m\u001b[1;33m,\u001b[0m\u001b[1;33m:\u001b[0m\u001b[1;36m2\u001b[0m\u001b[1;33m]\u001b[0m\u001b[1;33m,\u001b[0m \u001b[0mnp\u001b[0m\u001b[1;33m.\u001b[0m\u001b[0mprod\u001b[0m\u001b[1;33m(\u001b[0m\u001b[0mdata\u001b[0m\u001b[1;33m[\u001b[0m\u001b[1;33m:\u001b[0m\u001b[1;33m,\u001b[0m\u001b[1;33m:\u001b[0m\u001b[1;36m2\u001b[0m\u001b[1;33m]\u001b[0m\u001b[1;33m,\u001b[0m \u001b[0maxis\u001b[0m\u001b[1;33m=\u001b[0m\u001b[1;36m1\u001b[0m\u001b[1;33m)\u001b[0m\u001b[1;33m,\u001b[0m \u001b[0mdata\u001b[0m\u001b[1;33m[\u001b[0m\u001b[1;33m:\u001b[0m\u001b[1;33m,\u001b[0m\u001b[1;33m:\u001b[0m\u001b[1;36m2\u001b[0m\u001b[1;33m]\u001b[0m\u001b[1;33m**\u001b[0m\u001b[1;36m2\u001b[0m\u001b[1;33m]\u001b[0m\u001b[1;33m\u001b[0m\u001b[1;33m\u001b[0m\u001b[0m\n\u001b[0m\u001b[0;32m     17\u001b[0m     \u001b[0mpars\u001b[0m\u001b[1;33m,\u001b[0m \u001b[0mresidues\u001b[0m\u001b[1;33m,\u001b[0m \u001b[0mrank\u001b[0m\u001b[1;33m,\u001b[0m \u001b[0ms\u001b[0m \u001b[1;33m=\u001b[0m \u001b[0mscipy\u001b[0m\u001b[1;33m.\u001b[0m\u001b[0mlinalg\u001b[0m\u001b[1;33m.\u001b[0m\u001b[0mlstsq\u001b[0m\u001b[1;33m(\u001b[0m\u001b[0mA\u001b[0m\u001b[1;33m,\u001b[0m \u001b[0mdata\u001b[0m\u001b[1;33m[\u001b[0m\u001b[1;33m:\u001b[0m\u001b[1;33m,\u001b[0m\u001b[1;36m2\u001b[0m\u001b[1;33m]\u001b[0m\u001b[1;33m)\u001b[0m\u001b[1;33m\u001b[0m\u001b[1;33m\u001b[0m\u001b[0m\n\u001b[0;32m     18\u001b[0m \u001b[1;33m\u001b[0m\u001b[0m\n",
      "\u001b[1;31mAttributeError\u001b[0m: 'list' object has no attribute 'shape'"
     ]
    }
   ],
   "source": [
    "order = 2    # 1: linear, 2: quadratic\n",
    "if order == 1:\n",
    "    # best-fit linear plane: Z = a·X + b·Y + c\n",
    "    A = np.c_[data[:,0], data[:,1], np.ones(data.shape[0])]\n",
    "    pars, residues, rank, s = scipy.linalg.lstsq(A, data[:,2])    # coefficients\n",
    "    \n",
    "    # evaluate it on grid\n",
    "    a, b, c = pars\n",
    "    ZZ = a * XX + b * YY + c\n",
    "    \n",
    "    # or expressed using matrix/vector product\n",
    "    #Z = np.dot(np.c_[XX, YY, np.ones(XX.shape)], C).reshape(X.shape)\n",
    "\n",
    "elif order == 2:\n",
    "    # best-fit quadratic curve: Z = a + b·X + c·Y + d·X·Y + e·X² + f·Y²\n",
    "    A = np.c_[np.ones(data.shape[0]), data[:,:2], np.prod(data[:,:2], axis=1), data[:,:2]**2]\n",
    "    pars, residues, rank, s = scipy.linalg.lstsq(A, data[:,2])\n",
    "    \n",
    "    # evaluate it on a grid\n",
    "    a, b, c, d, e, f = pars\n",
    "    ZZ = np.dot(np.c_[np.ones(X.shape), X, Y, X*Y, X**2, Y**2], pars).reshape(XX.shape)"
   ]
  },
  {
   "cell_type": "code",
   "execution_count": null,
   "metadata": {},
   "outputs": [],
   "source": [
    "pars"
   ]
  },
  {
   "cell_type": "code",
   "execution_count": null,
   "metadata": {},
   "outputs": [],
   "source": [
    "plt.figure(figsize=(5, 5))\n",
    "plt.scatter(XX, YY, s=10, c=ZZ, cmap='viridis')\n",
    "plt.scatter(data[:,0], data[:,1], marker='x', c=data[:,2], cmap='viridis')\n",
    "plt.xlabel('X')\n",
    "plt.ylabel('Y')\n",
    "plt.axis('equal');"
   ]
  },
  {
   "cell_type": "code",
   "execution_count": null,
   "metadata": {},
   "outputs": [],
   "source": [
    "plt.scatter(XX.flatten(), YY.flatten(), c=ZZ.flatten(), cmap='viridis')\n",
    "plt.xlabel('log10(S)')\n",
    "plt.ylabel('T');"
   ]
  },
  {
   "cell_type": "code",
   "execution_count": null,
   "metadata": {},
   "outputs": [],
   "source": [
    "# plot points and fitted surface\n",
    "fig = plt.figure()\n",
    "ax = fig.gca(projection='3d')\n",
    "ax.plot_surface(XX, YY, ZZ, rstride=1, cstride=1, alpha=0.2)\n",
    "ax.scatter(data[:,0], data[:,1], data[:,2], c='r', s=50)\n",
    "plt.xlabel('log10(S)')\n",
    "plt.ylabel('T')\n",
    "ax.set_zlabel('log10(Qs)')\n",
    "# ax.axis('equal')\n",
    "ax.axis('tight')\n",
    "plt.show()"
   ]
  },
  {
   "cell_type": "code",
   "execution_count": null,
   "metadata": {},
   "outputs": [],
   "source": [
    "pars"
   ]
  },
  {
   "cell_type": "code",
   "execution_count": null,
   "metadata": {},
   "outputs": [],
   "source": [
    "Pars = pd.Series(pars, index=['a', 'b', 'c', 'd','e','f'])\n",
    "\n",
    "Pars.to_csv('Parámetros_abaco.csv', header=None)"
   ]
  },
  {
   "cell_type": "code",
   "execution_count": null,
   "metadata": {},
   "outputs": [],
   "source": [
    "print('La ecuación queda de la siguiente manera: 0 = {0:.3f} + {1:.3f}(log S) + {2:.4f}T + {3:.4f} (log S)T+ {4:.4f} (log S)²+{5:.6f} T² -logQ '.format(*pars))"
   ]
  },
  {
   "cell_type": "code",
   "execution_count": null,
   "metadata": {},
   "outputs": [],
   "source": [
    "# best-fit quadratic curve: Z = a + b·X + c·Y + d·X·Y + e·X² + f·Y²"
   ]
  },
  {
   "cell_type": "code",
   "execution_count": null,
   "metadata": {},
   "outputs": [],
   "source": [
    "def QfromST(S, T, a, b, c, d, e, f):\n",
    "    Slog = np.log10(S)\n",
    "    Qlog = np.log10(Q)\n",
    "    \n",
    "    return 10**(a + b * Slog + c * T + d * Slog * T + e * Slog**2 + f * T**2)"
   ]
  },
  {
   "cell_type": "code",
   "execution_count": null,
   "metadata": {},
   "outputs": [],
   "source": [
    "QfromST(50000, 400, *pars)"
   ]
  },
  {
   "cell_type": "code",
   "execution_count": null,
   "metadata": {},
   "outputs": [],
   "source": [
    "S, Q = 50000, 0.4\n",
    "# 0.33 m3/s/Km2 \n",
    "\n",
    "def f(T, S=S, Q=Q, a=pars[0], b=pars[1], c=pars[2], d=pars[3], e=pars[4], f=pars[5]):\n",
    "    Slog = np.log10(S)\n",
    "    Qlog = np.log10(Q)\n",
    "    \n",
    "    return a + b * Slog + c * T + d * Slog * T + e * Slog**2 + f * T**2 - Qlog\n",
    "\n",
    "def fprime(T, S=S, c=pars[2], d=pars[3], f=pars[5]):\n",
    "    Slog = np.log10(S)\n",
    "\n",
    "    \n",
    "    return c + d * Slog + 2 * f * T"
   ]
  },
  {
   "cell_type": "code",
   "execution_count": null,
   "metadata": {},
   "outputs": [],
   "source": [
    "# calcular retorno por el método de Brent\n",
    "\n",
    "Tbrent = optimize.root_scalar(f, bracket=[1, 500], method='brentq').root\n",
    "Tbrent\n"
   ]
  },
  {
   "cell_type": "code",
   "execution_count": null,
   "metadata": {},
   "outputs": [],
   "source": [
    "# calcular retorno por el método de Newton\n",
    "Tnewton = optimize.root_scalar(f, x0=50, fprime=fprime, method='newton').root\n",
    "Tnewton"
   ]
  },
  {
   "cell_type": "code",
   "execution_count": null,
   "metadata": {},
   "outputs": [],
   "source": [
    "S = 20000\n",
    "\n",
    "Ts = [5, 10, 25, 50, 100, 500]\n",
    "Qabaco = abaco.loc[S,:]\n",
    "\n",
    "Ts_ = np.arange(1, 500, 2)\n",
    "Qs_ = np.array([QfromST(S, T, *pars) for T in Ts_])\n",
    "\n",
    "plt.figure(figsize=(8, 8))\n",
    "plt.scatter(np.log10(Ts), Qabaco);\n",
    "plt.plot(np.log10(Ts_), Qs_, 'k')\n",
    "plt.title('S = {0} km²'.format(S))\n",
    "plt.xlabel('T (años)')\n",
    "plt.ylabel('Q [m³/(s·km²)]')\n",
    "plt.ylim(-.1, 2.1);"
   ]
  },
  {
   "cell_type": "code",
   "execution_count": null,
   "metadata": {},
   "outputs": [],
   "source": [
    "Qs_ = []\n",
    "for T in Ts_:\n",
    "    Qs_.append(QfromST(S, T, *pars))\n",
    "\n",
    "Qs_"
   ]
  },
  {
   "cell_type": "code",
   "execution_count": null,
   "metadata": {},
   "outputs": [],
   "source": []
  },
  {
   "cell_type": "code",
   "execution_count": null,
   "metadata": {},
   "outputs": [],
   "source": []
  }
 ],
 "metadata": {
  "kernelspec": {
   "display_name": "Python 3",
   "language": "python",
   "name": "python3"
  },
  "language_info": {
   "codemirror_mode": {
    "name": "ipython",
    "version": 3
   },
   "file_extension": ".py",
   "mimetype": "text/x-python",
   "name": "python",
   "nbconvert_exporter": "python",
   "pygments_lexer": "ipython3",
   "version": "3.8.3"
  }
 },
 "nbformat": 4,
 "nbformat_minor": 4
}
