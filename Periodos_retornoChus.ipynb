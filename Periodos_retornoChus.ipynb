{
 "cells": [
  {
   "cell_type": "markdown",
   "metadata": {},
   "source": [
    "<img src=\"Avenida máxima probable. P.H. Norte II.jpg\">"
   ]
  },
  {
   "cell_type": "markdown",
   "metadata": {},
   "source": [
    "[Fit surface to polynomials in Python](https://gist.github.com/amroamroamro/1db8d69b4b65e8bc66a6)"
   ]
  },
  {
   "cell_type": "code",
   "execution_count": 1,
   "metadata": {},
   "outputs": [],
   "source": [
    "import numpy as np\n",
    "import pandas as pd\n",
    "from scipy import optimize\n",
    "import matplotlib.pyplot as plt\n",
    "import seaborn as sns\n",
    "sns.set()"
   ]
  },
  {
   "cell_type": "code",
   "execution_count": 2,
   "metadata": {},
   "outputs": [],
   "source": [
    "a = 3.5465\n",
    "b = 0.208\n",
    "c = 0.7727\n",
    "d = -0.0315"
   ]
  },
  {
   "cell_type": "code",
   "execution_count": null,
   "metadata": {},
   "outputs": [],
   "source": [
    "def Q_from_TS(T, S, a=3.5465, b=0.208, c=0.7727, d=-0.0315):\n",
    "    \"\"\"\"\"\"\n",
    "    \n",
    "    Q = a * T**b * S**(c + d * np.log10(T))\n",
    "    \n",
    "    return Q"
   ]
  },
  {
   "cell_type": "code",
   "execution_count": null,
   "metadata": {},
   "outputs": [],
   "source": [
    "T = 10 # años\n",
    "S = 270 # km²"
   ]
  },
  {
   "cell_type": "code",
   "execution_count": null,
   "metadata": {},
   "outputs": [],
   "source": [
    "Q = Q_from_TS(T, S)\n",
    "print('Q = {0:.1f} m³/s'.format(Q))"
   ]
  },
  {
   "cell_type": "code",
   "execution_count": 4,
   "metadata": {},
   "outputs": [],
   "source": [
    "Q=363\n",
    "S=270"
   ]
  },
  {
   "cell_type": "code",
   "execution_count": 5,
   "metadata": {},
   "outputs": [],
   "source": [
    "def f(T, S=S, Q=Q, a=3.5465, b=0.208, c=0.7727, d=-0.0315):\n",
    "    return round(a * T**b * S**(c + d * np.log10(T)) - Q, 1)"
   ]
  },
  {
   "cell_type": "code",
   "execution_count": 6,
   "metadata": {},
   "outputs": [],
   "source": [
    "def fprime(T, S=S, Q=Q, a=3.5465, b=0.208, c=0.7727, d=-0.0315):\n",
    "    return a * b * T**(b-1) * S**(c - d * np.log10(T)) + a * T**b * (d / (np.log(10) * T)) * S**(c +d * np.log10(T) - 1)"
   ]
  },
  {
   "cell_type": "code",
   "execution_count": 7,
   "metadata": {},
   "outputs": [],
   "source": [
    "# calcular retorno por el método de Brent\n",
    "Tbrent = optimize.root_scalar(f, bracket=[0.001, 1000], method='brentq').root"
   ]
  },
  {
   "cell_type": "code",
   "execution_count": 8,
   "metadata": {},
   "outputs": [],
   "source": [
    "# calcular retorno por el método de Newton\n",
    "Tnewton = optimize.root_scalar(f, x0=2, fprime=fprime, method='newton').root"
   ]
  },
  {
   "cell_type": "code",
   "execution_count": 9,
   "metadata": {},
   "outputs": [
    {
     "name": "stdout",
     "output_type": "stream",
     "text": [
      "Brent:\tT = 10.0 años\n",
      "Newton:\tT = 10.0 años\n"
     ]
    }
   ],
   "source": [
    "print('Brent:\\tT = {0:.1f} años'.format(Tbrent))\n",
    "print('Newton:\\tT = {0:.1f} años'.format(Tnewton))"
   ]
  },
  {
   "cell_type": "code",
   "execution_count": null,
   "metadata": {},
   "outputs": [],
   "source": [
    "T = 10"
   ]
  },
  {
   "cell_type": "code",
   "execution_count": null,
   "metadata": {},
   "outputs": [],
   "source": [
    "Ss = np.logspace(0, 4, num=30)\n",
    "Ts = [5, 10, 25, 50, 100]\n",
    "\n",
    "Qs = pd.DataFrame(index=Ss, columns=Ts)\n",
    "for T in Qs.columns:\n",
    "    Qs[T] = np.array([Q_from_TS(T, S) / S for S in Ss])"
   ]
  },
  {
   "cell_type": "code",
   "execution_count": null,
   "metadata": {},
   "outputs": [],
   "source": [
    "plt.figure(figsize=(16, 4))\n",
    "\n",
    "for T in Qs.columns:\n",
    "    plt.plot(Ss, Qs[T], label=T)\n",
    "\n",
    "yticks = np.linspace(0, 10, 11)\n",
    "plt.yticks(ticks=yticks, labels=yticks)\n",
    "plt.xlabel('S [km²]')\n",
    "plt.ylabel('Qesp [m³/(s·km²)]')\n",
    "plt.yscale('log')\n",
    "plt.xscale('log')\n",
    "plt.legend();"
   ]
  },
  {
   "cell_type": "code",
   "execution_count": null,
   "metadata": {},
   "outputs": [],
   "source": [
    "abaco = pd.read_excel('Periodos_retorno.xlsx', sheet_name='AMP', index_col='S')"
   ]
  },
  {
   "cell_type": "code",
   "execution_count": null,
   "metadata": {},
   "outputs": [],
   "source": [
    "# ajustar polinomio\n",
    "pars = np.polyfit(np.log10(abaco.index), np.log10(abaco.Q5), deg=3)\n",
    "print('log Qs = {0:.3f} (log S)³ + {1:.3f} (log S)² + {2:.3f} log S + {3:.3f}'.format(*pars))"
   ]
  },
  {
   "cell_type": "code",
   "execution_count": null,
   "metadata": {},
   "outputs": [],
   "source": [
    "# calcular puntos de la curva ajustada\n",
    "S_ = np.logspace(0, 5, 100)\n",
    "Q_ = 10**np.polyval(pars, np.log10(S_))"
   ]
  },
  {
   "cell_type": "code",
   "execution_count": null,
   "metadata": {},
   "outputs": [],
   "source": [
    "# gráfico\n",
    "plt.scatter(abaco.index, abaco.Q5, s=10, c='k', label='abaco')\n",
    "plt.plot(S_, Q_)\n",
    "\n",
    "plt.xscale('log')\n",
    "plt.yscale('log')"
   ]
  },
  {
   "cell_type": "markdown",
   "metadata": {},
   "source": [
    "***"
   ]
  },
  {
   "cell_type": "code",
   "execution_count": null,
   "metadata": {},
   "outputs": [],
   "source": [
    "import numpy as np\n",
    "import scipy.linalg\n",
    "from mpl_toolkits.mplot3d import Axes3D\n",
    "import matplotlib.pyplot as plt"
   ]
  },
  {
   "cell_type": "code",
   "execution_count": null,
   "metadata": {},
   "outputs": [],
   "source": [
    "# some 3-dim points\n",
    "mean = np.array([0.0,0.0,0.0])\n",
    "cov = np.array([[1.0,-0.5,0.8], [-0.5,1.1,0.0], [0.8,0.0,1.0]])\n",
    "data = np.random.multivariate_normal(mean, cov, 50)"
   ]
  },
  {
   "cell_type": "code",
   "execution_count": null,
   "metadata": {},
   "outputs": [],
   "source": [
    "data"
   ]
  },
  {
   "cell_type": "code",
   "execution_count": null,
   "metadata": {},
   "outputs": [],
   "source": [
    "# regular grid covering the domain of the data\n",
    "XX,YY = np.meshgrid(np.arange(-3.0, 3.0, 0.5), np.arange(-3.0, 3.0, 0.5))\n",
    "X = XX.flatten()\n",
    "Y = YY.flatten()"
   ]
  },
  {
   "cell_type": "code",
   "execution_count": null,
   "metadata": {},
   "outputs": [],
   "source": [
    "order = 2    # 1: linear, 2: quadratic\n",
    "if order == 1:\n",
    "    # best-fit linear plane: Z = a·X + b·Y + c\n",
    "    A = np.c_[data[:,0], data[:,1], np.ones(data.shape[0])]\n",
    "    pars, residues, rank, s = scipy.linalg.lstsq(A, data[:,2])    # coefficients\n",
    "    \n",
    "    # evaluate it on grid\n",
    "    a, b, c = pars\n",
    "    ZZ = a * XX + b * YY + c\n",
    "    \n",
    "    # or expressed using matrix/vector product\n",
    "    #Z = np.dot(np.c_[XX, YY, np.ones(XX.shape)], C).reshape(X.shape)\n",
    "\n",
    "elif order == 2:\n",
    "    # best-fit quadratic curve: Z = a + b·X + c·Y + d·X·Y + e·X² + f·Y²\n",
    "    A = np.c_[np.ones(data.shape[0]), data[:,:2], np.prod(data[:,:2], axis=1), data[:,:2]**2]\n",
    "    pars, residues, rank, s = scipy.linalg.lstsq(A, data[:,2])\n",
    "    \n",
    "    # evaluate it on a grid\n",
    "    a, b, c, d, e, f = pars\n",
    "    ZZ = np.dot(np.c_[np.ones(X.shape), X, Y, X*Y, X**2, Y**2], pars).reshape(XX.shape)"
   ]
  },
  {
   "cell_type": "code",
   "execution_count": null,
   "metadata": {},
   "outputs": [],
   "source": [
    "plt.figure(figsize=(5, 5))\n",
    "plt.scatter(XX, YY, s=10, c=ZZ, cmap='viridis')\n",
    "plt.scatter(data[:,0], data[:,1], marker='x', c=data[:,2], cmap='viridis')\n",
    "plt.xlabel('X')\n",
    "plt.ylabel('Y')\n",
    "plt.axis('equal');"
   ]
  },
  {
   "cell_type": "code",
   "execution_count": null,
   "metadata": {},
   "outputs": [],
   "source": [
    "# Z_ = np.polynomial.polynomial.polyval2d(X, Y, [pars[1], pars[2], pars[0]])"
   ]
  },
  {
   "cell_type": "code",
   "execution_count": null,
   "metadata": {},
   "outputs": [],
   "source": [
    "# plot points and fitted surface\n",
    "fig = plt.figure()\n",
    "ax = fig.gca(projection='3d')\n",
    "ax.plot_surface(XX, YY, ZZ, rstride=1, cstride=1, alpha=0.2)\n",
    "ax.scatter(data[:,0], data[:,1], data[:,2], c='r', s=50)\n",
    "plt.xlabel('X')\n",
    "plt.ylabel('Y')\n",
    "ax.set_zlabel('Z')\n",
    "# ax.axis('equal')\n",
    "ax.axis('tight')\n",
    "plt.show()"
   ]
  },
  {
   "cell_type": "code",
   "execution_count": null,
   "metadata": {},
   "outputs": [],
   "source": [
    "pars"
   ]
  },
  {
   "cell_type": "code",
   "execution_count": null,
   "metadata": {},
   "outputs": [],
   "source": []
  }
 ],
 "metadata": {
  "kernelspec": {
   "display_name": "Python 3",
   "language": "python",
   "name": "python3"
  },
  "language_info": {
   "codemirror_mode": {
    "name": "ipython",
    "version": 3
   },
   "file_extension": ".py",
   "mimetype": "text/x-python",
   "name": "python",
   "nbconvert_exporter": "python",
   "pygments_lexer": "ipython3",
   "version": "3.8.3"
  }
 },
 "nbformat": 4,
 "nbformat_minor": 4
}
